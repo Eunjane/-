{
  "nbformat": 4,
  "nbformat_minor": 0,
  "metadata": {
    "colab": {
      "name": "Lab4_Park.ipynb",
      "provenance": [],
      "collapsed_sections": [],
      "include_colab_link": true
    },
    "kernelspec": {
      "name": "ir",
      "display_name": "R"
    }
  },
  "cells": [
    {
      "cell_type": "markdown",
      "metadata": {
        "id": "view-in-github",
        "colab_type": "text"
      },
      "source": [
        "<a href=\"https://colab.research.google.com/github/Eunjane/J-sMathematical.github.io-/blob/main/R%20program%20lab4_Park.ipynb\" target=\"_parent\"><img src=\"https://colab.research.google.com/assets/colab-badge.svg\" alt=\"Open In Colab\"/></a>"
      ]
    },
    {
      "cell_type": "markdown",
      "metadata": {
        "id": "gtETsh5j8vHw"
      },
      "source": [
        "# **Lab 4: Working with JSON Format (22 points)**\n",
        "\n",
        "#### **WRITE YOUR NAME HERE**\n"
      ]
    },
    {
      "cell_type": "markdown",
      "metadata": {
        "id": "en9tcPcGuFyc"
      },
      "source": [
        "---\n",
        "**Instructions**: Complete the lab below.\n",
        "- <font color=red>Tasks</font> indicated in red must be completed to receive credit\n",
        "- Include all code for your work\n",
        "- Include markdown cells with written answers explaining your work when prompted\n",
        "- **NOTE: Your completed lab must be submitted to Canvas as a .ipynb file by the end of the lab session**\n",
        "---"
      ]
    },
    {
      "cell_type": "markdown",
      "metadata": {
        "id": "ZXUOzh4drf3V"
      },
      "source": [
        "\n",
        "\n",
        "\n",
        "<br>\n",
        "\n",
        "\n"
      ]
    },
    {
      "cell_type": "markdown",
      "metadata": {
        "id": "MfKT4gy91QKV"
      },
      "source": [
        "####<font color=red>Organized</font> (1 points)\n",
        "* Answers should be organized in the following format for organization and readability\n",
        "\n",
        "<br>\n",
        "\n",
        "```\n",
        "# 1. \n",
        "This will be the code block to answer the first part of a task\n",
        "```\n",
        "\n",
        "1. This will be the text answer/explanation (if prompted) for the first task\n",
        "\n",
        "```\n",
        "# 2. \n",
        "This will be the code block to answer the second part of a task in a separate code cell\n",
        "```\n",
        "\n",
        "2. This will be the text answer/explanation (if prompted) for the second task\n",
        "\n",
        "<br>\n",
        "\n",
        "Continue this format for the remaining subtasks\n"
      ]
    },
    {
      "cell_type": "markdown",
      "metadata": {
        "id": "YfKhJv3Q1PBh"
      },
      "source": [
        "<br>\n",
        "\n",
        "---\n",
        "\n",
        "<br>\n",
        "\n",
        "\n",
        "\n",
        "\n"
      ]
    },
    {
      "cell_type": "markdown",
      "metadata": {
        "id": "hnldBRJq1FPT"
      },
      "source": [
        "The following packages are needed to complete the lab"
      ]
    },
    {
      "cell_type": "code",
      "metadata": {
        "id": "PZjQNlGT1H97",
        "colab": {
          "base_uri": "https://localhost:8080/"
        },
        "outputId": "f522dde0-8d65-4799-b98a-102d55d02490"
      },
      "source": [
        "install.packages(\"RCurl\")    # package for working with urls\n",
        "install.packages(\"RJSONIO\")  # package for working with json files"
      ],
      "execution_count": null,
      "outputs": [
        {
          "output_type": "stream",
          "text": [
            "Installing package into ‘/usr/local/lib/R/site-library’\n",
            "(as ‘lib’ is unspecified)\n",
            "\n",
            "also installing the dependency ‘bitops’\n",
            "\n",
            "\n",
            "Installing package into ‘/usr/local/lib/R/site-library’\n",
            "(as ‘lib’ is unspecified)\n",
            "\n"
          ],
          "name": "stderr"
        }
      ]
    },
    {
      "cell_type": "code",
      "metadata": {
        "id": "D4GcqT2t1I3T"
      },
      "source": [
        "library(RCurl)\n",
        "library(RJSONIO)"
      ],
      "execution_count": null,
      "outputs": []
    },
    {
      "cell_type": "markdown",
      "metadata": {
        "id": "2AKZLz1D1NYG"
      },
      "source": [
        "<br>\n",
        "\n",
        "---\n",
        "\n",
        "<br>\n",
        "\n",
        "\n",
        "\n",
        "\n"
      ]
    },
    {
      "cell_type": "markdown",
      "metadata": {
        "id": "Ek6IuNtolHgW"
      },
      "source": [
        "####<font color=red>Task 1</font>  (2 points)\n",
        "\n",
        "In this lab, we will work with data from the National Oceanic and Atmospheric Administration (NOAA). The data includes yearly departures from a baseline reference temperature from 1880 to 2016.\n",
        "\n",
        "1. Load the JSON weather data from this [url](https://www.ncdc.noaa.gov/cag/global/time-series/globe/land_ocean/ytd/12/1880-2016.json) into R as a list called `weather_list`.\n",
        "2. Print the class of `weather_list`.\n"
      ]
    },
    {
      "cell_type": "code",
      "metadata": {
        "id": "E355wr7ahoIt",
        "colab": {
          "base_uri": "https://localhost:8080/",
          "height": 115
        },
        "outputId": "bc29baac-13dc-45c1-83f2-502ac97b9c7a"
      },
      "source": [
        "#1\n",
        "weather_url <- getURL(\"https://www.ncdc.noaa.gov/cag/global/time-series/globe/land_ocean/ytd/12/1880-2016.json\")\n",
        "weather_list <- fromJSON(weather_url) "
      ],
      "execution_count": null,
      "outputs": [
        {
          "output_type": "error",
          "ename": "ERROR",
          "evalue": "ignored",
          "traceback": [
            "Error in getURL(\"https://www.ncdc.noaa.gov/cag/global/time-series/globe/land_ocean/ytd/12/1880-2016.json\"): could not find function \"getURL\"\nTraceback:\n"
          ]
        }
      ]
    },
    {
      "cell_type": "code",
      "metadata": {
        "id": "tmdsNPxChzu_"
      },
      "source": [
        "#2.\n",
        "weather_list  <- fromJSON(apiResult) \n",
        "class(weather_list)"
      ],
      "execution_count": null,
      "outputs": []
    },
    {
      "cell_type": "markdown",
      "metadata": {
        "id": "3IIpgatI3tCV"
      },
      "source": [
        "<br>\n",
        "\n",
        "---\n",
        "\n",
        "<br>\n",
        "\n",
        "\n",
        "\n",
        "\n"
      ]
    },
    {
      "cell_type": "markdown",
      "metadata": {
        "id": "bSdyVT2t3tCt"
      },
      "source": [
        "####<font color=red>Task 2</font> (4 points)\n",
        "\n",
        "1. Use the `names()` function to determine list contents. Print these names.\n",
        "\n",
        "<br>\n",
        "\n",
        "2. There should be a list item called `description`, which includes details about the data. From this list item (`weather_list$description`), identify the units of measurement. State your answer in a complete sentence.\n",
        "\n",
        "<br>\n",
        "\n",
        "3. Which number denotes a missing value in the dataset? Answer in a complete sentence.\n",
        "\n",
        "<br>\n",
        "\n",
        "4. Temperature departures are measured as the deviation from the average temperature across a base time period. What is the base period in this dataset? State in a complete sentence."
      ]
    },
    {
      "cell_type": "code",
      "metadata": {
        "colab": {
          "base_uri": "https://localhost:8080/",
          "height": 243
        },
        "id": "5-QnsqOri2Rn",
        "outputId": "1da7e560-92d5-4bdd-f371-5bd4d09fe151"
      },
      "source": [
        "#1.\n",
        "names(weather_list)\n",
        "names(weather_list$data)\n",
        "names(weather_list$description)"
      ],
      "execution_count": null,
      "outputs": [
        {
          "output_type": "display_data",
          "data": {
            "text/plain": [
              "[1] \"description\" \"data\"       "
            ],
            "text/latex": "\\begin{enumerate*}\n\\item 'description'\n\\item 'data'\n\\end{enumerate*}\n",
            "text/markdown": "1. 'description'\n2. 'data'\n\n\n",
            "text/html": [
              "<style>\n",
              ".list-inline {list-style: none; margin:0; padding: 0}\n",
              ".list-inline>li {display: inline-block}\n",
              ".list-inline>li:not(:last-child)::after {content: \"\\00b7\"; padding: 0 .5ex}\n",
              "</style>\n",
              "<ol class=list-inline><li>'description'</li><li>'data'</li></ol>\n"
            ]
          },
          "metadata": {
            "tags": []
          }
        },
        {
          "output_type": "display_data",
          "data": {
            "text/plain": [
              "  [1] \"1880\" \"1881\" \"1882\" \"1883\" \"1884\" \"1885\" \"1886\" \"1887\" \"1888\" \"1889\"\n",
              " [11] \"1890\" \"1891\" \"1892\" \"1893\" \"1894\" \"1895\" \"1896\" \"1897\" \"1898\" \"1899\"\n",
              " [21] \"1900\" \"1901\" \"1902\" \"1903\" \"1904\" \"1905\" \"1906\" \"1907\" \"1908\" \"1909\"\n",
              " [31] \"1910\" \"1911\" \"1912\" \"1913\" \"1914\" \"1915\" \"1916\" \"1917\" \"1918\" \"1919\"\n",
              " [41] \"1920\" \"1921\" \"1922\" \"1923\" \"1924\" \"1925\" \"1926\" \"1927\" \"1928\" \"1929\"\n",
              " [51] \"1930\" \"1931\" \"1932\" \"1933\" \"1934\" \"1935\" \"1936\" \"1937\" \"1938\" \"1939\"\n",
              " [61] \"1940\" \"1941\" \"1942\" \"1943\" \"1944\" \"1945\" \"1946\" \"1947\" \"1948\" \"1949\"\n",
              " [71] \"1950\" \"1951\" \"1952\" \"1953\" \"1954\" \"1955\" \"1956\" \"1957\" \"1958\" \"1959\"\n",
              " [81] \"1960\" \"1961\" \"1962\" \"1963\" \"1964\" \"1965\" \"1966\" \"1967\" \"1968\" \"1969\"\n",
              " [91] \"1970\" \"1971\" \"1972\" \"1973\" \"1974\" \"1975\" \"1976\" \"1977\" \"1978\" \"1979\"\n",
              "[101] \"1980\" \"1981\" \"1982\" \"1983\" \"1984\" \"1985\" \"1986\" \"1987\" \"1988\" \"1989\"\n",
              "[111] \"1990\" \"1991\" \"1992\" \"1993\" \"1994\" \"1995\" \"1996\" \"1997\" \"1998\" \"1999\"\n",
              "[121] \"2000\" \"2001\" \"2002\" \"2003\" \"2004\" \"2005\" \"2006\" \"2007\" \"2008\" \"2009\"\n",
              "[131] \"2010\" \"2011\" \"2012\" \"2013\" \"2014\" \"2015\" \"2016\""
            ],
            "text/latex": "\\begin{enumerate*}\n\\item '1880'\n\\item '1881'\n\\item '1882'\n\\item '1883'\n\\item '1884'\n\\item '1885'\n\\item '1886'\n\\item '1887'\n\\item '1888'\n\\item '1889'\n\\item '1890'\n\\item '1891'\n\\item '1892'\n\\item '1893'\n\\item '1894'\n\\item '1895'\n\\item '1896'\n\\item '1897'\n\\item '1898'\n\\item '1899'\n\\item '1900'\n\\item '1901'\n\\item '1902'\n\\item '1903'\n\\item '1904'\n\\item '1905'\n\\item '1906'\n\\item '1907'\n\\item '1908'\n\\item '1909'\n\\item '1910'\n\\item '1911'\n\\item '1912'\n\\item '1913'\n\\item '1914'\n\\item '1915'\n\\item '1916'\n\\item '1917'\n\\item '1918'\n\\item '1919'\n\\item '1920'\n\\item '1921'\n\\item '1922'\n\\item '1923'\n\\item '1924'\n\\item '1925'\n\\item '1926'\n\\item '1927'\n\\item '1928'\n\\item '1929'\n\\item '1930'\n\\item '1931'\n\\item '1932'\n\\item '1933'\n\\item '1934'\n\\item '1935'\n\\item '1936'\n\\item '1937'\n\\item '1938'\n\\item '1939'\n\\item '1940'\n\\item '1941'\n\\item '1942'\n\\item '1943'\n\\item '1944'\n\\item '1945'\n\\item '1946'\n\\item '1947'\n\\item '1948'\n\\item '1949'\n\\item '1950'\n\\item '1951'\n\\item '1952'\n\\item '1953'\n\\item '1954'\n\\item '1955'\n\\item '1956'\n\\item '1957'\n\\item '1958'\n\\item '1959'\n\\item '1960'\n\\item '1961'\n\\item '1962'\n\\item '1963'\n\\item '1964'\n\\item '1965'\n\\item '1966'\n\\item '1967'\n\\item '1968'\n\\item '1969'\n\\item '1970'\n\\item '1971'\n\\item '1972'\n\\item '1973'\n\\item '1974'\n\\item '1975'\n\\item '1976'\n\\item '1977'\n\\item '1978'\n\\item '1979'\n\\item '1980'\n\\item '1981'\n\\item '1982'\n\\item '1983'\n\\item '1984'\n\\item '1985'\n\\item '1986'\n\\item '1987'\n\\item '1988'\n\\item '1989'\n\\item '1990'\n\\item '1991'\n\\item '1992'\n\\item '1993'\n\\item '1994'\n\\item '1995'\n\\item '1996'\n\\item '1997'\n\\item '1998'\n\\item '1999'\n\\item '2000'\n\\item '2001'\n\\item '2002'\n\\item '2003'\n\\item '2004'\n\\item '2005'\n\\item '2006'\n\\item '2007'\n\\item '2008'\n\\item '2009'\n\\item '2010'\n\\item '2011'\n\\item '2012'\n\\item '2013'\n\\item '2014'\n\\item '2015'\n\\item '2016'\n\\end{enumerate*}\n",
            "text/markdown": "1. '1880'\n2. '1881'\n3. '1882'\n4. '1883'\n5. '1884'\n6. '1885'\n7. '1886'\n8. '1887'\n9. '1888'\n10. '1889'\n11. '1890'\n12. '1891'\n13. '1892'\n14. '1893'\n15. '1894'\n16. '1895'\n17. '1896'\n18. '1897'\n19. '1898'\n20. '1899'\n21. '1900'\n22. '1901'\n23. '1902'\n24. '1903'\n25. '1904'\n26. '1905'\n27. '1906'\n28. '1907'\n29. '1908'\n30. '1909'\n31. '1910'\n32. '1911'\n33. '1912'\n34. '1913'\n35. '1914'\n36. '1915'\n37. '1916'\n38. '1917'\n39. '1918'\n40. '1919'\n41. '1920'\n42. '1921'\n43. '1922'\n44. '1923'\n45. '1924'\n46. '1925'\n47. '1926'\n48. '1927'\n49. '1928'\n50. '1929'\n51. '1930'\n52. '1931'\n53. '1932'\n54. '1933'\n55. '1934'\n56. '1935'\n57. '1936'\n58. '1937'\n59. '1938'\n60. '1939'\n61. '1940'\n62. '1941'\n63. '1942'\n64. '1943'\n65. '1944'\n66. '1945'\n67. '1946'\n68. '1947'\n69. '1948'\n70. '1949'\n71. '1950'\n72. '1951'\n73. '1952'\n74. '1953'\n75. '1954'\n76. '1955'\n77. '1956'\n78. '1957'\n79. '1958'\n80. '1959'\n81. '1960'\n82. '1961'\n83. '1962'\n84. '1963'\n85. '1964'\n86. '1965'\n87. '1966'\n88. '1967'\n89. '1968'\n90. '1969'\n91. '1970'\n92. '1971'\n93. '1972'\n94. '1973'\n95. '1974'\n96. '1975'\n97. '1976'\n98. '1977'\n99. '1978'\n100. '1979'\n101. '1980'\n102. '1981'\n103. '1982'\n104. '1983'\n105. '1984'\n106. '1985'\n107. '1986'\n108. '1987'\n109. '1988'\n110. '1989'\n111. '1990'\n112. '1991'\n113. '1992'\n114. '1993'\n115. '1994'\n116. '1995'\n117. '1996'\n118. '1997'\n119. '1998'\n120. '1999'\n121. '2000'\n122. '2001'\n123. '2002'\n124. '2003'\n125. '2004'\n126. '2005'\n127. '2006'\n128. '2007'\n129. '2008'\n130. '2009'\n131. '2010'\n132. '2011'\n133. '2012'\n134. '2013'\n135. '2014'\n136. '2015'\n137. '2016'\n\n\n",
            "text/html": [
              "<style>\n",
              ".list-inline {list-style: none; margin:0; padding: 0}\n",
              ".list-inline>li {display: inline-block}\n",
              ".list-inline>li:not(:last-child)::after {content: \"\\00b7\"; padding: 0 .5ex}\n",
              "</style>\n",
              "<ol class=list-inline><li>'1880'</li><li>'1881'</li><li>'1882'</li><li>'1883'</li><li>'1884'</li><li>'1885'</li><li>'1886'</li><li>'1887'</li><li>'1888'</li><li>'1889'</li><li>'1890'</li><li>'1891'</li><li>'1892'</li><li>'1893'</li><li>'1894'</li><li>'1895'</li><li>'1896'</li><li>'1897'</li><li>'1898'</li><li>'1899'</li><li>'1900'</li><li>'1901'</li><li>'1902'</li><li>'1903'</li><li>'1904'</li><li>'1905'</li><li>'1906'</li><li>'1907'</li><li>'1908'</li><li>'1909'</li><li>'1910'</li><li>'1911'</li><li>'1912'</li><li>'1913'</li><li>'1914'</li><li>'1915'</li><li>'1916'</li><li>'1917'</li><li>'1918'</li><li>'1919'</li><li>'1920'</li><li>'1921'</li><li>'1922'</li><li>'1923'</li><li>'1924'</li><li>'1925'</li><li>'1926'</li><li>'1927'</li><li>'1928'</li><li>'1929'</li><li>'1930'</li><li>'1931'</li><li>'1932'</li><li>'1933'</li><li>'1934'</li><li>'1935'</li><li>'1936'</li><li>'1937'</li><li>'1938'</li><li>'1939'</li><li>'1940'</li><li>'1941'</li><li>'1942'</li><li>'1943'</li><li>'1944'</li><li>'1945'</li><li>'1946'</li><li>'1947'</li><li>'1948'</li><li>'1949'</li><li>'1950'</li><li>'1951'</li><li>'1952'</li><li>'1953'</li><li>'1954'</li><li>'1955'</li><li>'1956'</li><li>'1957'</li><li>'1958'</li><li>'1959'</li><li>'1960'</li><li>'1961'</li><li>'1962'</li><li>'1963'</li><li>'1964'</li><li>'1965'</li><li>'1966'</li><li>'1967'</li><li>'1968'</li><li>'1969'</li><li>'1970'</li><li>'1971'</li><li>'1972'</li><li>'1973'</li><li>'1974'</li><li>'1975'</li><li>'1976'</li><li>'1977'</li><li>'1978'</li><li>'1979'</li><li>'1980'</li><li>'1981'</li><li>'1982'</li><li>'1983'</li><li>'1984'</li><li>'1985'</li><li>'1986'</li><li>'1987'</li><li>'1988'</li><li>'1989'</li><li>'1990'</li><li>'1991'</li><li>'1992'</li><li>'1993'</li><li>'1994'</li><li>'1995'</li><li>'1996'</li><li>'1997'</li><li>'1998'</li><li>'1999'</li><li>'2000'</li><li>'2001'</li><li>'2002'</li><li>'2003'</li><li>'2004'</li><li>'2005'</li><li>'2006'</li><li>'2007'</li><li>'2008'</li><li>'2009'</li><li>'2010'</li><li>'2011'</li><li>'2012'</li><li>'2013'</li><li>'2014'</li><li>'2015'</li><li>'2016'</li></ol>\n"
            ]
          },
          "metadata": {
            "tags": []
          }
        },
        {
          "output_type": "display_data",
          "data": {
            "text/plain": [
              "[1] \"title\"       \"units\"       \"base_period\" \"missing\"    "
            ],
            "text/latex": "\\begin{enumerate*}\n\\item 'title'\n\\item 'units'\n\\item 'base\\_period'\n\\item 'missing'\n\\end{enumerate*}\n",
            "text/markdown": "1. 'title'\n2. 'units'\n3. 'base_period'\n4. 'missing'\n\n\n",
            "text/html": [
              "<style>\n",
              ".list-inline {list-style: none; margin:0; padding: 0}\n",
              ".list-inline>li {display: inline-block}\n",
              ".list-inline>li:not(:last-child)::after {content: \"\\00b7\"; padding: 0 .5ex}\n",
              "</style>\n",
              "<ol class=list-inline><li>'title'</li><li>'units'</li><li>'base_period'</li><li>'missing'</li></ol>\n"
            ]
          },
          "metadata": {
            "tags": []
          }
        }
      ]
    },
    {
      "cell_type": "code",
      "metadata": {
        "colab": {
          "base_uri": "https://localhost:8080/",
          "height": 35
        },
        "id": "xUpCeYvyjDA-",
        "outputId": "cf94c207-2e69-465a-a98d-e58390c7848f"
      },
      "source": [
        "#2.\n",
        "(weather_list$description)$units"
      ],
      "execution_count": null,
      "outputs": [
        {
          "output_type": "display_data",
          "data": {
            "text/plain": [
              "[1] \"Degrees Celsius\""
            ],
            "text/latex": "'Degrees Celsius'",
            "text/markdown": "'Degrees Celsius'",
            "text/html": [
              "'Degrees Celsius'"
            ]
          },
          "metadata": {
            "tags": []
          }
        }
      ]
    },
    {
      "cell_type": "markdown",
      "metadata": {
        "id": "T1ZwTno0I4Fo"
      },
      "source": [
        "-> The unit of measurement is Degree Celsius."
      ]
    },
    {
      "cell_type": "code",
      "metadata": {
        "colab": {
          "base_uri": "https://localhost:8080/",
          "height": 97
        },
        "id": "HCbkBnAs0jsg",
        "outputId": "6b662363-f6fd-4a2f-bd35-00b465a39f73"
      },
      "source": [
        "#3.\n",
        "(weather_list$description)$missing\n"
      ],
      "execution_count": null,
      "outputs": [
        {
          "output_type": "error",
          "ename": "ERROR",
          "evalue": "ignored",
          "traceback": [
            "Error in eval(expr, envir, enclos): object 'weather_list' not found\nTraceback:\n"
          ]
        }
      ]
    },
    {
      "cell_type": "markdown",
      "metadata": {
        "id": "N6QdYUIaJ5h0"
      },
      "source": [
        "Number denotes a missing value is -999.\n"
      ]
    },
    {
      "cell_type": "markdown",
      "metadata": {
        "id": "_FnhogGo6Cen"
      },
      "source": [
        "<br>\n",
        "\n",
        "---\n",
        "\n",
        "<br>\n",
        "\n",
        "\n",
        "\n",
        "\n"
      ]
    },
    {
      "cell_type": "markdown",
      "metadata": {
        "id": "lHQv_z_06Ce5"
      },
      "source": [
        "####<font color=red>Task 3</font> (5 points)\n",
        "\n",
        "1. Store the list item data as another variable called `weather_data`. Print the contents of `weather_data`.\n",
        "\n",
        "<br>\n",
        "\n",
        "2. Store the `names()` of `weather_data` as another variable called `weather_years`. Print the contents of `weather_years`.\n",
        "\n",
        "<br>\n",
        "\n",
        "3. Create a dataframe called `weather`, with one column called `year` for the year of the temperature departure observed and another column called `temp` for the tempertuare departure. Show the first few lines using `head()`.\n",
        "\n",
        "<br>\n",
        "\n",
        "4. What is the class of each column of the dataframe `weather`? State in a complete sentence.\n",
        "\n",
        "<br>\n",
        "\n",
        "5. Convert the columns of `weather` to a numeric class using `as.numeric()`. Show the first few lines using `head()`."
      ]
    },
    {
      "cell_type": "code",
      "metadata": {
        "colab": {
          "base_uri": "https://localhost:8080/",
          "height": 97
        },
        "id": "ri53XUt-oKMx",
        "outputId": "69aa6fc0-8a10-4c6f-faeb-d041b97517ee"
      },
      "source": [
        "#1\n",
        "weather_data <- weather_list$data\n",
        "weather_data\n",
        "\n",
        "#2\n",
        "weather_years <- names(weather_data)\n",
        "weather_years\n",
        "\n",
        "#3\n",
        "weather <- data.frame(year = weather_years, temp = weather_data)\n",
        "rownames(weather) <- NULL\n",
        "head(weather)\n",
        "\n",
        "#5\n",
        "as.numeric(weather$year, weather$temp)\n",
        "weather$year <- as.numeric(weather$year)\n"
      ],
      "execution_count": null,
      "outputs": [
        {
          "output_type": "error",
          "ename": "ERROR",
          "evalue": "ignored",
          "traceback": [
            "Error in eval(expr, envir, enclos): object 'weather_list' not found\nTraceback:\n"
          ]
        }
      ]
    },
    {
      "cell_type": "markdown",
      "metadata": {
        "id": "pKFpjFjT93NG"
      },
      "source": [
        "<br>\n",
        "\n",
        "---\n",
        "\n",
        "<br>\n",
        "\n",
        "\n",
        "\n",
        "\n"
      ]
    },
    {
      "cell_type": "markdown",
      "metadata": {
        "id": "evIzBw3y93NI"
      },
      "source": [
        "####<font color=red>Task 4</font> (3 points)\n",
        "\n",
        "1. What is the average temperature departure for observations before 1939 (` < 1939`)? State your answer in a complete sentence and be sure to include units of measurement. Round to the nearest 2 decimal places.\n",
        "\n",
        "<br>\n",
        "\n",
        "2. What is the average temperature departure for observations after 1980 (` > 1980`)? State your answer in a complete sentence and be sure to include units of measurement. Round to the nearest 2 decimal places.\n",
        "\n",
        "<br>\n",
        "\n",
        "3. Are the average temperature departures different? Explain your answer."
      ]
    },
    {
      "cell_type": "code",
      "metadata": {
        "id": "r7mx3J2TvQUq"
      },
      "source": [
        "sd(weather$temp[weather$year > 1930 & weather$year < 1950])\n"
      ],
      "execution_count": null,
      "outputs": []
    },
    {
      "cell_type": "markdown",
      "metadata": {
        "id": "Qno9WirSBhN4"
      },
      "source": [
        "<br>\n",
        "\n",
        "---\n",
        "\n",
        "<br>\n",
        "\n",
        "\n",
        "\n",
        "\n"
      ]
    },
    {
      "cell_type": "markdown",
      "metadata": {
        "id": "UYleX3HHBhN5"
      },
      "source": [
        "####<font color=red>Task 5</font> (3 points)\n",
        "\n",
        "1. What is the standard deviation of temperature departures for observations between 1930 and 1950 (use `sd()`)? State your answer in a complete sentence and be sure to include units of measurement. Round to the nearest 2 decimal places.\n",
        "\n",
        "<br>\n",
        "\n",
        "2. What is the standard deviation of temperature departures for observations between 1880 and 1900 (use `sd()`)? State your answer in a complete sentence and be sure to include units of measurement. Round to the nearest 2 decimal places.\n",
        "\n",
        "<br>\n",
        "\n",
        "3. Are the standard deviations of the temperature departures different? Explain your answer based on your understanding of standard deviation."
      ]
    },
    {
      "cell_type": "markdown",
      "metadata": {
        "id": "Lv29FJwE88p6"
      },
      "source": [
        "<br>\n",
        "\n",
        "---\n",
        "\n",
        "<br>\n",
        "\n",
        "\n",
        "\n",
        "\n"
      ]
    },
    {
      "cell_type": "markdown",
      "metadata": {
        "id": "Q3YURci988p9"
      },
      "source": [
        "####<font color=red>Task 6</font> (4 points)\n",
        "\n",
        "1. Plot the data using the following script\n",
        "```\n",
        "plot(weather$year, weather$temp, \n",
        "     xlab = \"Year\", ylab = \"Temperature Departure\",\n",
        "     type = \"l\")\n",
        "abline(h = 0, lty = 2)\n",
        "```\n",
        "\n",
        "<br>\n",
        "\n",
        "Matching your observations to the plot:\n",
        "2. Match your observations from Task 4 to the plot. Do they agree? Explain in complete sentences.\n",
        "\n",
        "<br>\n",
        "\n",
        "3. Match your observations from Task 5 to the plot. Do they agree? Explain in complete sentences.\n",
        "\n",
        "<br>\n",
        "\n",
        "4. What is the overall trend you observe from the plot? State your answer in a complete sentence."
      ]
    }
  ]
}