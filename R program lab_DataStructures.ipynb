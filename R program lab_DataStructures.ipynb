{
  "nbformat": 4,
  "nbformat_minor": 0,
  "metadata": {
    "colab": {
      "name": "Copy of DataStructures.ipynb",
      "provenance": [],
      "collapsed_sections": [
        "DifDIaoOtjkH",
        "ZGJlYDoqIdh3",
        "epF1YItx3Eut",
        "ubaFzPJg7D0s",
        "Wn6QESCeN_7t",
        "8FUEZfBv_2FW",
        "WMxhD4TMAEF7",
        "Z5A032ASIUmL",
        "IP28o3wvK5jD"
      ],
      "include_colab_link": true
    },
    "kernelspec": {
      "display_name": "R",
      "name": "ir"
    }
  },
  "cells": [
    {
      "cell_type": "markdown",
      "metadata": {
        "id": "view-in-github",
        "colab_type": "text"
      },
      "source": [
        "<a href=\"https://colab.research.google.com/github/Eunjane/J-sMathematical.github.io-/blob/main/R%20program%20lab_DataStructures.ipynb\" target=\"_parent\"><img src=\"https://colab.research.google.com/assets/colab-badge.svg\" alt=\"Open In Colab\"/></a>"
      ]
    },
    {
      "cell_type": "markdown",
      "metadata": {
        "id": "gtETsh5j8vHw"
      },
      "source": [
        "# **Data Structures**\n",
        "\n",
        "---"
      ]
    },
    {
      "cell_type": "markdown",
      "metadata": {
        "id": "DifDIaoOtjkH"
      },
      "source": [
        "## R Data Types\n",
        "\n",
        "Last time, we covered the 5 basic data types of the R programming language:\n",
        "*   character (strings)\n",
        "*   double (numeric)\n",
        "*   integer\n",
        "*   complex\n",
        "*   logical (boolean, TRUE/FALSE)\n",
        "\n"
      ]
    },
    {
      "cell_type": "markdown",
      "metadata": {
        "id": "ZGJlYDoqIdh3"
      },
      "source": [
        "## R Data Structures\n",
        "\n",
        "Data types can be considered the most basic form of data. A collection of data types form what we call a **data structure**.\n",
        "\n",
        "There are many data structures in R. Data structures we will commonly use in R are:\n",
        "*  vectors\n",
        "*  matrices\n",
        "*  factors (categorical)\n",
        "*  dataframes\n",
        "*  lists"
      ]
    },
    {
      "cell_type": "markdown",
      "metadata": {
        "id": "zZzxYxtp9b9t"
      },
      "source": [
        "## Vectors\n"
      ]
    },
    {
      "cell_type": "markdown",
      "metadata": {
        "id": "YfXA4yuo1e2m"
      },
      "source": [
        "### Defined\n",
        "\n",
        "A vector is a collection of elements that share the same data type. You can create a vector in R using the `c()` function. Think of the letter 'c' in `c()` as combine or concatenate."
      ]
    },
    {
      "cell_type": "markdown",
      "metadata": {
        "id": "5OWbFl6XKRaE"
      },
      "source": [
        "The following is a numeric vector comprising a collection of numbers."
      ]
    },
    {
      "cell_type": "code",
      "metadata": {
        "id": "Z60PpIfIeF4Z",
        "outputId": "a451d8bf-d70c-44ab-f541-715f00d26564",
        "colab": {
          "base_uri": "https://localhost:8080/",
          "height": 34
        }
      },
      "source": [
        "# This is a vector of numbers\n",
        "my_vector <- c(1, 2, 3, 4)\n",
        "my_vector"
      ],
      "execution_count": 1,
      "outputs": [
        {
          "output_type": "display_data",
          "data": {
            "text/html": [
              "<style>\n",
              ".list-inline {list-style: none; margin:0; padding: 0}\n",
              ".list-inline>li {display: inline-block}\n",
              ".list-inline>li:not(:last-child)::after {content: \"\\00b7\"; padding: 0 .5ex}\n",
              "</style>\n",
              "<ol class=list-inline><li>1</li><li>2</li><li>3</li><li>4</li></ol>\n"
            ],
            "text/markdown": "1. 1\n2. 2\n3. 3\n4. 4\n\n\n",
            "text/latex": "\\begin{enumerate*}\n\\item 1\n\\item 2\n\\item 3\n\\item 4\n\\end{enumerate*}\n",
            "text/plain": [
              "[1] 1 2 3 4"
            ]
          },
          "metadata": {}
        }
      ]
    },
    {
      "cell_type": "markdown",
      "metadata": {
        "id": "5sqSDaszz8aB"
      },
      "source": [
        "Similar to how we use the `typeof()` function to determine the R data type, we can use the `class()` function to determine the type of data structure or class."
      ]
    },
    {
      "cell_type": "code",
      "metadata": {
        "id": "UVBytSTsJxSf",
        "outputId": "e97d0537-36f8-4463-cc18-73500c06a3f9",
        "colab": {
          "base_uri": "https://localhost:8080/",
          "height": 34
        }
      },
      "source": [
        "# Use class to see the type of data structure\n",
        "class(my_vector)"
      ],
      "execution_count": 2,
      "outputs": [
        {
          "output_type": "display_data",
          "data": {
            "text/html": [
              "'numeric'"
            ],
            "text/markdown": "'numeric'",
            "text/latex": "'numeric'",
            "text/plain": [
              "[1] \"numeric\""
            ]
          },
          "metadata": {}
        }
      ]
    },
    {
      "cell_type": "code",
      "metadata": {
        "id": "rONrH4yHJ8Ii",
        "outputId": "d8a7327b-4287-41f3-c897-242a6a98991b",
        "colab": {
          "base_uri": "https://localhost:8080/",
          "height": 34
        }
      },
      "source": [
        "# use typeof() to check the data type of elements within the vector\n",
        "typeof(my_vector)"
      ],
      "execution_count": 3,
      "outputs": [
        {
          "output_type": "display_data",
          "data": {
            "text/html": [
              "'double'"
            ],
            "text/markdown": "'double'",
            "text/latex": "'double'",
            "text/plain": [
              "[1] \"double\""
            ]
          },
          "metadata": {}
        }
      ]
    },
    {
      "cell_type": "markdown",
      "metadata": {
        "id": "ZXUOzh4drf3V"
      },
      "source": [
        "\n",
        "\n",
        "<br>\n",
        "\n",
        "\n"
      ]
    },
    {
      "cell_type": "markdown",
      "metadata": {
        "id": "1WwjtEJjKar1"
      },
      "source": [
        "The following is a vector comprising a collection of characters strings."
      ]
    },
    {
      "cell_type": "code",
      "metadata": {
        "id": "MJBnMxw1sfsc",
        "outputId": "2fb54103-d76e-41a8-9bc0-a8944274007c",
        "colab": {
          "base_uri": "https://localhost:8080/",
          "height": 34
        }
      },
      "source": [
        "# This is a vector of character strings\n",
        "my_vector <- c(\"hi\", \"hello\", \"hey there\")\n",
        "my_vector"
      ],
      "execution_count": 4,
      "outputs": [
        {
          "output_type": "display_data",
          "data": {
            "text/html": [
              "<style>\n",
              ".list-inline {list-style: none; margin:0; padding: 0}\n",
              ".list-inline>li {display: inline-block}\n",
              ".list-inline>li:not(:last-child)::after {content: \"\\00b7\"; padding: 0 .5ex}\n",
              "</style>\n",
              "<ol class=list-inline><li>'hi'</li><li>'hello'</li><li>'hey there'</li></ol>\n"
            ],
            "text/markdown": "1. 'hi'\n2. 'hello'\n3. 'hey there'\n\n\n",
            "text/latex": "\\begin{enumerate*}\n\\item 'hi'\n\\item 'hello'\n\\item 'hey there'\n\\end{enumerate*}\n",
            "text/plain": [
              "[1] \"hi\"        \"hello\"     \"hey there\""
            ]
          },
          "metadata": {}
        }
      ]
    },
    {
      "cell_type": "code",
      "metadata": {
        "id": "oFCstNneKn4k",
        "outputId": "d6691eb2-56cb-4a52-a914-f56f43af6f99",
        "colab": {
          "base_uri": "https://localhost:8080/",
          "height": 34
        }
      },
      "source": [
        "# Use class() to see the type of data structure\n",
        "class(my_vector)"
      ],
      "execution_count": 5,
      "outputs": [
        {
          "output_type": "display_data",
          "data": {
            "text/html": [
              "'character'"
            ],
            "text/markdown": "'character'",
            "text/latex": "'character'",
            "text/plain": [
              "[1] \"character\""
            ]
          },
          "metadata": {}
        }
      ]
    },
    {
      "cell_type": "code",
      "metadata": {
        "id": "rvZkLvT3Kr5w",
        "outputId": "07b1a6e3-4bed-44fe-9df6-805018ac9e4a",
        "colab": {
          "base_uri": "https://localhost:8080/",
          "height": 34
        }
      },
      "source": [
        "# use typeof() to check the data type of elements within the vector\n",
        "typeof(my_vector)"
      ],
      "execution_count": 6,
      "outputs": [
        {
          "output_type": "display_data",
          "data": {
            "text/html": [
              "'character'"
            ],
            "text/markdown": "'character'",
            "text/latex": "'character'",
            "text/plain": [
              "[1] \"character\""
            ]
          },
          "metadata": {}
        }
      ]
    },
    {
      "cell_type": "markdown",
      "metadata": {
        "id": "kAWYgPPFsn8S"
      },
      "source": [
        "\n",
        "\n",
        "<br>\n",
        "\n",
        "\n"
      ]
    },
    {
      "cell_type": "markdown",
      "metadata": {
        "id": "9LI961mNPYFd"
      },
      "source": [
        "Can we mix different data types in a vector? What do you think will happen in the following command?"
      ]
    },
    {
      "cell_type": "code",
      "metadata": {
        "id": "vJb4qW1jPe3c",
        "outputId": "bfea4812-e3d7-4601-994c-7b8a6a1e7c0f",
        "colab": {
          "base_uri": "https://localhost:8080/",
          "height": 52
        }
      },
      "source": [
        "# creating a vector of the number 1 and the logical TRUE\n",
        "my_vector <- c(1, TRUE)\n",
        "my_vector\n",
        "\n",
        "typeof(my_vector)"
      ],
      "execution_count": 7,
      "outputs": [
        {
          "output_type": "display_data",
          "data": {
            "text/html": [
              "<style>\n",
              ".list-inline {list-style: none; margin:0; padding: 0}\n",
              ".list-inline>li {display: inline-block}\n",
              ".list-inline>li:not(:last-child)::after {content: \"\\00b7\"; padding: 0 .5ex}\n",
              "</style>\n",
              "<ol class=list-inline><li>1</li><li>1</li></ol>\n"
            ],
            "text/markdown": "1. 1\n2. 1\n\n\n",
            "text/latex": "\\begin{enumerate*}\n\\item 1\n\\item 1\n\\end{enumerate*}\n",
            "text/plain": [
              "[1] 1 1"
            ]
          },
          "metadata": {}
        },
        {
          "output_type": "display_data",
          "data": {
            "text/html": [
              "'double'"
            ],
            "text/markdown": "'double'",
            "text/latex": "'double'",
            "text/plain": [
              "[1] \"double\""
            ]
          },
          "metadata": {}
        }
      ]
    },
    {
      "cell_type": "markdown",
      "metadata": {
        "id": "USH9vOxxss-F"
      },
      "source": [
        "\n",
        "\n",
        "<br>\n",
        "\n",
        "\n"
      ]
    },
    {
      "cell_type": "markdown",
      "metadata": {
        "id": "CC70tQu82R9g"
      },
      "source": [
        "What happens when we combine a number with a string?"
      ]
    },
    {
      "cell_type": "code",
      "metadata": {
        "id": "VDu5DciU2RF-",
        "outputId": "35ba1a77-885a-4711-ab48-ac1ecedad522",
        "colab": {
          "base_uri": "https://localhost:8080/",
          "height": 34
        }
      },
      "source": [
        "# first let's define a vector\n",
        "my_vector <- c(1, 5)\n",
        "my_vector"
      ],
      "execution_count": 8,
      "outputs": [
        {
          "output_type": "display_data",
          "data": {
            "text/html": [
              "<style>\n",
              ".list-inline {list-style: none; margin:0; padding: 0}\n",
              ".list-inline>li {display: inline-block}\n",
              ".list-inline>li:not(:last-child)::after {content: \"\\00b7\"; padding: 0 .5ex}\n",
              "</style>\n",
              "<ol class=list-inline><li>1</li><li>5</li></ol>\n"
            ],
            "text/markdown": "1. 1\n2. 5\n\n\n",
            "text/latex": "\\begin{enumerate*}\n\\item 1\n\\item 5\n\\end{enumerate*}\n",
            "text/plain": [
              "[1] 1 5"
            ]
          },
          "metadata": {}
        }
      ]
    },
    {
      "cell_type": "code",
      "metadata": {
        "id": "GQtbUNe12jMd",
        "outputId": "3ed87930-f920-4ea1-af67-549689e1cac7",
        "colab": {
          "base_uri": "https://localhost:8080/",
          "height": 52
        }
      },
      "source": [
        "# check the class and data type\n",
        "class(my_vector)\n",
        "typeof(my_vector)"
      ],
      "execution_count": 9,
      "outputs": [
        {
          "output_type": "display_data",
          "data": {
            "text/html": [
              "'numeric'"
            ],
            "text/markdown": "'numeric'",
            "text/latex": "'numeric'",
            "text/plain": [
              "[1] \"numeric\""
            ]
          },
          "metadata": {}
        },
        {
          "output_type": "display_data",
          "data": {
            "text/html": [
              "'double'"
            ],
            "text/markdown": "'double'",
            "text/latex": "'double'",
            "text/plain": [
              "[1] \"double\""
            ]
          },
          "metadata": {}
        }
      ]
    },
    {
      "cell_type": "code",
      "metadata": {
        "id": "DNvMjnDR2oh1",
        "outputId": "35b3342d-1688-47ef-fc2a-98bfb44dbe2a",
        "colab": {
          "base_uri": "https://localhost:8080/",
          "height": 34
        }
      },
      "source": [
        "# add a character to the end of the vector \n",
        "my_vector <- c(my_vector, \"hello there!\")\n",
        "my_vector"
      ],
      "execution_count": 10,
      "outputs": [
        {
          "output_type": "display_data",
          "data": {
            "text/html": [
              "<style>\n",
              ".list-inline {list-style: none; margin:0; padding: 0}\n",
              ".list-inline>li {display: inline-block}\n",
              ".list-inline>li:not(:last-child)::after {content: \"\\00b7\"; padding: 0 .5ex}\n",
              "</style>\n",
              "<ol class=list-inline><li>'1'</li><li>'5'</li><li>'hello there!'</li></ol>\n"
            ],
            "text/markdown": "1. '1'\n2. '5'\n3. 'hello there!'\n\n\n",
            "text/latex": "\\begin{enumerate*}\n\\item '1'\n\\item '5'\n\\item 'hello there!'\n\\end{enumerate*}\n",
            "text/plain": [
              "[1] \"1\"            \"5\"            \"hello there!\""
            ]
          },
          "metadata": {}
        }
      ]
    },
    {
      "cell_type": "code",
      "metadata": {
        "id": "z7JDmFT52wXx",
        "outputId": "d5d79c66-fb1b-4210-80e3-279fafbd3a84",
        "colab": {
          "base_uri": "https://localhost:8080/",
          "height": 52
        }
      },
      "source": [
        "class(my_vector)\n",
        "typeof(my_vector)"
      ],
      "execution_count": 11,
      "outputs": [
        {
          "output_type": "display_data",
          "data": {
            "text/html": [
              "'character'"
            ],
            "text/markdown": "'character'",
            "text/latex": "'character'",
            "text/plain": [
              "[1] \"character\""
            ]
          },
          "metadata": {}
        },
        {
          "output_type": "display_data",
          "data": {
            "text/html": [
              "'character'"
            ],
            "text/markdown": "'character'",
            "text/latex": "'character'",
            "text/plain": [
              "[1] \"character\""
            ]
          },
          "metadata": {}
        }
      ]
    },
    {
      "cell_type": "markdown",
      "metadata": {
        "id": "epF1YItx3Eut"
      },
      "source": [
        "### Functions of Vectors"
      ]
    },
    {
      "cell_type": "markdown",
      "metadata": {
        "id": "iabXWrLt4Hhs"
      },
      "source": [
        "R has several built-in functions that will calculate metrics for us."
      ]
    },
    {
      "cell_type": "code",
      "metadata": {
        "id": "EBMQAwVc4EGb",
        "outputId": "1b88c97d-4050-4932-f818-19173eaa8e4a",
        "colab": {
          "base_uri": "https://localhost:8080/",
          "height": 34
        }
      },
      "source": [
        "# define a vector\n",
        "my_vector <- 1:5\n",
        "my_vector"
      ],
      "execution_count": 12,
      "outputs": [
        {
          "output_type": "display_data",
          "data": {
            "text/html": [
              "<style>\n",
              ".list-inline {list-style: none; margin:0; padding: 0}\n",
              ".list-inline>li {display: inline-block}\n",
              ".list-inline>li:not(:last-child)::after {content: \"\\00b7\"; padding: 0 .5ex}\n",
              "</style>\n",
              "<ol class=list-inline><li>1</li><li>2</li><li>3</li><li>4</li><li>5</li></ol>\n"
            ],
            "text/markdown": "1. 1\n2. 2\n3. 3\n4. 4\n5. 5\n\n\n",
            "text/latex": "\\begin{enumerate*}\n\\item 1\n\\item 2\n\\item 3\n\\item 4\n\\item 5\n\\end{enumerate*}\n",
            "text/plain": [
              "[1] 1 2 3 4 5"
            ]
          },
          "metadata": {}
        }
      ]
    },
    {
      "cell_type": "code",
      "metadata": {
        "id": "3i4X4yT14X1C",
        "outputId": "0e24dc2b-05d7-4266-9e7a-aac821d3fe16",
        "colab": {
          "base_uri": "https://localhost:8080/",
          "height": 34
        }
      },
      "source": [
        "# length of my_vector\n",
        "length(my_vector)"
      ],
      "execution_count": 13,
      "outputs": [
        {
          "output_type": "display_data",
          "data": {
            "text/html": [
              "5"
            ],
            "text/markdown": "5",
            "text/latex": "5",
            "text/plain": [
              "[1] 5"
            ]
          },
          "metadata": {}
        }
      ]
    },
    {
      "cell_type": "code",
      "metadata": {
        "id": "aSXZyYtQ4sxl",
        "outputId": "2f3c3516-d786-4162-d0a8-9099a28fcdbc",
        "colab": {
          "base_uri": "https://localhost:8080/",
          "height": 34
        }
      },
      "source": [
        "# sum of a vector\n",
        "sum(my_vector)"
      ],
      "execution_count": 14,
      "outputs": [
        {
          "output_type": "display_data",
          "data": {
            "text/html": [
              "15"
            ],
            "text/markdown": "15",
            "text/latex": "15",
            "text/plain": [
              "[1] 15"
            ]
          },
          "metadata": {}
        }
      ]
    },
    {
      "cell_type": "code",
      "metadata": {
        "id": "jpV_NvVs4ngU",
        "outputId": "e784a712-f2ab-42fd-f2e6-642875420719",
        "colab": {
          "base_uri": "https://localhost:8080/",
          "height": 52
        }
      },
      "source": [
        "# mean of my_vector\n",
        "mean(my_vector)\n",
        "\n",
        "sum(my_vector) / length(my_vector)"
      ],
      "execution_count": 15,
      "outputs": [
        {
          "output_type": "display_data",
          "data": {
            "text/html": [
              "3"
            ],
            "text/markdown": "3",
            "text/latex": "3",
            "text/plain": [
              "[1] 3"
            ]
          },
          "metadata": {}
        },
        {
          "output_type": "display_data",
          "data": {
            "text/html": [
              "3"
            ],
            "text/markdown": "3",
            "text/latex": "3",
            "text/plain": [
              "[1] 3"
            ]
          },
          "metadata": {}
        }
      ]
    },
    {
      "cell_type": "code",
      "metadata": {
        "id": "-aEYdSr866mY",
        "outputId": "2c61571c-1608-4ad4-dde1-16bbf0f30863",
        "colab": {
          "base_uri": "https://localhost:8080/",
          "height": 34
        }
      },
      "source": [
        "# variance\n",
        "var(my_vector)"
      ],
      "execution_count": 16,
      "outputs": [
        {
          "output_type": "display_data",
          "data": {
            "text/html": [
              "2.5"
            ],
            "text/markdown": "2.5",
            "text/latex": "2.5",
            "text/plain": [
              "[1] 2.5"
            ]
          },
          "metadata": {}
        }
      ]
    },
    {
      "cell_type": "markdown",
      "metadata": {
        "id": "lyopQk-esyOb"
      },
      "source": [
        "\n",
        "\n",
        "<br>\n",
        "\n",
        "\n"
      ]
    },
    {
      "cell_type": "markdown",
      "metadata": {
        "id": "ubaFzPJg7D0s"
      },
      "source": [
        "### Operations on Vectors"
      ]
    },
    {
      "cell_type": "markdown",
      "metadata": {
        "id": "ZYKPUWZM3JUU"
      },
      "source": [
        "Operations are vectorized in R. This makes math very easy!"
      ]
    },
    {
      "cell_type": "code",
      "metadata": {
        "id": "VV1UMLiR3IVV",
        "outputId": "697b101d-95a4-45f2-e0a2-e80c65c67595",
        "colab": {
          "base_uri": "https://localhost:8080/",
          "height": 0
        }
      },
      "source": [
        "# create a vector from 1:100\n",
        "my_vector <- 1:100\n",
        "my_vector"
      ],
      "execution_count": 17,
      "outputs": [
        {
          "output_type": "display_data",
          "data": {
            "text/html": [
              "<style>\n",
              ".list-inline {list-style: none; margin:0; padding: 0}\n",
              ".list-inline>li {display: inline-block}\n",
              ".list-inline>li:not(:last-child)::after {content: \"\\00b7\"; padding: 0 .5ex}\n",
              "</style>\n",
              "<ol class=list-inline><li>1</li><li>2</li><li>3</li><li>4</li><li>5</li><li>6</li><li>7</li><li>8</li><li>9</li><li>10</li><li>11</li><li>12</li><li>13</li><li>14</li><li>15</li><li>16</li><li>17</li><li>18</li><li>19</li><li>20</li><li>21</li><li>22</li><li>23</li><li>24</li><li>25</li><li>26</li><li>27</li><li>28</li><li>29</li><li>30</li><li>31</li><li>32</li><li>33</li><li>34</li><li>35</li><li>36</li><li>37</li><li>38</li><li>39</li><li>40</li><li>41</li><li>42</li><li>43</li><li>44</li><li>45</li><li>46</li><li>47</li><li>48</li><li>49</li><li>50</li><li>51</li><li>52</li><li>53</li><li>54</li><li>55</li><li>56</li><li>57</li><li>58</li><li>59</li><li>60</li><li>61</li><li>62</li><li>63</li><li>64</li><li>65</li><li>66</li><li>67</li><li>68</li><li>69</li><li>70</li><li>71</li><li>72</li><li>73</li><li>74</li><li>75</li><li>76</li><li>77</li><li>78</li><li>79</li><li>80</li><li>81</li><li>82</li><li>83</li><li>84</li><li>85</li><li>86</li><li>87</li><li>88</li><li>89</li><li>90</li><li>91</li><li>92</li><li>93</li><li>94</li><li>95</li><li>96</li><li>97</li><li>98</li><li>99</li><li>100</li></ol>\n"
            ],
            "text/markdown": "1. 1\n2. 2\n3. 3\n4. 4\n5. 5\n6. 6\n7. 7\n8. 8\n9. 9\n10. 10\n11. 11\n12. 12\n13. 13\n14. 14\n15. 15\n16. 16\n17. 17\n18. 18\n19. 19\n20. 20\n21. 21\n22. 22\n23. 23\n24. 24\n25. 25\n26. 26\n27. 27\n28. 28\n29. 29\n30. 30\n31. 31\n32. 32\n33. 33\n34. 34\n35. 35\n36. 36\n37. 37\n38. 38\n39. 39\n40. 40\n41. 41\n42. 42\n43. 43\n44. 44\n45. 45\n46. 46\n47. 47\n48. 48\n49. 49\n50. 50\n51. 51\n52. 52\n53. 53\n54. 54\n55. 55\n56. 56\n57. 57\n58. 58\n59. 59\n60. 60\n61. 61\n62. 62\n63. 63\n64. 64\n65. 65\n66. 66\n67. 67\n68. 68\n69. 69\n70. 70\n71. 71\n72. 72\n73. 73\n74. 74\n75. 75\n76. 76\n77. 77\n78. 78\n79. 79\n80. 80\n81. 81\n82. 82\n83. 83\n84. 84\n85. 85\n86. 86\n87. 87\n88. 88\n89. 89\n90. 90\n91. 91\n92. 92\n93. 93\n94. 94\n95. 95\n96. 96\n97. 97\n98. 98\n99. 99\n100. 100\n\n\n",
            "text/latex": "\\begin{enumerate*}\n\\item 1\n\\item 2\n\\item 3\n\\item 4\n\\item 5\n\\item 6\n\\item 7\n\\item 8\n\\item 9\n\\item 10\n\\item 11\n\\item 12\n\\item 13\n\\item 14\n\\item 15\n\\item 16\n\\item 17\n\\item 18\n\\item 19\n\\item 20\n\\item 21\n\\item 22\n\\item 23\n\\item 24\n\\item 25\n\\item 26\n\\item 27\n\\item 28\n\\item 29\n\\item 30\n\\item 31\n\\item 32\n\\item 33\n\\item 34\n\\item 35\n\\item 36\n\\item 37\n\\item 38\n\\item 39\n\\item 40\n\\item 41\n\\item 42\n\\item 43\n\\item 44\n\\item 45\n\\item 46\n\\item 47\n\\item 48\n\\item 49\n\\item 50\n\\item 51\n\\item 52\n\\item 53\n\\item 54\n\\item 55\n\\item 56\n\\item 57\n\\item 58\n\\item 59\n\\item 60\n\\item 61\n\\item 62\n\\item 63\n\\item 64\n\\item 65\n\\item 66\n\\item 67\n\\item 68\n\\item 69\n\\item 70\n\\item 71\n\\item 72\n\\item 73\n\\item 74\n\\item 75\n\\item 76\n\\item 77\n\\item 78\n\\item 79\n\\item 80\n\\item 81\n\\item 82\n\\item 83\n\\item 84\n\\item 85\n\\item 86\n\\item 87\n\\item 88\n\\item 89\n\\item 90\n\\item 91\n\\item 92\n\\item 93\n\\item 94\n\\item 95\n\\item 96\n\\item 97\n\\item 98\n\\item 99\n\\item 100\n\\end{enumerate*}\n",
            "text/plain": [
              "  [1]   1   2   3   4   5   6   7   8   9  10  11  12  13  14  15  16  17  18\n",
              " [19]  19  20  21  22  23  24  25  26  27  28  29  30  31  32  33  34  35  36\n",
              " [37]  37  38  39  40  41  42  43  44  45  46  47  48  49  50  51  52  53  54\n",
              " [55]  55  56  57  58  59  60  61  62  63  64  65  66  67  68  69  70  71  72\n",
              " [73]  73  74  75  76  77  78  79  80  81  82  83  84  85  86  87  88  89  90\n",
              " [91]  91  92  93  94  95  96  97  98  99 100"
            ]
          },
          "metadata": {}
        }
      ]
    },
    {
      "cell_type": "code",
      "metadata": {
        "id": "4vCK9VnV3H15",
        "outputId": "365bfdff-cc98-4e77-b4ec-0d11503dbae3",
        "colab": {
          "base_uri": "https://localhost:8080/",
          "height": 0
        }
      },
      "source": [
        "# add 200 to each element\n",
        "my_vector + 200"
      ],
      "execution_count": 18,
      "outputs": [
        {
          "output_type": "display_data",
          "data": {
            "text/html": [
              "<style>\n",
              ".list-inline {list-style: none; margin:0; padding: 0}\n",
              ".list-inline>li {display: inline-block}\n",
              ".list-inline>li:not(:last-child)::after {content: \"\\00b7\"; padding: 0 .5ex}\n",
              "</style>\n",
              "<ol class=list-inline><li>201</li><li>202</li><li>203</li><li>204</li><li>205</li><li>206</li><li>207</li><li>208</li><li>209</li><li>210</li><li>211</li><li>212</li><li>213</li><li>214</li><li>215</li><li>216</li><li>217</li><li>218</li><li>219</li><li>220</li><li>221</li><li>222</li><li>223</li><li>224</li><li>225</li><li>226</li><li>227</li><li>228</li><li>229</li><li>230</li><li>231</li><li>232</li><li>233</li><li>234</li><li>235</li><li>236</li><li>237</li><li>238</li><li>239</li><li>240</li><li>241</li><li>242</li><li>243</li><li>244</li><li>245</li><li>246</li><li>247</li><li>248</li><li>249</li><li>250</li><li>251</li><li>252</li><li>253</li><li>254</li><li>255</li><li>256</li><li>257</li><li>258</li><li>259</li><li>260</li><li>261</li><li>262</li><li>263</li><li>264</li><li>265</li><li>266</li><li>267</li><li>268</li><li>269</li><li>270</li><li>271</li><li>272</li><li>273</li><li>274</li><li>275</li><li>276</li><li>277</li><li>278</li><li>279</li><li>280</li><li>281</li><li>282</li><li>283</li><li>284</li><li>285</li><li>286</li><li>287</li><li>288</li><li>289</li><li>290</li><li>291</li><li>292</li><li>293</li><li>294</li><li>295</li><li>296</li><li>297</li><li>298</li><li>299</li><li>300</li></ol>\n"
            ],
            "text/markdown": "1. 201\n2. 202\n3. 203\n4. 204\n5. 205\n6. 206\n7. 207\n8. 208\n9. 209\n10. 210\n11. 211\n12. 212\n13. 213\n14. 214\n15. 215\n16. 216\n17. 217\n18. 218\n19. 219\n20. 220\n21. 221\n22. 222\n23. 223\n24. 224\n25. 225\n26. 226\n27. 227\n28. 228\n29. 229\n30. 230\n31. 231\n32. 232\n33. 233\n34. 234\n35. 235\n36. 236\n37. 237\n38. 238\n39. 239\n40. 240\n41. 241\n42. 242\n43. 243\n44. 244\n45. 245\n46. 246\n47. 247\n48. 248\n49. 249\n50. 250\n51. 251\n52. 252\n53. 253\n54. 254\n55. 255\n56. 256\n57. 257\n58. 258\n59. 259\n60. 260\n61. 261\n62. 262\n63. 263\n64. 264\n65. 265\n66. 266\n67. 267\n68. 268\n69. 269\n70. 270\n71. 271\n72. 272\n73. 273\n74. 274\n75. 275\n76. 276\n77. 277\n78. 278\n79. 279\n80. 280\n81. 281\n82. 282\n83. 283\n84. 284\n85. 285\n86. 286\n87. 287\n88. 288\n89. 289\n90. 290\n91. 291\n92. 292\n93. 293\n94. 294\n95. 295\n96. 296\n97. 297\n98. 298\n99. 299\n100. 300\n\n\n",
            "text/latex": "\\begin{enumerate*}\n\\item 201\n\\item 202\n\\item 203\n\\item 204\n\\item 205\n\\item 206\n\\item 207\n\\item 208\n\\item 209\n\\item 210\n\\item 211\n\\item 212\n\\item 213\n\\item 214\n\\item 215\n\\item 216\n\\item 217\n\\item 218\n\\item 219\n\\item 220\n\\item 221\n\\item 222\n\\item 223\n\\item 224\n\\item 225\n\\item 226\n\\item 227\n\\item 228\n\\item 229\n\\item 230\n\\item 231\n\\item 232\n\\item 233\n\\item 234\n\\item 235\n\\item 236\n\\item 237\n\\item 238\n\\item 239\n\\item 240\n\\item 241\n\\item 242\n\\item 243\n\\item 244\n\\item 245\n\\item 246\n\\item 247\n\\item 248\n\\item 249\n\\item 250\n\\item 251\n\\item 252\n\\item 253\n\\item 254\n\\item 255\n\\item 256\n\\item 257\n\\item 258\n\\item 259\n\\item 260\n\\item 261\n\\item 262\n\\item 263\n\\item 264\n\\item 265\n\\item 266\n\\item 267\n\\item 268\n\\item 269\n\\item 270\n\\item 271\n\\item 272\n\\item 273\n\\item 274\n\\item 275\n\\item 276\n\\item 277\n\\item 278\n\\item 279\n\\item 280\n\\item 281\n\\item 282\n\\item 283\n\\item 284\n\\item 285\n\\item 286\n\\item 287\n\\item 288\n\\item 289\n\\item 290\n\\item 291\n\\item 292\n\\item 293\n\\item 294\n\\item 295\n\\item 296\n\\item 297\n\\item 298\n\\item 299\n\\item 300\n\\end{enumerate*}\n",
            "text/plain": [
              "  [1] 201 202 203 204 205 206 207 208 209 210 211 212 213 214 215 216 217 218\n",
              " [19] 219 220 221 222 223 224 225 226 227 228 229 230 231 232 233 234 235 236\n",
              " [37] 237 238 239 240 241 242 243 244 245 246 247 248 249 250 251 252 253 254\n",
              " [55] 255 256 257 258 259 260 261 262 263 264 265 266 267 268 269 270 271 272\n",
              " [73] 273 274 275 276 277 278 279 280 281 282 283 284 285 286 287 288 289 290\n",
              " [91] 291 292 293 294 295 296 297 298 299 300"
            ]
          },
          "metadata": {}
        }
      ]
    },
    {
      "cell_type": "markdown",
      "metadata": {
        "id": "WVJgQuJhszeK"
      },
      "source": [
        "\n",
        "\n",
        "<br>\n",
        "\n",
        "\n"
      ]
    },
    {
      "cell_type": "markdown",
      "metadata": {
        "id": "6WwCHFed77Ab"
      },
      "source": [
        "What if we divide by 0?"
      ]
    },
    {
      "cell_type": "code",
      "metadata": {
        "id": "-QJA_3Gn3rVp",
        "outputId": "bdebe26a-74eb-434e-ca94-11813a5df08f",
        "colab": {
          "base_uri": "https://localhost:8080/",
          "height": 0
        }
      },
      "source": [
        "my_vector / -0"
      ],
      "execution_count": 19,
      "outputs": [
        {
          "output_type": "display_data",
          "data": {
            "text/html": [
              "<style>\n",
              ".list-inline {list-style: none; margin:0; padding: 0}\n",
              ".list-inline>li {display: inline-block}\n",
              ".list-inline>li:not(:last-child)::after {content: \"\\00b7\"; padding: 0 .5ex}\n",
              "</style>\n",
              "<ol class=list-inline><li>-Inf</li><li>-Inf</li><li>-Inf</li><li>-Inf</li><li>-Inf</li><li>-Inf</li><li>-Inf</li><li>-Inf</li><li>-Inf</li><li>-Inf</li><li>-Inf</li><li>-Inf</li><li>-Inf</li><li>-Inf</li><li>-Inf</li><li>-Inf</li><li>-Inf</li><li>-Inf</li><li>-Inf</li><li>-Inf</li><li>-Inf</li><li>-Inf</li><li>-Inf</li><li>-Inf</li><li>-Inf</li><li>-Inf</li><li>-Inf</li><li>-Inf</li><li>-Inf</li><li>-Inf</li><li>-Inf</li><li>-Inf</li><li>-Inf</li><li>-Inf</li><li>-Inf</li><li>-Inf</li><li>-Inf</li><li>-Inf</li><li>-Inf</li><li>-Inf</li><li>-Inf</li><li>-Inf</li><li>-Inf</li><li>-Inf</li><li>-Inf</li><li>-Inf</li><li>-Inf</li><li>-Inf</li><li>-Inf</li><li>-Inf</li><li>-Inf</li><li>-Inf</li><li>-Inf</li><li>-Inf</li><li>-Inf</li><li>-Inf</li><li>-Inf</li><li>-Inf</li><li>-Inf</li><li>-Inf</li><li>-Inf</li><li>-Inf</li><li>-Inf</li><li>-Inf</li><li>-Inf</li><li>-Inf</li><li>-Inf</li><li>-Inf</li><li>-Inf</li><li>-Inf</li><li>-Inf</li><li>-Inf</li><li>-Inf</li><li>-Inf</li><li>-Inf</li><li>-Inf</li><li>-Inf</li><li>-Inf</li><li>-Inf</li><li>-Inf</li><li>-Inf</li><li>-Inf</li><li>-Inf</li><li>-Inf</li><li>-Inf</li><li>-Inf</li><li>-Inf</li><li>-Inf</li><li>-Inf</li><li>-Inf</li><li>-Inf</li><li>-Inf</li><li>-Inf</li><li>-Inf</li><li>-Inf</li><li>-Inf</li><li>-Inf</li><li>-Inf</li><li>-Inf</li><li>-Inf</li></ol>\n"
            ],
            "text/markdown": "1. -Inf\n2. -Inf\n3. -Inf\n4. -Inf\n5. -Inf\n6. -Inf\n7. -Inf\n8. -Inf\n9. -Inf\n10. -Inf\n11. -Inf\n12. -Inf\n13. -Inf\n14. -Inf\n15. -Inf\n16. -Inf\n17. -Inf\n18. -Inf\n19. -Inf\n20. -Inf\n21. -Inf\n22. -Inf\n23. -Inf\n24. -Inf\n25. -Inf\n26. -Inf\n27. -Inf\n28. -Inf\n29. -Inf\n30. -Inf\n31. -Inf\n32. -Inf\n33. -Inf\n34. -Inf\n35. -Inf\n36. -Inf\n37. -Inf\n38. -Inf\n39. -Inf\n40. -Inf\n41. -Inf\n42. -Inf\n43. -Inf\n44. -Inf\n45. -Inf\n46. -Inf\n47. -Inf\n48. -Inf\n49. -Inf\n50. -Inf\n51. -Inf\n52. -Inf\n53. -Inf\n54. -Inf\n55. -Inf\n56. -Inf\n57. -Inf\n58. -Inf\n59. -Inf\n60. -Inf\n61. -Inf\n62. -Inf\n63. -Inf\n64. -Inf\n65. -Inf\n66. -Inf\n67. -Inf\n68. -Inf\n69. -Inf\n70. -Inf\n71. -Inf\n72. -Inf\n73. -Inf\n74. -Inf\n75. -Inf\n76. -Inf\n77. -Inf\n78. -Inf\n79. -Inf\n80. -Inf\n81. -Inf\n82. -Inf\n83. -Inf\n84. -Inf\n85. -Inf\n86. -Inf\n87. -Inf\n88. -Inf\n89. -Inf\n90. -Inf\n91. -Inf\n92. -Inf\n93. -Inf\n94. -Inf\n95. -Inf\n96. -Inf\n97. -Inf\n98. -Inf\n99. -Inf\n100. -Inf\n\n\n",
            "text/latex": "\\begin{enumerate*}\n\\item -Inf\n\\item -Inf\n\\item -Inf\n\\item -Inf\n\\item -Inf\n\\item -Inf\n\\item -Inf\n\\item -Inf\n\\item -Inf\n\\item -Inf\n\\item -Inf\n\\item -Inf\n\\item -Inf\n\\item -Inf\n\\item -Inf\n\\item -Inf\n\\item -Inf\n\\item -Inf\n\\item -Inf\n\\item -Inf\n\\item -Inf\n\\item -Inf\n\\item -Inf\n\\item -Inf\n\\item -Inf\n\\item -Inf\n\\item -Inf\n\\item -Inf\n\\item -Inf\n\\item -Inf\n\\item -Inf\n\\item -Inf\n\\item -Inf\n\\item -Inf\n\\item -Inf\n\\item -Inf\n\\item -Inf\n\\item -Inf\n\\item -Inf\n\\item -Inf\n\\item -Inf\n\\item -Inf\n\\item -Inf\n\\item -Inf\n\\item -Inf\n\\item -Inf\n\\item -Inf\n\\item -Inf\n\\item -Inf\n\\item -Inf\n\\item -Inf\n\\item -Inf\n\\item -Inf\n\\item -Inf\n\\item -Inf\n\\item -Inf\n\\item -Inf\n\\item -Inf\n\\item -Inf\n\\item -Inf\n\\item -Inf\n\\item -Inf\n\\item -Inf\n\\item -Inf\n\\item -Inf\n\\item -Inf\n\\item -Inf\n\\item -Inf\n\\item -Inf\n\\item -Inf\n\\item -Inf\n\\item -Inf\n\\item -Inf\n\\item -Inf\n\\item -Inf\n\\item -Inf\n\\item -Inf\n\\item -Inf\n\\item -Inf\n\\item -Inf\n\\item -Inf\n\\item -Inf\n\\item -Inf\n\\item -Inf\n\\item -Inf\n\\item -Inf\n\\item -Inf\n\\item -Inf\n\\item -Inf\n\\item -Inf\n\\item -Inf\n\\item -Inf\n\\item -Inf\n\\item -Inf\n\\item -Inf\n\\item -Inf\n\\item -Inf\n\\item -Inf\n\\item -Inf\n\\item -Inf\n\\end{enumerate*}\n",
            "text/plain": [
              "  [1] -Inf -Inf -Inf -Inf -Inf -Inf -Inf -Inf -Inf -Inf -Inf -Inf -Inf -Inf -Inf\n",
              " [16] -Inf -Inf -Inf -Inf -Inf -Inf -Inf -Inf -Inf -Inf -Inf -Inf -Inf -Inf -Inf\n",
              " [31] -Inf -Inf -Inf -Inf -Inf -Inf -Inf -Inf -Inf -Inf -Inf -Inf -Inf -Inf -Inf\n",
              " [46] -Inf -Inf -Inf -Inf -Inf -Inf -Inf -Inf -Inf -Inf -Inf -Inf -Inf -Inf -Inf\n",
              " [61] -Inf -Inf -Inf -Inf -Inf -Inf -Inf -Inf -Inf -Inf -Inf -Inf -Inf -Inf -Inf\n",
              " [76] -Inf -Inf -Inf -Inf -Inf -Inf -Inf -Inf -Inf -Inf -Inf -Inf -Inf -Inf -Inf\n",
              " [91] -Inf -Inf -Inf -Inf -Inf -Inf -Inf -Inf -Inf -Inf"
            ]
          },
          "metadata": {}
        }
      ]
    },
    {
      "cell_type": "markdown",
      "metadata": {
        "id": "kAutz3FBs0aH"
      },
      "source": [
        "\n",
        "\n",
        "<br>\n",
        "\n",
        "\n"
      ]
    },
    {
      "cell_type": "markdown",
      "metadata": {
        "id": "WM6CCvJN8Feu"
      },
      "source": [
        "We can add two vectors element by element."
      ]
    },
    {
      "cell_type": "code",
      "metadata": {
        "id": "Q1oxYrNg8IsS",
        "outputId": "6bdd054f-d6a7-4648-8526-3dda3559f07b",
        "colab": {
          "base_uri": "https://localhost:8080/",
          "height": 0
        }
      },
      "source": [
        "# define two vectors\n",
        "x <- 1:5\n",
        "y <- 6:10\n",
        "\n",
        "x\n",
        "y"
      ],
      "execution_count": 20,
      "outputs": [
        {
          "output_type": "display_data",
          "data": {
            "text/html": [
              "<style>\n",
              ".list-inline {list-style: none; margin:0; padding: 0}\n",
              ".list-inline>li {display: inline-block}\n",
              ".list-inline>li:not(:last-child)::after {content: \"\\00b7\"; padding: 0 .5ex}\n",
              "</style>\n",
              "<ol class=list-inline><li>1</li><li>2</li><li>3</li><li>4</li><li>5</li></ol>\n"
            ],
            "text/markdown": "1. 1\n2. 2\n3. 3\n4. 4\n5. 5\n\n\n",
            "text/latex": "\\begin{enumerate*}\n\\item 1\n\\item 2\n\\item 3\n\\item 4\n\\item 5\n\\end{enumerate*}\n",
            "text/plain": [
              "[1] 1 2 3 4 5"
            ]
          },
          "metadata": {}
        },
        {
          "output_type": "display_data",
          "data": {
            "text/html": [
              "<style>\n",
              ".list-inline {list-style: none; margin:0; padding: 0}\n",
              ".list-inline>li {display: inline-block}\n",
              ".list-inline>li:not(:last-child)::after {content: \"\\00b7\"; padding: 0 .5ex}\n",
              "</style>\n",
              "<ol class=list-inline><li>6</li><li>7</li><li>8</li><li>9</li><li>10</li></ol>\n"
            ],
            "text/markdown": "1. 6\n2. 7\n3. 8\n4. 9\n5. 10\n\n\n",
            "text/latex": "\\begin{enumerate*}\n\\item 6\n\\item 7\n\\item 8\n\\item 9\n\\item 10\n\\end{enumerate*}\n",
            "text/plain": [
              "[1]  6  7  8  9 10"
            ]
          },
          "metadata": {}
        }
      ]
    },
    {
      "cell_type": "code",
      "metadata": {
        "id": "3W_AT8z68jcx",
        "outputId": "48da7908-b732-44ce-99c9-8e211ea570b3",
        "colab": {
          "base_uri": "https://localhost:8080/",
          "height": 0
        }
      },
      "source": [
        "# add two vectors\n",
        "x + y"
      ],
      "execution_count": 21,
      "outputs": [
        {
          "output_type": "display_data",
          "data": {
            "text/html": [
              "<style>\n",
              ".list-inline {list-style: none; margin:0; padding: 0}\n",
              ".list-inline>li {display: inline-block}\n",
              ".list-inline>li:not(:last-child)::after {content: \"\\00b7\"; padding: 0 .5ex}\n",
              "</style>\n",
              "<ol class=list-inline><li>7</li><li>9</li><li>11</li><li>13</li><li>15</li></ol>\n"
            ],
            "text/markdown": "1. 7\n2. 9\n3. 11\n4. 13\n5. 15\n\n\n",
            "text/latex": "\\begin{enumerate*}\n\\item 7\n\\item 9\n\\item 11\n\\item 13\n\\item 15\n\\end{enumerate*}\n",
            "text/plain": [
              "[1]  7  9 11 13 15"
            ]
          },
          "metadata": {}
        }
      ]
    },
    {
      "cell_type": "markdown",
      "metadata": {
        "id": "HPwTGDSVs1zY"
      },
      "source": [
        "\n",
        "\n",
        "<br>\n",
        "\n",
        "\n"
      ]
    },
    {
      "cell_type": "markdown",
      "metadata": {
        "id": "fJDkvyfF8Q8R"
      },
      "source": [
        "This is where things get a little weird. What do you think happens in the following code cell?"
      ]
    },
    {
      "cell_type": "code",
      "metadata": {
        "id": "q9oGtO_x8QB1",
        "outputId": "a0716487-8641-463a-c174-32f7a2f93b98",
        "colab": {
          "base_uri": "https://localhost:8080/",
          "height": 0
        }
      },
      "source": [
        "x <- 1:5\n",
        "y <- 1:10\n",
        "\n",
        "x\n",
        "y"
      ],
      "execution_count": 22,
      "outputs": [
        {
          "output_type": "display_data",
          "data": {
            "text/html": [
              "<style>\n",
              ".list-inline {list-style: none; margin:0; padding: 0}\n",
              ".list-inline>li {display: inline-block}\n",
              ".list-inline>li:not(:last-child)::after {content: \"\\00b7\"; padding: 0 .5ex}\n",
              "</style>\n",
              "<ol class=list-inline><li>1</li><li>2</li><li>3</li><li>4</li><li>5</li></ol>\n"
            ],
            "text/markdown": "1. 1\n2. 2\n3. 3\n4. 4\n5. 5\n\n\n",
            "text/latex": "\\begin{enumerate*}\n\\item 1\n\\item 2\n\\item 3\n\\item 4\n\\item 5\n\\end{enumerate*}\n",
            "text/plain": [
              "[1] 1 2 3 4 5"
            ]
          },
          "metadata": {}
        },
        {
          "output_type": "display_data",
          "data": {
            "text/html": [
              "<style>\n",
              ".list-inline {list-style: none; margin:0; padding: 0}\n",
              ".list-inline>li {display: inline-block}\n",
              ".list-inline>li:not(:last-child)::after {content: \"\\00b7\"; padding: 0 .5ex}\n",
              "</style>\n",
              "<ol class=list-inline><li>1</li><li>2</li><li>3</li><li>4</li><li>5</li><li>6</li><li>7</li><li>8</li><li>9</li><li>10</li></ol>\n"
            ],
            "text/markdown": "1. 1\n2. 2\n3. 3\n4. 4\n5. 5\n6. 6\n7. 7\n8. 8\n9. 9\n10. 10\n\n\n",
            "text/latex": "\\begin{enumerate*}\n\\item 1\n\\item 2\n\\item 3\n\\item 4\n\\item 5\n\\item 6\n\\item 7\n\\item 8\n\\item 9\n\\item 10\n\\end{enumerate*}\n",
            "text/plain": [
              " [1]  1  2  3  4  5  6  7  8  9 10"
            ]
          },
          "metadata": {}
        }
      ]
    },
    {
      "cell_type": "code",
      "metadata": {
        "id": "x7FDu8Ma8zKN",
        "outputId": "ae7a2dc9-a72d-4c48-99aa-d6840386d318",
        "colab": {
          "base_uri": "https://localhost:8080/",
          "height": 0
        }
      },
      "source": [
        "x + y\n",
        "\n",
        "length(x + y)"
      ],
      "execution_count": 23,
      "outputs": [
        {
          "output_type": "display_data",
          "data": {
            "text/html": [
              "<style>\n",
              ".list-inline {list-style: none; margin:0; padding: 0}\n",
              ".list-inline>li {display: inline-block}\n",
              ".list-inline>li:not(:last-child)::after {content: \"\\00b7\"; padding: 0 .5ex}\n",
              "</style>\n",
              "<ol class=list-inline><li>2</li><li>4</li><li>6</li><li>8</li><li>10</li><li>7</li><li>9</li><li>11</li><li>13</li><li>15</li></ol>\n"
            ],
            "text/markdown": "1. 2\n2. 4\n3. 6\n4. 8\n5. 10\n6. 7\n7. 9\n8. 11\n9. 13\n10. 15\n\n\n",
            "text/latex": "\\begin{enumerate*}\n\\item 2\n\\item 4\n\\item 6\n\\item 8\n\\item 10\n\\item 7\n\\item 9\n\\item 11\n\\item 13\n\\item 15\n\\end{enumerate*}\n",
            "text/plain": [
              " [1]  2  4  6  8 10  7  9 11 13 15"
            ]
          },
          "metadata": {}
        },
        {
          "output_type": "display_data",
          "data": {
            "text/html": [
              "10"
            ],
            "text/markdown": "10",
            "text/latex": "10",
            "text/plain": [
              "[1] 10"
            ]
          },
          "metadata": {}
        }
      ]
    },
    {
      "cell_type": "markdown",
      "metadata": {
        "id": "gaXykZfKs3Fw"
      },
      "source": [
        "\n",
        "\n",
        "<br>\n",
        "\n",
        "\n"
      ]
    },
    {
      "cell_type": "markdown",
      "metadata": {
        "id": "9Latz0cn9Da4"
      },
      "source": [
        "What if we set `y <- 1:11`?"
      ]
    },
    {
      "cell_type": "code",
      "metadata": {
        "id": "dZ9thV0t9HqW",
        "outputId": "d6d1f12d-8eb1-4a4e-822a-6debb4d7d1e3",
        "colab": {
          "base_uri": "https://localhost:8080/",
          "height": 0
        }
      },
      "source": [
        "x <- 1:5\n",
        "y <- 1:11\n",
        "\n",
        "x\n",
        "y"
      ],
      "execution_count": 24,
      "outputs": [
        {
          "output_type": "display_data",
          "data": {
            "text/html": [
              "<style>\n",
              ".list-inline {list-style: none; margin:0; padding: 0}\n",
              ".list-inline>li {display: inline-block}\n",
              ".list-inline>li:not(:last-child)::after {content: \"\\00b7\"; padding: 0 .5ex}\n",
              "</style>\n",
              "<ol class=list-inline><li>1</li><li>2</li><li>3</li><li>4</li><li>5</li></ol>\n"
            ],
            "text/markdown": "1. 1\n2. 2\n3. 3\n4. 4\n5. 5\n\n\n",
            "text/latex": "\\begin{enumerate*}\n\\item 1\n\\item 2\n\\item 3\n\\item 4\n\\item 5\n\\end{enumerate*}\n",
            "text/plain": [
              "[1] 1 2 3 4 5"
            ]
          },
          "metadata": {}
        },
        {
          "output_type": "display_data",
          "data": {
            "text/html": [
              "<style>\n",
              ".list-inline {list-style: none; margin:0; padding: 0}\n",
              ".list-inline>li {display: inline-block}\n",
              ".list-inline>li:not(:last-child)::after {content: \"\\00b7\"; padding: 0 .5ex}\n",
              "</style>\n",
              "<ol class=list-inline><li>1</li><li>2</li><li>3</li><li>4</li><li>5</li><li>6</li><li>7</li><li>8</li><li>9</li><li>10</li><li>11</li></ol>\n"
            ],
            "text/markdown": "1. 1\n2. 2\n3. 3\n4. 4\n5. 5\n6. 6\n7. 7\n8. 8\n9. 9\n10. 10\n11. 11\n\n\n",
            "text/latex": "\\begin{enumerate*}\n\\item 1\n\\item 2\n\\item 3\n\\item 4\n\\item 5\n\\item 6\n\\item 7\n\\item 8\n\\item 9\n\\item 10\n\\item 11\n\\end{enumerate*}\n",
            "text/plain": [
              " [1]  1  2  3  4  5  6  7  8  9 10 11"
            ]
          },
          "metadata": {}
        }
      ]
    },
    {
      "cell_type": "code",
      "metadata": {
        "id": "SuuF69as9YTB",
        "outputId": "7607a4cd-37ef-4a05-daa6-8bea0787e3d6",
        "colab": {
          "base_uri": "https://localhost:8080/",
          "height": 0
        }
      },
      "source": [
        "# add vectors\n",
        "x + y"
      ],
      "execution_count": 25,
      "outputs": [
        {
          "output_type": "stream",
          "name": "stderr",
          "text": [
            "Warning message in x + y:\n",
            "“longer object length is not a multiple of shorter object length”\n"
          ]
        },
        {
          "output_type": "display_data",
          "data": {
            "text/html": [
              "<style>\n",
              ".list-inline {list-style: none; margin:0; padding: 0}\n",
              ".list-inline>li {display: inline-block}\n",
              ".list-inline>li:not(:last-child)::after {content: \"\\00b7\"; padding: 0 .5ex}\n",
              "</style>\n",
              "<ol class=list-inline><li>2</li><li>4</li><li>6</li><li>8</li><li>10</li><li>7</li><li>9</li><li>11</li><li>13</li><li>15</li><li>12</li></ol>\n"
            ],
            "text/markdown": "1. 2\n2. 4\n3. 6\n4. 8\n5. 10\n6. 7\n7. 9\n8. 11\n9. 13\n10. 15\n11. 12\n\n\n",
            "text/latex": "\\begin{enumerate*}\n\\item 2\n\\item 4\n\\item 6\n\\item 8\n\\item 10\n\\item 7\n\\item 9\n\\item 11\n\\item 13\n\\item 15\n\\item 12\n\\end{enumerate*}\n",
            "text/plain": [
              " [1]  2  4  6  8 10  7  9 11 13 15 12"
            ]
          },
          "metadata": {}
        }
      ]
    },
    {
      "cell_type": "code",
      "metadata": {
        "id": "7egfPPX39ZOi",
        "outputId": "cfc0551b-baf9-418b-e58a-768cacdcce38",
        "colab": {
          "base_uri": "https://localhost:8080/",
          "height": 0
        }
      },
      "source": [
        "length(x + y)"
      ],
      "execution_count": 26,
      "outputs": [
        {
          "output_type": "stream",
          "name": "stderr",
          "text": [
            "Warning message in x + y:\n",
            "“longer object length is not a multiple of shorter object length”\n"
          ]
        },
        {
          "output_type": "display_data",
          "data": {
            "text/html": [
              "11"
            ],
            "text/markdown": "11",
            "text/latex": "11",
            "text/plain": [
              "[1] 11"
            ]
          },
          "metadata": {}
        }
      ]
    },
    {
      "cell_type": "markdown",
      "metadata": {
        "id": "oBJy2WnBs4It"
      },
      "source": [
        "\n",
        "\n",
        "<br>\n",
        "\n",
        "\n"
      ]
    },
    {
      "cell_type": "markdown",
      "metadata": {
        "id": "Wn6QESCeN_7t"
      },
      "source": [
        "## Matrices\n",
        "\n",
        "A matrix is a rectangular array of numbers. You may also think of matrices as vectors that are combined by row or column.\n",
        "\n",
        "In R, you can create a matrix using the `matrix()` function."
      ]
    },
    {
      "cell_type": "code",
      "metadata": {
        "id": "RbiTMIEKN1qF",
        "outputId": "a20d5f77-6014-4f6b-e56c-7e9ac04ebe36",
        "colab": {
          "base_uri": "https://localhost:8080/",
          "height": 153
        }
      },
      "source": [
        "my_matrix = matrix(5)\n",
        "my_matrix\n",
        "\n",
        "# the matrix above consists of a single number and is dimension 1x1"
      ],
      "execution_count": 27,
      "outputs": [
        {
          "output_type": "display_data",
          "data": {
            "text/html": [
              "<table class=\"dataframe\">\n",
              "<caption>A matrix: 1 × 1 of type dbl</caption>\n",
              "<tbody>\n",
              "\t<tr><td>5</td></tr>\n",
              "</tbody>\n",
              "</table>\n"
            ],
            "text/markdown": "\nA matrix: 1 × 1 of type dbl\n\n| 5 |\n\n",
            "text/latex": "A matrix: 1 × 1 of type dbl\n\\begin{tabular}{l}\n\t 5\\\\\n\\end{tabular}\n",
            "text/plain": [
              "     [,1]\n",
              "[1,] 5   "
            ]
          },
          "metadata": {}
        }
      ]
    },
    {
      "cell_type": "code",
      "metadata": {
        "id": "UnpNkXwqQ98R",
        "outputId": "48c1e788-6144-4e2b-b584-0f1ef8b47955",
        "colab": {
          "base_uri": "https://localhost:8080/",
          "height": 34
        }
      },
      "source": [
        "# check the type of data structure\n",
        "class(my_matrix)"
      ],
      "execution_count": 28,
      "outputs": [
        {
          "output_type": "display_data",
          "data": {
            "text/html": [
              "<style>\n",
              ".list-inline {list-style: none; margin:0; padding: 0}\n",
              ".list-inline>li {display: inline-block}\n",
              ".list-inline>li:not(:last-child)::after {content: \"\\00b7\"; padding: 0 .5ex}\n",
              "</style>\n",
              "<ol class=list-inline><li>'matrix'</li><li>'array'</li></ol>\n"
            ],
            "text/markdown": "1. 'matrix'\n2. 'array'\n\n\n",
            "text/latex": "\\begin{enumerate*}\n\\item 'matrix'\n\\item 'array'\n\\end{enumerate*}\n",
            "text/plain": [
              "[1] \"matrix\" \"array\" "
            ]
          },
          "metadata": {}
        }
      ]
    },
    {
      "cell_type": "code",
      "metadata": {
        "id": "DSagBMFGRFNB",
        "outputId": "9cd7ac65-73fa-4a15-84f0-0476633ce1e7",
        "colab": {
          "base_uri": "https://localhost:8080/",
          "height": 34
        }
      },
      "source": [
        "# check the data type of the matrix elements\n",
        "typeof(my_matrix)"
      ],
      "execution_count": 29,
      "outputs": [
        {
          "output_type": "display_data",
          "data": {
            "text/html": [
              "'double'"
            ],
            "text/markdown": "'double'",
            "text/latex": "'double'",
            "text/plain": [
              "[1] \"double\""
            ]
          },
          "metadata": {}
        }
      ]
    },
    {
      "cell_type": "code",
      "metadata": {
        "id": "AEWc8gPSRWdD",
        "outputId": "459a669d-ec53-466a-bb5f-a39015e43891",
        "colab": {
          "base_uri": "https://localhost:8080/",
          "height": 215
        }
      },
      "source": [
        "# create a matrix with 3 rows and 2 columns\n",
        "my_matrix <- matrix(c(1,2,3,4,5,6), nrow = 3, ncol = 2)\n",
        "my_matrix"
      ],
      "execution_count": 30,
      "outputs": [
        {
          "output_type": "display_data",
          "data": {
            "text/html": [
              "<table class=\"dataframe\">\n",
              "<caption>A matrix: 3 × 2 of type dbl</caption>\n",
              "<tbody>\n",
              "\t<tr><td>1</td><td>4</td></tr>\n",
              "\t<tr><td>2</td><td>5</td></tr>\n",
              "\t<tr><td>3</td><td>6</td></tr>\n",
              "</tbody>\n",
              "</table>\n"
            ],
            "text/markdown": "\nA matrix: 3 × 2 of type dbl\n\n| 1 | 4 |\n| 2 | 5 |\n| 3 | 6 |\n\n",
            "text/latex": "A matrix: 3 × 2 of type dbl\n\\begin{tabular}{ll}\n\t 1 & 4\\\\\n\t 2 & 5\\\\\n\t 3 & 6\\\\\n\\end{tabular}\n",
            "text/plain": [
              "     [,1] [,2]\n",
              "[1,] 1    4   \n",
              "[2,] 2    5   \n",
              "[3,] 3    6   "
            ]
          },
          "metadata": {}
        }
      ]
    },
    {
      "cell_type": "code",
      "metadata": {
        "id": "yAGkAXenRpWh",
        "outputId": "59d1f040-a294-4bc6-ff40-972379aa1497",
        "colab": {
          "base_uri": "https://localhost:8080/",
          "height": 215
        }
      },
      "source": [
        "# create a matrix with 3 rows and 2 columns\n",
        "my_matrix <- matrix(c(1,2,3,4,5,6), nrow = 3, ncol = 2, byrow=TRUE)\n",
        "my_matrix"
      ],
      "execution_count": 31,
      "outputs": [
        {
          "output_type": "display_data",
          "data": {
            "text/html": [
              "<table class=\"dataframe\">\n",
              "<caption>A matrix: 3 × 2 of type dbl</caption>\n",
              "<tbody>\n",
              "\t<tr><td>1</td><td>2</td></tr>\n",
              "\t<tr><td>3</td><td>4</td></tr>\n",
              "\t<tr><td>5</td><td>6</td></tr>\n",
              "</tbody>\n",
              "</table>\n"
            ],
            "text/markdown": "\nA matrix: 3 × 2 of type dbl\n\n| 1 | 2 |\n| 3 | 4 |\n| 5 | 6 |\n\n",
            "text/latex": "A matrix: 3 × 2 of type dbl\n\\begin{tabular}{ll}\n\t 1 & 2\\\\\n\t 3 & 4\\\\\n\t 5 & 6\\\\\n\\end{tabular}\n",
            "text/plain": [
              "     [,1] [,2]\n",
              "[1,] 1    2   \n",
              "[2,] 3    4   \n",
              "[3,] 5    6   "
            ]
          },
          "metadata": {}
        }
      ]
    },
    {
      "cell_type": "markdown",
      "metadata": {
        "id": "dbcB5Gwhs6m1"
      },
      "source": [
        "\n",
        "\n",
        "<br>\n",
        "\n",
        "\n"
      ]
    },
    {
      "cell_type": "markdown",
      "metadata": {
        "id": "xh8IUPPcSGHz"
      },
      "source": [
        "You can also combine vectors to create matrices. \n",
        "\n",
        "Combining vectors by row is called row concatenation using `rbind()`."
      ]
    },
    {
      "cell_type": "code",
      "metadata": {
        "id": "J1hGCr-DR8JV",
        "outputId": "f2c89768-1b48-4394-8db5-87c23223ae9a",
        "colab": {
          "base_uri": "https://localhost:8080/",
          "height": 34
        }
      },
      "source": [
        "# create two vectors\n",
        "vector1 <- c(1, 2, 3)\n",
        "vector2 <- c(4, 5, 6)\n",
        "\n",
        "class(vector1)"
      ],
      "execution_count": 32,
      "outputs": [
        {
          "output_type": "display_data",
          "data": {
            "text/html": [
              "'numeric'"
            ],
            "text/markdown": "'numeric'",
            "text/latex": "'numeric'",
            "text/plain": [
              "[1] \"numeric\""
            ]
          },
          "metadata": {}
        }
      ]
    },
    {
      "cell_type": "code",
      "metadata": {
        "id": "LjciWmclSWjX",
        "outputId": "ee0489d8-6cab-4289-de2e-76bef9503dc5",
        "colab": {
          "base_uri": "https://localhost:8080/",
          "height": 114
        }
      },
      "source": [
        "# row bind the two vectors to create a matrix\n",
        "new_matrix <- rbind(vector1, vector2)\n",
        "new_matrix"
      ],
      "execution_count": 33,
      "outputs": [
        {
          "output_type": "display_data",
          "data": {
            "text/html": [
              "<table class=\"dataframe\">\n",
              "<caption>A matrix: 2 × 3 of type dbl</caption>\n",
              "<tbody>\n",
              "\t<tr><th scope=row>vector1</th><td>1</td><td>2</td><td>3</td></tr>\n",
              "\t<tr><th scope=row>vector2</th><td>4</td><td>5</td><td>6</td></tr>\n",
              "</tbody>\n",
              "</table>\n"
            ],
            "text/markdown": "\nA matrix: 2 × 3 of type dbl\n\n| vector1 | 1 | 2 | 3 |\n| vector2 | 4 | 5 | 6 |\n\n",
            "text/latex": "A matrix: 2 × 3 of type dbl\n\\begin{tabular}{r|lll}\n\tvector1 & 1 & 2 & 3\\\\\n\tvector2 & 4 & 5 & 6\\\\\n\\end{tabular}\n",
            "text/plain": [
              "        [,1] [,2] [,3]\n",
              "vector1 1    2    3   \n",
              "vector2 4    5    6   "
            ]
          },
          "metadata": {}
        }
      ]
    },
    {
      "cell_type": "code",
      "metadata": {
        "id": "8_b1OGS5ScU4",
        "outputId": "212b2f42-0906-4ba2-c04b-d9cf0f17b079",
        "colab": {
          "base_uri": "https://localhost:8080/",
          "height": 34
        }
      },
      "source": [
        "# combining the two vectors alters the type of data structure\n",
        "class(new_matrix)"
      ],
      "execution_count": 34,
      "outputs": [
        {
          "output_type": "display_data",
          "data": {
            "text/html": [
              "<style>\n",
              ".list-inline {list-style: none; margin:0; padding: 0}\n",
              ".list-inline>li {display: inline-block}\n",
              ".list-inline>li:not(:last-child)::after {content: \"\\00b7\"; padding: 0 .5ex}\n",
              "</style>\n",
              "<ol class=list-inline><li>'matrix'</li><li>'array'</li></ol>\n"
            ],
            "text/markdown": "1. 'matrix'\n2. 'array'\n\n\n",
            "text/latex": "\\begin{enumerate*}\n\\item 'matrix'\n\\item 'array'\n\\end{enumerate*}\n",
            "text/plain": [
              "[1] \"matrix\" \"array\" "
            ]
          },
          "metadata": {}
        }
      ]
    },
    {
      "cell_type": "markdown",
      "metadata": {
        "id": "PsbrLkigs8PV"
      },
      "source": [
        "\n",
        "\n",
        "<br>\n",
        "\n",
        "\n"
      ]
    },
    {
      "cell_type": "markdown",
      "metadata": {
        "id": "_8rnl2g8S8dA"
      },
      "source": [
        "You can also combine vectors by columns using the `cbind()` function."
      ]
    },
    {
      "cell_type": "code",
      "metadata": {
        "id": "CVi6v2yb-cf8",
        "outputId": "96d63066-7da3-45d8-800e-b347850d61e7",
        "colab": {
          "base_uri": "https://localhost:8080/",
          "height": 178
        }
      },
      "source": [
        "# column bind the two vectors to create a matrix\n",
        "new_matrix <- cbind(vector1, vector2)\n",
        "new_matrix"
      ],
      "execution_count": 35,
      "outputs": [
        {
          "output_type": "display_data",
          "data": {
            "text/html": [
              "<table class=\"dataframe\">\n",
              "<caption>A matrix: 3 × 2 of type dbl</caption>\n",
              "<thead>\n",
              "\t<tr><th scope=col>vector1</th><th scope=col>vector2</th></tr>\n",
              "</thead>\n",
              "<tbody>\n",
              "\t<tr><td>1</td><td>4</td></tr>\n",
              "\t<tr><td>2</td><td>5</td></tr>\n",
              "\t<tr><td>3</td><td>6</td></tr>\n",
              "</tbody>\n",
              "</table>\n"
            ],
            "text/markdown": "\nA matrix: 3 × 2 of type dbl\n\n| vector1 | vector2 |\n|---|---|\n| 1 | 4 |\n| 2 | 5 |\n| 3 | 6 |\n\n",
            "text/latex": "A matrix: 3 × 2 of type dbl\n\\begin{tabular}{ll}\n vector1 & vector2\\\\\n\\hline\n\t 1 & 4\\\\\n\t 2 & 5\\\\\n\t 3 & 6\\\\\n\\end{tabular}\n",
            "text/plain": [
              "     vector1 vector2\n",
              "[1,] 1       4      \n",
              "[2,] 2       5      \n",
              "[3,] 3       6      "
            ]
          },
          "metadata": {}
        }
      ]
    },
    {
      "cell_type": "markdown",
      "metadata": {
        "id": "2LOGEPOJs9Hx"
      },
      "source": [
        "\n",
        "\n",
        "<br>\n",
        "\n",
        "\n"
      ]
    },
    {
      "cell_type": "markdown",
      "metadata": {
        "id": "en1FX0-B-oQP"
      },
      "source": [
        "Operations and functions on matrices are similar to what we observed with vectors."
      ]
    },
    {
      "cell_type": "code",
      "metadata": {
        "id": "lTo91MaJ-tPU",
        "outputId": "b9072357-b162-4349-9c72-448c944af486",
        "colab": {
          "base_uri": "https://localhost:8080/",
          "height": 34
        }
      },
      "source": [
        "# mean of all elements in the matrix\n",
        "mean(new_matrix)"
      ],
      "execution_count": 36,
      "outputs": [
        {
          "output_type": "display_data",
          "data": {
            "text/html": [
              "3.5"
            ],
            "text/markdown": "3.5",
            "text/latex": "3.5",
            "text/plain": [
              "[1] 3.5"
            ]
          },
          "metadata": {}
        }
      ]
    },
    {
      "cell_type": "code",
      "metadata": {
        "id": "_8cATvTl--NR",
        "outputId": "ba4adee0-15c0-4b7d-bba9-a50715777fe1",
        "colab": {
          "base_uri": "https://localhost:8080/",
          "height": 34
        }
      },
      "source": [
        "# sum of all elements in the matrix\n",
        "sum(new_matrix)"
      ],
      "execution_count": 37,
      "outputs": [
        {
          "output_type": "display_data",
          "data": {
            "text/html": [
              "21"
            ],
            "text/markdown": "21",
            "text/latex": "21",
            "text/plain": [
              "[1] 21"
            ]
          },
          "metadata": {}
        }
      ]
    },
    {
      "cell_type": "code",
      "metadata": {
        "id": "QMR0CU9i_XbJ",
        "outputId": "e23f5d28-bd41-49a6-99ea-5e6eb2bcbe25",
        "colab": {
          "base_uri": "https://localhost:8080/",
          "height": 114
        }
      },
      "source": [
        "# matrix transpose\n",
        "t(new_matrix)"
      ],
      "execution_count": 38,
      "outputs": [
        {
          "output_type": "display_data",
          "data": {
            "text/html": [
              "<table class=\"dataframe\">\n",
              "<caption>A matrix: 2 × 3 of type dbl</caption>\n",
              "<tbody>\n",
              "\t<tr><th scope=row>vector1</th><td>1</td><td>2</td><td>3</td></tr>\n",
              "\t<tr><th scope=row>vector2</th><td>4</td><td>5</td><td>6</td></tr>\n",
              "</tbody>\n",
              "</table>\n"
            ],
            "text/markdown": "\nA matrix: 2 × 3 of type dbl\n\n| vector1 | 1 | 2 | 3 |\n| vector2 | 4 | 5 | 6 |\n\n",
            "text/latex": "A matrix: 2 × 3 of type dbl\n\\begin{tabular}{r|lll}\n\tvector1 & 1 & 2 & 3\\\\\n\tvector2 & 4 & 5 & 6\\\\\n\\end{tabular}\n",
            "text/plain": [
              "        [,1] [,2] [,3]\n",
              "vector1 1    2    3   \n",
              "vector2 4    5    6   "
            ]
          },
          "metadata": {}
        }
      ]
    },
    {
      "cell_type": "code",
      "metadata": {
        "id": "r8OnRvUe_A7M",
        "outputId": "92cdfd5c-8efc-4bb3-8b31-5578af0bc23c",
        "colab": {
          "base_uri": "https://localhost:8080/",
          "height": 195
        }
      },
      "source": [
        "# adding a matrix to a vector\n",
        "vector1\n",
        "new_matrix"
      ],
      "execution_count": 39,
      "outputs": [
        {
          "output_type": "display_data",
          "data": {
            "text/html": [
              "<style>\n",
              ".list-inline {list-style: none; margin:0; padding: 0}\n",
              ".list-inline>li {display: inline-block}\n",
              ".list-inline>li:not(:last-child)::after {content: \"\\00b7\"; padding: 0 .5ex}\n",
              "</style>\n",
              "<ol class=list-inline><li>1</li><li>2</li><li>3</li></ol>\n"
            ],
            "text/markdown": "1. 1\n2. 2\n3. 3\n\n\n",
            "text/latex": "\\begin{enumerate*}\n\\item 1\n\\item 2\n\\item 3\n\\end{enumerate*}\n",
            "text/plain": [
              "[1] 1 2 3"
            ]
          },
          "metadata": {}
        },
        {
          "output_type": "display_data",
          "data": {
            "text/html": [
              "<table class=\"dataframe\">\n",
              "<caption>A matrix: 3 × 2 of type dbl</caption>\n",
              "<thead>\n",
              "\t<tr><th scope=col>vector1</th><th scope=col>vector2</th></tr>\n",
              "</thead>\n",
              "<tbody>\n",
              "\t<tr><td>1</td><td>4</td></tr>\n",
              "\t<tr><td>2</td><td>5</td></tr>\n",
              "\t<tr><td>3</td><td>6</td></tr>\n",
              "</tbody>\n",
              "</table>\n"
            ],
            "text/markdown": "\nA matrix: 3 × 2 of type dbl\n\n| vector1 | vector2 |\n|---|---|\n| 1 | 4 |\n| 2 | 5 |\n| 3 | 6 |\n\n",
            "text/latex": "A matrix: 3 × 2 of type dbl\n\\begin{tabular}{ll}\n vector1 & vector2\\\\\n\\hline\n\t 1 & 4\\\\\n\t 2 & 5\\\\\n\t 3 & 6\\\\\n\\end{tabular}\n",
            "text/plain": [
              "     vector1 vector2\n",
              "[1,] 1       4      \n",
              "[2,] 2       5      \n",
              "[3,] 3       6      "
            ]
          },
          "metadata": {}
        }
      ]
    },
    {
      "cell_type": "code",
      "metadata": {
        "id": "rKT3A4H3_TtF",
        "outputId": "c67e0600-801d-4f38-8275-310f8d230051",
        "colab": {
          "base_uri": "https://localhost:8080/",
          "height": 178
        }
      },
      "source": [
        "new_matrix + vector1"
      ],
      "execution_count": 40,
      "outputs": [
        {
          "output_type": "display_data",
          "data": {
            "text/html": [
              "<table class=\"dataframe\">\n",
              "<caption>A matrix: 3 × 2 of type dbl</caption>\n",
              "<thead>\n",
              "\t<tr><th scope=col>vector1</th><th scope=col>vector2</th></tr>\n",
              "</thead>\n",
              "<tbody>\n",
              "\t<tr><td>2</td><td>5</td></tr>\n",
              "\t<tr><td>4</td><td>7</td></tr>\n",
              "\t<tr><td>6</td><td>9</td></tr>\n",
              "</tbody>\n",
              "</table>\n"
            ],
            "text/markdown": "\nA matrix: 3 × 2 of type dbl\n\n| vector1 | vector2 |\n|---|---|\n| 2 | 5 |\n| 4 | 7 |\n| 6 | 9 |\n\n",
            "text/latex": "A matrix: 3 × 2 of type dbl\n\\begin{tabular}{ll}\n vector1 & vector2\\\\\n\\hline\n\t 2 & 5\\\\\n\t 4 & 7\\\\\n\t 6 & 9\\\\\n\\end{tabular}\n",
            "text/plain": [
              "     vector1 vector2\n",
              "[1,] 2       5      \n",
              "[2,] 4       7      \n",
              "[3,] 6       9      "
            ]
          },
          "metadata": {}
        }
      ]
    },
    {
      "cell_type": "markdown",
      "metadata": {
        "id": "1Lb-dkZ0tC2B"
      },
      "source": [
        "\n",
        "\n",
        "<br>\n",
        "\n",
        "\n"
      ]
    },
    {
      "cell_type": "markdown",
      "metadata": {
        "id": "8FUEZfBv_2FW"
      },
      "source": [
        "## Factors"
      ]
    },
    {
      "cell_type": "markdown",
      "metadata": {
        "id": "WMxhD4TMAEF7"
      },
      "source": [
        "### Defined\n",
        "\n",
        "* Factors are data structures used to categorize data into different \"levels\".\n",
        "* They can store both strings and integers\n",
        "* Factors are very useful for statistical modeling of categorical variables  (gender, ethnicity, etc.)"
      ]
    },
    {
      "cell_type": "code",
      "metadata": {
        "id": "Z2wl3J_IADUz"
      },
      "source": [
        "# let's define a few variables to understand factors and how they work\n",
        "height <- c(132,151,162,139,166,147,122)\n",
        "weight <- c(48, 49, 66, 53, 67, 52, 40)\n",
        "gender <- c(\"male\",\"male\",\"female\",\"female\",\"male\",\"female\",\"male\")"
      ],
      "execution_count": 41,
      "outputs": []
    },
    {
      "cell_type": "code",
      "metadata": {
        "id": "FYRu99U4AgoT",
        "outputId": "1b625b97-37fe-4958-fd7e-4825095b5556",
        "colab": {
          "base_uri": "https://localhost:8080/",
          "height": 0
        }
      },
      "source": [
        "# class of the gender variable\n",
        "class(gender)"
      ],
      "execution_count": 42,
      "outputs": [
        {
          "output_type": "display_data",
          "data": {
            "text/html": [
              "'character'"
            ],
            "text/markdown": "'character'",
            "text/latex": "'character'",
            "text/plain": [
              "[1] \"character\""
            ]
          },
          "metadata": {}
        }
      ]
    },
    {
      "cell_type": "markdown",
      "metadata": {
        "id": "BC1VDInStFcm"
      },
      "source": [
        "\n",
        "\n",
        "<br>\n",
        "\n",
        "\n"
      ]
    },
    {
      "cell_type": "markdown",
      "metadata": {
        "id": "rvSV8s0bDItp"
      },
      "source": [
        "We can convert the `gender` variable into a factor using the `factor()` function"
      ]
    },
    {
      "cell_type": "code",
      "metadata": {
        "id": "8r6DVTwIDNnj",
        "outputId": "59df3c1b-8d5e-434c-ee2c-1dfe637634c9",
        "colab": {
          "base_uri": "https://localhost:8080/",
          "height": 0
        }
      },
      "source": [
        "gender_factor <- factor(gender)\n",
        "gender_factor"
      ],
      "execution_count": 43,
      "outputs": [
        {
          "output_type": "display_data",
          "data": {
            "text/html": [
              "<style>\n",
              ".list-inline {list-style: none; margin:0; padding: 0}\n",
              ".list-inline>li {display: inline-block}\n",
              ".list-inline>li:not(:last-child)::after {content: \"\\00b7\"; padding: 0 .5ex}\n",
              "</style>\n",
              "<ol class=list-inline><li>male</li><li>male</li><li>female</li><li>female</li><li>male</li><li>female</li><li>male</li></ol>\n",
              "\n",
              "<details>\n",
              "\t<summary style=display:list-item;cursor:pointer>\n",
              "\t\t<strong>Levels</strong>:\n",
              "\t</summary>\n",
              "\t<style>\n",
              "\t.list-inline {list-style: none; margin:0; padding: 0}\n",
              "\t.list-inline>li {display: inline-block}\n",
              "\t.list-inline>li:not(:last-child)::after {content: \"\\00b7\"; padding: 0 .5ex}\n",
              "\t</style>\n",
              "\t<ol class=list-inline><li>'female'</li><li>'male'</li></ol>\n",
              "</details>"
            ],
            "text/markdown": "1. male\n2. male\n3. female\n4. female\n5. male\n6. female\n7. male\n\n\n\n**Levels**: 1. 'female'\n2. 'male'\n\n\n",
            "text/latex": "\\begin{enumerate*}\n\\item male\n\\item male\n\\item female\n\\item female\n\\item male\n\\item female\n\\item male\n\\end{enumerate*}\n\n\\emph{Levels}: \\begin{enumerate*}\n\\item 'female'\n\\item 'male'\n\\end{enumerate*}\n",
            "text/plain": [
              "[1] male   male   female female male   female male  \n",
              "Levels: female male"
            ]
          },
          "metadata": {}
        }
      ]
    },
    {
      "cell_type": "markdown",
      "metadata": {
        "id": "1ooscwr9tH_j"
      },
      "source": [
        "\n",
        "\n",
        "<br>\n",
        "\n",
        "\n"
      ]
    },
    {
      "cell_type": "markdown",
      "metadata": {
        "id": "sgOomvfqDfT1"
      },
      "source": [
        "Unique categories of the factor variable are called levels in R.\n",
        "\n",
        "We can observe the levels of the variable using the `levels()` function"
      ]
    },
    {
      "cell_type": "code",
      "metadata": {
        "id": "-ZKTvabIDqRp",
        "outputId": "1c6025cb-3c7f-4bfc-c823-4929eb0d16ac",
        "colab": {
          "base_uri": "https://localhost:8080/",
          "height": 0
        }
      },
      "source": [
        "levels(gender_factor)"
      ],
      "execution_count": 44,
      "outputs": [
        {
          "output_type": "display_data",
          "data": {
            "text/html": [
              "<style>\n",
              ".list-inline {list-style: none; margin:0; padding: 0}\n",
              ".list-inline>li {display: inline-block}\n",
              ".list-inline>li:not(:last-child)::after {content: \"\\00b7\"; padding: 0 .5ex}\n",
              "</style>\n",
              "<ol class=list-inline><li>'female'</li><li>'male'</li></ol>\n"
            ],
            "text/markdown": "1. 'female'\n2. 'male'\n\n\n",
            "text/latex": "\\begin{enumerate*}\n\\item 'female'\n\\item 'male'\n\\end{enumerate*}\n",
            "text/plain": [
              "[1] \"female\" \"male\"  "
            ]
          },
          "metadata": {}
        }
      ]
    },
    {
      "cell_type": "markdown",
      "metadata": {
        "id": "boaIrrWrtIrd"
      },
      "source": [
        "\n",
        "\n",
        "<br>\n",
        "\n",
        "\n"
      ]
    },
    {
      "cell_type": "markdown",
      "metadata": {
        "id": "nxnXTe9VD9Ru"
      },
      "source": [
        "Here, females are listed before males, but what if we wanted males listed before females?\n",
        "\n",
        "Sometimes this is desired in a statistical analysis."
      ]
    },
    {
      "cell_type": "code",
      "metadata": {
        "id": "fQdx0SdvEGGZ",
        "outputId": "72adf81d-8d16-4076-9526-aabe5402a669",
        "colab": {
          "base_uri": "https://localhost:8080/",
          "height": 0
        }
      },
      "source": [
        "gender_factor <- factor(gender, levels = c(\"male\", \"female\"))\n",
        "gender_factor"
      ],
      "execution_count": 45,
      "outputs": [
        {
          "output_type": "display_data",
          "data": {
            "text/html": [
              "<style>\n",
              ".list-inline {list-style: none; margin:0; padding: 0}\n",
              ".list-inline>li {display: inline-block}\n",
              ".list-inline>li:not(:last-child)::after {content: \"\\00b7\"; padding: 0 .5ex}\n",
              "</style>\n",
              "<ol class=list-inline><li>male</li><li>male</li><li>female</li><li>female</li><li>male</li><li>female</li><li>male</li></ol>\n",
              "\n",
              "<details>\n",
              "\t<summary style=display:list-item;cursor:pointer>\n",
              "\t\t<strong>Levels</strong>:\n",
              "\t</summary>\n",
              "\t<style>\n",
              "\t.list-inline {list-style: none; margin:0; padding: 0}\n",
              "\t.list-inline>li {display: inline-block}\n",
              "\t.list-inline>li:not(:last-child)::after {content: \"\\00b7\"; padding: 0 .5ex}\n",
              "\t</style>\n",
              "\t<ol class=list-inline><li>'male'</li><li>'female'</li></ol>\n",
              "</details>"
            ],
            "text/markdown": "1. male\n2. male\n3. female\n4. female\n5. male\n6. female\n7. male\n\n\n\n**Levels**: 1. 'male'\n2. 'female'\n\n\n",
            "text/latex": "\\begin{enumerate*}\n\\item male\n\\item male\n\\item female\n\\item female\n\\item male\n\\item female\n\\item male\n\\end{enumerate*}\n\n\\emph{Levels}: \\begin{enumerate*}\n\\item 'male'\n\\item 'female'\n\\end{enumerate*}\n",
            "text/plain": [
              "[1] male   male   female female male   female male  \n",
              "Levels: male female"
            ]
          },
          "metadata": {}
        }
      ]
    },
    {
      "cell_type": "markdown",
      "metadata": {
        "id": "E2PFRyLxtbvV"
      },
      "source": [
        "\n",
        "\n",
        "<br>\n",
        "\n",
        "\n"
      ]
    },
    {
      "cell_type": "markdown",
      "metadata": {
        "id": "rWvaZbrhES2v"
      },
      "source": [
        "Numeric variables can be converted to factors, but this doesn't make much sense. Why?\n",
        "\n",
        "Here is an example anyway...\n"
      ]
    },
    {
      "cell_type": "code",
      "metadata": {
        "id": "70HOBaHbEfr-",
        "outputId": "f542707b-a46b-409a-abe1-2ba510a31493",
        "colab": {
          "base_uri": "https://localhost:8080/",
          "height": 0
        }
      },
      "source": [
        "height_factor <- factor(height)\n",
        "height_factor"
      ],
      "execution_count": 46,
      "outputs": [
        {
          "output_type": "display_data",
          "data": {
            "text/html": [
              "<style>\n",
              ".list-inline {list-style: none; margin:0; padding: 0}\n",
              ".list-inline>li {display: inline-block}\n",
              ".list-inline>li:not(:last-child)::after {content: \"\\00b7\"; padding: 0 .5ex}\n",
              "</style>\n",
              "<ol class=list-inline><li>132</li><li>151</li><li>162</li><li>139</li><li>166</li><li>147</li><li>122</li></ol>\n",
              "\n",
              "<details>\n",
              "\t<summary style=display:list-item;cursor:pointer>\n",
              "\t\t<strong>Levels</strong>:\n",
              "\t</summary>\n",
              "\t<style>\n",
              "\t.list-inline {list-style: none; margin:0; padding: 0}\n",
              "\t.list-inline>li {display: inline-block}\n",
              "\t.list-inline>li:not(:last-child)::after {content: \"\\00b7\"; padding: 0 .5ex}\n",
              "\t</style>\n",
              "\t<ol class=list-inline><li>'122'</li><li>'132'</li><li>'139'</li><li>'147'</li><li>'151'</li><li>'162'</li><li>'166'</li></ol>\n",
              "</details>"
            ],
            "text/markdown": "1. 132\n2. 151\n3. 162\n4. 139\n5. 166\n6. 147\n7. 122\n\n\n\n**Levels**: 1. '122'\n2. '132'\n3. '139'\n4. '147'\n5. '151'\n6. '162'\n7. '166'\n\n\n",
            "text/latex": "\\begin{enumerate*}\n\\item 132\n\\item 151\n\\item 162\n\\item 139\n\\item 166\n\\item 147\n\\item 122\n\\end{enumerate*}\n\n\\emph{Levels}: \\begin{enumerate*}\n\\item '122'\n\\item '132'\n\\item '139'\n\\item '147'\n\\item '151'\n\\item '162'\n\\item '166'\n\\end{enumerate*}\n",
            "text/plain": [
              "[1] 132 151 162 139 166 147 122\n",
              "Levels: 122 132 139 147 151 162 166"
            ]
          },
          "metadata": {}
        }
      ]
    },
    {
      "cell_type": "markdown",
      "metadata": {
        "id": "Na8E4d8gtdgX"
      },
      "source": [
        "\n",
        "\n",
        "<br>\n",
        "\n",
        "\n"
      ]
    },
    {
      "cell_type": "markdown",
      "metadata": {
        "id": "959EjMdWG6wm"
      },
      "source": [
        "Can we add variables to a factor if the categories are \"numbers\"?"
      ]
    },
    {
      "cell_type": "code",
      "metadata": {
        "id": "k2GoE7KXGjVK",
        "outputId": "d679c835-d7ab-49aa-f695-3d360388d40b",
        "colab": {
          "base_uri": "https://localhost:8080/",
          "height": 0
        }
      },
      "source": [
        "# adding 10 to factor\n",
        "height_factor + 10"
      ],
      "execution_count": 47,
      "outputs": [
        {
          "output_type": "stream",
          "name": "stderr",
          "text": [
            "Warning message in Ops.factor(height_factor, 10):\n",
            "“‘+’ not meaningful for factors”\n"
          ]
        },
        {
          "output_type": "display_data",
          "data": {
            "text/html": [
              "<style>\n",
              ".list-inline {list-style: none; margin:0; padding: 0}\n",
              ".list-inline>li {display: inline-block}\n",
              ".list-inline>li:not(:last-child)::after {content: \"\\00b7\"; padding: 0 .5ex}\n",
              "</style>\n",
              "<ol class=list-inline><li>&lt;NA&gt;</li><li>&lt;NA&gt;</li><li>&lt;NA&gt;</li><li>&lt;NA&gt;</li><li>&lt;NA&gt;</li><li>&lt;NA&gt;</li><li>&lt;NA&gt;</li></ol>\n"
            ],
            "text/markdown": "1. &lt;NA&gt;\n2. &lt;NA&gt;\n3. &lt;NA&gt;\n4. &lt;NA&gt;\n5. &lt;NA&gt;\n6. &lt;NA&gt;\n7. &lt;NA&gt;\n\n\n",
            "text/latex": "\\begin{enumerate*}\n\\item <NA>\n\\item <NA>\n\\item <NA>\n\\item <NA>\n\\item <NA>\n\\item <NA>\n\\item <NA>\n\\end{enumerate*}\n",
            "text/plain": [
              "[1] NA NA NA NA NA NA NA"
            ]
          },
          "metadata": {}
        }
      ]
    },
    {
      "cell_type": "markdown",
      "metadata": {
        "id": "1DePOgI7thdH"
      },
      "source": [
        "\n",
        "\n",
        "<br>\n",
        "\n",
        "\n"
      ]
    },
    {
      "cell_type": "markdown",
      "metadata": {
        "id": "gpmEBwxLHJIq"
      },
      "source": [
        "How can we convert the factor back to a number? Let's try..."
      ]
    },
    {
      "cell_type": "code",
      "metadata": {
        "id": "iQJaDBumHNmu",
        "outputId": "366b3f27-d786-4796-ffaa-75b8501e0d94",
        "colab": {
          "base_uri": "https://localhost:8080/",
          "height": 0
        }
      },
      "source": [
        "height_factor"
      ],
      "execution_count": 48,
      "outputs": [
        {
          "output_type": "display_data",
          "data": {
            "text/html": [
              "<style>\n",
              ".list-inline {list-style: none; margin:0; padding: 0}\n",
              ".list-inline>li {display: inline-block}\n",
              ".list-inline>li:not(:last-child)::after {content: \"\\00b7\"; padding: 0 .5ex}\n",
              "</style>\n",
              "<ol class=list-inline><li>132</li><li>151</li><li>162</li><li>139</li><li>166</li><li>147</li><li>122</li></ol>\n",
              "\n",
              "<details>\n",
              "\t<summary style=display:list-item;cursor:pointer>\n",
              "\t\t<strong>Levels</strong>:\n",
              "\t</summary>\n",
              "\t<style>\n",
              "\t.list-inline {list-style: none; margin:0; padding: 0}\n",
              "\t.list-inline>li {display: inline-block}\n",
              "\t.list-inline>li:not(:last-child)::after {content: \"\\00b7\"; padding: 0 .5ex}\n",
              "\t</style>\n",
              "\t<ol class=list-inline><li>'122'</li><li>'132'</li><li>'139'</li><li>'147'</li><li>'151'</li><li>'162'</li><li>'166'</li></ol>\n",
              "</details>"
            ],
            "text/markdown": "1. 132\n2. 151\n3. 162\n4. 139\n5. 166\n6. 147\n7. 122\n\n\n\n**Levels**: 1. '122'\n2. '132'\n3. '139'\n4. '147'\n5. '151'\n6. '162'\n7. '166'\n\n\n",
            "text/latex": "\\begin{enumerate*}\n\\item 132\n\\item 151\n\\item 162\n\\item 139\n\\item 166\n\\item 147\n\\item 122\n\\end{enumerate*}\n\n\\emph{Levels}: \\begin{enumerate*}\n\\item '122'\n\\item '132'\n\\item '139'\n\\item '147'\n\\item '151'\n\\item '162'\n\\item '166'\n\\end{enumerate*}\n",
            "text/plain": [
              "[1] 132 151 162 139 166 147 122\n",
              "Levels: 122 132 139 147 151 162 166"
            ]
          },
          "metadata": {}
        }
      ]
    },
    {
      "cell_type": "code",
      "metadata": {
        "id": "S8V1FMaqHeGp",
        "outputId": "494d6342-fe1c-4801-d1cf-f3af9f1796b7",
        "colab": {
          "base_uri": "https://localhost:8080/",
          "height": 0
        }
      },
      "source": [
        "# convert the factor to numeric\n",
        "as.numeric(height_factor)"
      ],
      "execution_count": 49,
      "outputs": [
        {
          "output_type": "display_data",
          "data": {
            "text/html": [
              "<style>\n",
              ".list-inline {list-style: none; margin:0; padding: 0}\n",
              ".list-inline>li {display: inline-block}\n",
              ".list-inline>li:not(:last-child)::after {content: \"\\00b7\"; padding: 0 .5ex}\n",
              "</style>\n",
              "<ol class=list-inline><li>2</li><li>5</li><li>6</li><li>3</li><li>7</li><li>4</li><li>1</li></ol>\n"
            ],
            "text/markdown": "1. 2\n2. 5\n3. 6\n4. 3\n5. 7\n6. 4\n7. 1\n\n\n",
            "text/latex": "\\begin{enumerate*}\n\\item 2\n\\item 5\n\\item 6\n\\item 3\n\\item 7\n\\item 4\n\\item 1\n\\end{enumerate*}\n",
            "text/plain": [
              "[1] 2 5 6 3 7 4 1"
            ]
          },
          "metadata": {}
        }
      ]
    },
    {
      "cell_type": "markdown",
      "metadata": {
        "id": "-n3jT0ncHjEK"
      },
      "source": [
        "CAREFUL!!! What happens in the above result?\n"
      ]
    },
    {
      "cell_type": "markdown",
      "metadata": {
        "id": "_YrNpOYbtziw"
      },
      "source": [
        "\n",
        "\n",
        "<br>\n",
        "\n",
        "\n"
      ]
    },
    {
      "cell_type": "markdown",
      "metadata": {
        "id": "qTYZKXu9txf8"
      },
      "source": [
        "If you want to convert the factor back to numeric using `as.character()` then `as.numeric()`"
      ]
    },
    {
      "cell_type": "code",
      "metadata": {
        "id": "tftFYR-gH-pC",
        "outputId": "e75fb62e-83fa-45aa-afbc-7131c0d8825a",
        "colab": {
          "base_uri": "https://localhost:8080/",
          "height": 0
        }
      },
      "source": [
        "height_numeric <- as.numeric(as.character(height_factor))\n",
        "height_numeric\n",
        "class(height_numeric)"
      ],
      "execution_count": 50,
      "outputs": [
        {
          "output_type": "display_data",
          "data": {
            "text/html": [
              "<style>\n",
              ".list-inline {list-style: none; margin:0; padding: 0}\n",
              ".list-inline>li {display: inline-block}\n",
              ".list-inline>li:not(:last-child)::after {content: \"\\00b7\"; padding: 0 .5ex}\n",
              "</style>\n",
              "<ol class=list-inline><li>132</li><li>151</li><li>162</li><li>139</li><li>166</li><li>147</li><li>122</li></ol>\n"
            ],
            "text/markdown": "1. 132\n2. 151\n3. 162\n4. 139\n5. 166\n6. 147\n7. 122\n\n\n",
            "text/latex": "\\begin{enumerate*}\n\\item 132\n\\item 151\n\\item 162\n\\item 139\n\\item 166\n\\item 147\n\\item 122\n\\end{enumerate*}\n",
            "text/plain": [
              "[1] 132 151 162 139 166 147 122"
            ]
          },
          "metadata": {}
        },
        {
          "output_type": "display_data",
          "data": {
            "text/html": [
              "'numeric'"
            ],
            "text/markdown": "'numeric'",
            "text/latex": "'numeric'",
            "text/plain": [
              "[1] \"numeric\""
            ]
          },
          "metadata": {}
        }
      ]
    },
    {
      "cell_type": "markdown",
      "metadata": {
        "id": "JhxHbqxBtnAc"
      },
      "source": [
        "\n",
        "\n",
        "<br>\n",
        "\n",
        "\n"
      ]
    },
    {
      "cell_type": "markdown",
      "metadata": {
        "id": "OweMexXHGcVK"
      },
      "source": [
        "* Note: Sometimes, categorical variables are coded with numbers (e.g., 1 = \"Female\", 2 = \"Male\")\n",
        "* Be careful not to treat these variables as numerical, since they are categorical"
      ]
    },
    {
      "cell_type": "markdown",
      "metadata": {
        "id": "_gkm0fcTtnUf"
      },
      "source": [
        "\n",
        "\n",
        "<br>\n",
        "\n",
        "\n"
      ]
    },
    {
      "cell_type": "markdown",
      "metadata": {
        "id": "Z5A032ASIUmL"
      },
      "source": [
        "## Dataframes\n",
        "\n",
        "* Dataframes are possibly the most important data structure for this course\n",
        "* If our data is not in the form of a dataframe, then we must convert the data to a dataframe\n",
        "* Many of the algorithms in R take dataframes as input"
      ]
    },
    {
      "cell_type": "markdown",
      "metadata": {
        "id": "o8L66GpZIp9O"
      },
      "source": [
        "* A dataframe is a special type of list where every element of the list has the same length\n",
        "* We can combine vectors to form a dataframe using the `data.frame()` function"
      ]
    },
    {
      "cell_type": "code",
      "metadata": {
        "id": "iYw25rCIJEFK",
        "outputId": "0b12eaac-aed8-424b-9b32-c051d61c5a33",
        "colab": {
          "base_uri": "https://localhost:8080/",
          "height": 0
        }
      },
      "source": [
        "# variables\n",
        "height <- c(132,151,162,139,166,147,122)\n",
        "weight <- c(48, 49, 66, 53, 67, 52, 40)\n",
        "gender <- c(\"male\",\"male\",\"female\",\"female\",\"male\",\"female\",\"male\")\n",
        "\n",
        "# create dataframe\n",
        "dat <- data.frame(height, weight, gender)\n",
        "dat"
      ],
      "execution_count": 51,
      "outputs": [
        {
          "output_type": "display_data",
          "data": {
            "text/html": [
              "<table class=\"dataframe\">\n",
              "<caption>A data.frame: 7 × 3</caption>\n",
              "<thead>\n",
              "\t<tr><th scope=col>height</th><th scope=col>weight</th><th scope=col>gender</th></tr>\n",
              "\t<tr><th scope=col>&lt;dbl&gt;</th><th scope=col>&lt;dbl&gt;</th><th scope=col>&lt;chr&gt;</th></tr>\n",
              "</thead>\n",
              "<tbody>\n",
              "\t<tr><td>132</td><td>48</td><td>male  </td></tr>\n",
              "\t<tr><td>151</td><td>49</td><td>male  </td></tr>\n",
              "\t<tr><td>162</td><td>66</td><td>female</td></tr>\n",
              "\t<tr><td>139</td><td>53</td><td>female</td></tr>\n",
              "\t<tr><td>166</td><td>67</td><td>male  </td></tr>\n",
              "\t<tr><td>147</td><td>52</td><td>female</td></tr>\n",
              "\t<tr><td>122</td><td>40</td><td>male  </td></tr>\n",
              "</tbody>\n",
              "</table>\n"
            ],
            "text/markdown": "\nA data.frame: 7 × 3\n\n| height &lt;dbl&gt; | weight &lt;dbl&gt; | gender &lt;chr&gt; |\n|---|---|---|\n| 132 | 48 | male   |\n| 151 | 49 | male   |\n| 162 | 66 | female |\n| 139 | 53 | female |\n| 166 | 67 | male   |\n| 147 | 52 | female |\n| 122 | 40 | male   |\n\n",
            "text/latex": "A data.frame: 7 × 3\n\\begin{tabular}{lll}\n height & weight & gender\\\\\n <dbl> & <dbl> & <chr>\\\\\n\\hline\n\t 132 & 48 & male  \\\\\n\t 151 & 49 & male  \\\\\n\t 162 & 66 & female\\\\\n\t 139 & 53 & female\\\\\n\t 166 & 67 & male  \\\\\n\t 147 & 52 & female\\\\\n\t 122 & 40 & male  \\\\\n\\end{tabular}\n",
            "text/plain": [
              "  height weight gender\n",
              "1 132    48     male  \n",
              "2 151    49     male  \n",
              "3 162    66     female\n",
              "4 139    53     female\n",
              "5 166    67     male  \n",
              "6 147    52     female\n",
              "7 122    40     male  "
            ]
          },
          "metadata": {}
        }
      ]
    },
    {
      "cell_type": "code",
      "metadata": {
        "id": "6zVxL2PuJO38",
        "outputId": "caa82f56-f18f-4bf2-b3b6-5f97c959e386",
        "colab": {
          "base_uri": "https://localhost:8080/",
          "height": 0
        }
      },
      "source": [
        "# view the first few rows of the dataframe\n",
        "head(dat, 3)"
      ],
      "execution_count": 52,
      "outputs": [
        {
          "output_type": "display_data",
          "data": {
            "text/html": [
              "<table class=\"dataframe\">\n",
              "<caption>A data.frame: 3 × 3</caption>\n",
              "<thead>\n",
              "\t<tr><th></th><th scope=col>height</th><th scope=col>weight</th><th scope=col>gender</th></tr>\n",
              "\t<tr><th></th><th scope=col>&lt;dbl&gt;</th><th scope=col>&lt;dbl&gt;</th><th scope=col>&lt;chr&gt;</th></tr>\n",
              "</thead>\n",
              "<tbody>\n",
              "\t<tr><th scope=row>1</th><td>132</td><td>48</td><td>male  </td></tr>\n",
              "\t<tr><th scope=row>2</th><td>151</td><td>49</td><td>male  </td></tr>\n",
              "\t<tr><th scope=row>3</th><td>162</td><td>66</td><td>female</td></tr>\n",
              "</tbody>\n",
              "</table>\n"
            ],
            "text/markdown": "\nA data.frame: 3 × 3\n\n| <!--/--> | height &lt;dbl&gt; | weight &lt;dbl&gt; | gender &lt;chr&gt; |\n|---|---|---|---|\n| 1 | 132 | 48 | male   |\n| 2 | 151 | 49 | male   |\n| 3 | 162 | 66 | female |\n\n",
            "text/latex": "A data.frame: 3 × 3\n\\begin{tabular}{r|lll}\n  & height & weight & gender\\\\\n  & <dbl> & <dbl> & <chr>\\\\\n\\hline\n\t1 & 132 & 48 & male  \\\\\n\t2 & 151 & 49 & male  \\\\\n\t3 & 162 & 66 & female\\\\\n\\end{tabular}\n",
            "text/plain": [
              "  height weight gender\n",
              "1 132    48     male  \n",
              "2 151    49     male  \n",
              "3 162    66     female"
            ]
          },
          "metadata": {}
        }
      ]
    },
    {
      "cell_type": "code",
      "metadata": {
        "id": "5yPuwCLnJYC-",
        "outputId": "2a7ce563-4ca0-49b1-c923-b59e53f17793",
        "colab": {
          "base_uri": "https://localhost:8080/",
          "height": 0
        }
      },
      "source": [
        "# view the last few rows of the dataframe\n",
        "tail(dat, 3)"
      ],
      "execution_count": 53,
      "outputs": [
        {
          "output_type": "display_data",
          "data": {
            "text/html": [
              "<table class=\"dataframe\">\n",
              "<caption>A data.frame: 3 × 3</caption>\n",
              "<thead>\n",
              "\t<tr><th></th><th scope=col>height</th><th scope=col>weight</th><th scope=col>gender</th></tr>\n",
              "\t<tr><th></th><th scope=col>&lt;dbl&gt;</th><th scope=col>&lt;dbl&gt;</th><th scope=col>&lt;chr&gt;</th></tr>\n",
              "</thead>\n",
              "<tbody>\n",
              "\t<tr><th scope=row>5</th><td>166</td><td>67</td><td>male  </td></tr>\n",
              "\t<tr><th scope=row>6</th><td>147</td><td>52</td><td>female</td></tr>\n",
              "\t<tr><th scope=row>7</th><td>122</td><td>40</td><td>male  </td></tr>\n",
              "</tbody>\n",
              "</table>\n"
            ],
            "text/markdown": "\nA data.frame: 3 × 3\n\n| <!--/--> | height &lt;dbl&gt; | weight &lt;dbl&gt; | gender &lt;chr&gt; |\n|---|---|---|---|\n| 5 | 166 | 67 | male   |\n| 6 | 147 | 52 | female |\n| 7 | 122 | 40 | male   |\n\n",
            "text/latex": "A data.frame: 3 × 3\n\\begin{tabular}{r|lll}\n  & height & weight & gender\\\\\n  & <dbl> & <dbl> & <chr>\\\\\n\\hline\n\t5 & 166 & 67 & male  \\\\\n\t6 & 147 & 52 & female\\\\\n\t7 & 122 & 40 & male  \\\\\n\\end{tabular}\n",
            "text/plain": [
              "  height weight gender\n",
              "5 166    67     male  \n",
              "6 147    52     female\n",
              "7 122    40     male  "
            ]
          },
          "metadata": {}
        }
      ]
    },
    {
      "cell_type": "code",
      "metadata": {
        "id": "7Pc00zcbJcY9",
        "outputId": "85719568-8965-4a32-a239-bec5f86695fb",
        "colab": {
          "base_uri": "https://localhost:8080/",
          "height": 0
        }
      },
      "source": [
        "# view the variable names of the dataframe\n",
        "names(dat)"
      ],
      "execution_count": 54,
      "outputs": [
        {
          "output_type": "display_data",
          "data": {
            "text/html": [
              "<style>\n",
              ".list-inline {list-style: none; margin:0; padding: 0}\n",
              ".list-inline>li {display: inline-block}\n",
              ".list-inline>li:not(:last-child)::after {content: \"\\00b7\"; padding: 0 .5ex}\n",
              "</style>\n",
              "<ol class=list-inline><li>'height'</li><li>'weight'</li><li>'gender'</li></ol>\n"
            ],
            "text/markdown": "1. 'height'\n2. 'weight'\n3. 'gender'\n\n\n",
            "text/latex": "\\begin{enumerate*}\n\\item 'height'\n\\item 'weight'\n\\item 'gender'\n\\end{enumerate*}\n",
            "text/plain": [
              "[1] \"height\" \"weight\" \"gender\""
            ]
          },
          "metadata": {}
        }
      ]
    },
    {
      "cell_type": "code",
      "metadata": {
        "id": "B7rPZ3q3Jj61",
        "outputId": "652d7181-1cf5-4ada-d8af-c516bc123e5f",
        "colab": {
          "base_uri": "https://localhost:8080/",
          "height": 0
        }
      },
      "source": [
        "# dimensions of the dataframe\n",
        "dim(dat)"
      ],
      "execution_count": 55,
      "outputs": [
        {
          "output_type": "display_data",
          "data": {
            "text/html": [
              "<style>\n",
              ".list-inline {list-style: none; margin:0; padding: 0}\n",
              ".list-inline>li {display: inline-block}\n",
              ".list-inline>li:not(:last-child)::after {content: \"\\00b7\"; padding: 0 .5ex}\n",
              "</style>\n",
              "<ol class=list-inline><li>7</li><li>3</li></ol>\n"
            ],
            "text/markdown": "1. 7\n2. 3\n\n\n",
            "text/latex": "\\begin{enumerate*}\n\\item 7\n\\item 3\n\\end{enumerate*}\n",
            "text/plain": [
              "[1] 7 3"
            ]
          },
          "metadata": {}
        }
      ]
    },
    {
      "cell_type": "code",
      "metadata": {
        "id": "6CAuNtthJmeR",
        "outputId": "a4d91505-aa11-4b93-aba9-ae679983e3a0",
        "colab": {
          "base_uri": "https://localhost:8080/",
          "height": 0
        }
      },
      "source": [
        "# number of rows\n",
        "nrow(dat)\n",
        "\n",
        "# number of columns\n",
        "ncol(dat)"
      ],
      "execution_count": 56,
      "outputs": [
        {
          "output_type": "display_data",
          "data": {
            "text/html": [
              "7"
            ],
            "text/markdown": "7",
            "text/latex": "7",
            "text/plain": [
              "[1] 7"
            ]
          },
          "metadata": {}
        },
        {
          "output_type": "display_data",
          "data": {
            "text/html": [
              "3"
            ],
            "text/markdown": "3",
            "text/latex": "3",
            "text/plain": [
              "[1] 3"
            ]
          },
          "metadata": {}
        }
      ]
    },
    {
      "cell_type": "code",
      "metadata": {
        "id": "_FspewgSJxVI",
        "outputId": "108afcae-65b5-4c5a-eaed-6dc69c977947",
        "colab": {
          "base_uri": "https://localhost:8080/"
        }
      },
      "source": [
        "# description of each variable in the dataframe\n",
        "str(dat)"
      ],
      "execution_count": 57,
      "outputs": [
        {
          "output_type": "stream",
          "name": "stdout",
          "text": [
            "'data.frame':\t7 obs. of  3 variables:\n",
            " $ height: num  132 151 162 139 166 147 122\n",
            " $ weight: num  48 49 66 53 67 52 40\n",
            " $ gender: chr  \"male\" \"male\" \"female\" \"female\" ...\n"
          ]
        }
      ]
    },
    {
      "cell_type": "markdown",
      "metadata": {
        "id": "WBx50qnvt6Dp"
      },
      "source": [
        "\n",
        "\n",
        "<br>\n",
        "\n",
        "\n"
      ]
    },
    {
      "cell_type": "markdown",
      "metadata": {
        "id": "6dqvvi-_J6If"
      },
      "source": [
        "* We call/extract a variable (or column) from the dataframe using the `$` symbol\n",
        "* Each column is a vector"
      ]
    },
    {
      "cell_type": "code",
      "metadata": {
        "id": "qFp9mOm4KAHr",
        "outputId": "808af460-6305-4f53-c03e-0d899a686726",
        "colab": {
          "base_uri": "https://localhost:8080/",
          "height": 0
        }
      },
      "source": [
        "# this calls the weight variable and multiplies by 2\n",
        "dat$weight * 2"
      ],
      "execution_count": 58,
      "outputs": [
        {
          "output_type": "display_data",
          "data": {
            "text/html": [
              "<style>\n",
              ".list-inline {list-style: none; margin:0; padding: 0}\n",
              ".list-inline>li {display: inline-block}\n",
              ".list-inline>li:not(:last-child)::after {content: \"\\00b7\"; padding: 0 .5ex}\n",
              "</style>\n",
              "<ol class=list-inline><li>96</li><li>98</li><li>132</li><li>106</li><li>134</li><li>104</li><li>80</li></ol>\n"
            ],
            "text/markdown": "1. 96\n2. 98\n3. 132\n4. 106\n5. 134\n6. 104\n7. 80\n\n\n",
            "text/latex": "\\begin{enumerate*}\n\\item 96\n\\item 98\n\\item 132\n\\item 106\n\\item 134\n\\item 104\n\\item 80\n\\end{enumerate*}\n",
            "text/plain": [
              "[1]  96  98 132 106 134 104  80"
            ]
          },
          "metadata": {}
        }
      ]
    },
    {
      "cell_type": "code",
      "metadata": {
        "id": "I3UfpPeLKK9J",
        "outputId": "9145d8d9-865b-45a8-a7c1-8e9e297cff58",
        "colab": {
          "base_uri": "https://localhost:8080/",
          "height": 0
        }
      },
      "source": [
        "class(dat$weight)\n",
        "typeof(dat$weight)"
      ],
      "execution_count": 59,
      "outputs": [
        {
          "output_type": "display_data",
          "data": {
            "text/html": [
              "'numeric'"
            ],
            "text/markdown": "'numeric'",
            "text/latex": "'numeric'",
            "text/plain": [
              "[1] \"numeric\""
            ]
          },
          "metadata": {}
        },
        {
          "output_type": "display_data",
          "data": {
            "text/html": [
              "'double'"
            ],
            "text/markdown": "'double'",
            "text/latex": "'double'",
            "text/plain": [
              "[1] \"double\""
            ]
          },
          "metadata": {}
        }
      ]
    },
    {
      "cell_type": "markdown",
      "metadata": {
        "id": "Ljkx23otVNR4"
      },
      "source": [
        "\n",
        "\n",
        "<br>\n",
        "\n",
        "\n"
      ]
    },
    {
      "cell_type": "markdown",
      "metadata": {
        "id": "73oIVuVbVNSH"
      },
      "source": [
        "* We can store new variables using the `$` symbol\n",
        "* You must be careful not to overwrite your original data!"
      ]
    },
    {
      "cell_type": "code",
      "metadata": {
        "id": "Y9IzqFQ3VNSK",
        "outputId": "b5230ca5-c02d-418e-a675-40c415a79553",
        "colab": {
          "base_uri": "https://localhost:8080/",
          "height": 0
        }
      },
      "source": [
        "# store weight * 2 as twice_weight\n",
        "dat$twice_weight <- dat$weight * 2\n",
        "\n",
        "head(dat)"
      ],
      "execution_count": 60,
      "outputs": [
        {
          "output_type": "display_data",
          "data": {
            "text/html": [
              "<table class=\"dataframe\">\n",
              "<caption>A data.frame: 6 × 4</caption>\n",
              "<thead>\n",
              "\t<tr><th></th><th scope=col>height</th><th scope=col>weight</th><th scope=col>gender</th><th scope=col>twice_weight</th></tr>\n",
              "\t<tr><th></th><th scope=col>&lt;dbl&gt;</th><th scope=col>&lt;dbl&gt;</th><th scope=col>&lt;chr&gt;</th><th scope=col>&lt;dbl&gt;</th></tr>\n",
              "</thead>\n",
              "<tbody>\n",
              "\t<tr><th scope=row>1</th><td>132</td><td>48</td><td>male  </td><td> 96</td></tr>\n",
              "\t<tr><th scope=row>2</th><td>151</td><td>49</td><td>male  </td><td> 98</td></tr>\n",
              "\t<tr><th scope=row>3</th><td>162</td><td>66</td><td>female</td><td>132</td></tr>\n",
              "\t<tr><th scope=row>4</th><td>139</td><td>53</td><td>female</td><td>106</td></tr>\n",
              "\t<tr><th scope=row>5</th><td>166</td><td>67</td><td>male  </td><td>134</td></tr>\n",
              "\t<tr><th scope=row>6</th><td>147</td><td>52</td><td>female</td><td>104</td></tr>\n",
              "</tbody>\n",
              "</table>\n"
            ],
            "text/markdown": "\nA data.frame: 6 × 4\n\n| <!--/--> | height &lt;dbl&gt; | weight &lt;dbl&gt; | gender &lt;chr&gt; | twice_weight &lt;dbl&gt; |\n|---|---|---|---|---|\n| 1 | 132 | 48 | male   |  96 |\n| 2 | 151 | 49 | male   |  98 |\n| 3 | 162 | 66 | female | 132 |\n| 4 | 139 | 53 | female | 106 |\n| 5 | 166 | 67 | male   | 134 |\n| 6 | 147 | 52 | female | 104 |\n\n",
            "text/latex": "A data.frame: 6 × 4\n\\begin{tabular}{r|llll}\n  & height & weight & gender & twice\\_weight\\\\\n  & <dbl> & <dbl> & <chr> & <dbl>\\\\\n\\hline\n\t1 & 132 & 48 & male   &  96\\\\\n\t2 & 151 & 49 & male   &  98\\\\\n\t3 & 162 & 66 & female & 132\\\\\n\t4 & 139 & 53 & female & 106\\\\\n\t5 & 166 & 67 & male   & 134\\\\\n\t6 & 147 & 52 & female & 104\\\\\n\\end{tabular}\n",
            "text/plain": [
              "  height weight gender twice_weight\n",
              "1 132    48     male    96         \n",
              "2 151    49     male    98         \n",
              "3 162    66     female 132         \n",
              "4 139    53     female 106         \n",
              "5 166    67     male   134         \n",
              "6 147    52     female 104         "
            ]
          },
          "metadata": {}
        }
      ]
    },
    {
      "cell_type": "markdown",
      "metadata": {
        "id": "sXsFK4p6t94g"
      },
      "source": [
        "\n",
        "\n",
        "<br>\n",
        "\n",
        "\n"
      ]
    },
    {
      "cell_type": "markdown",
      "metadata": {
        "id": "IP28o3wvK5jD"
      },
      "source": [
        "## List\n",
        "\n",
        "* The list class allows you to store multiple data structures in a single variable\n",
        "* This is useful if you have multiple data structures associated with a single object\n",
        "* For example, a patient may have demographic data, a CT image of their lungs, and genomic data"
      ]
    },
    {
      "cell_type": "markdown",
      "metadata": {
        "id": "uXBnI6jCL3jg"
      },
      "source": [
        "* Lists are created using the `list()` function"
      ]
    },
    {
      "cell_type": "code",
      "metadata": {
        "id": "1XTPYqRtLG-c"
      },
      "source": [
        "# create a dataframe\n",
        "height <- c(132,151,162,139,166,147,122)\n",
        "weight <- c(48, 49, 66, 53, 67, 52, 40)\n",
        "gender <- c(\"male\",\"male\",\"female\",\"female\",\"male\",\"female\",\"male\")\n",
        "dat <- data.frame(height, weight, gender)\n",
        "\n",
        "# create a vector\n",
        "vec <- sample(1:100, 5)\n",
        "\n",
        "# create a matrix\n",
        "mat <- matrix(1:10, ncol=2)\n",
        "\n",
        "# create a factor\n",
        "fac <- factor(c(\"0-20 hours\", \"21-40 hours\", \n",
        "                \">40 hours\", \"0-20 hours\", \">40 hours\"))"
      ],
      "execution_count": 61,
      "outputs": []
    },
    {
      "cell_type": "code",
      "metadata": {
        "id": "h3-qQ2gAMgrB",
        "outputId": "6d03c30d-cd8d-44f4-d29e-ae6904379b52",
        "colab": {
          "base_uri": "https://localhost:8080/",
          "height": 0
        }
      },
      "source": [
        "# combine these into a list\n",
        "my_list <- list(my_data = dat, my_vector = vec, my_matrix = mat, my_factor = fac)\n",
        "my_list"
      ],
      "execution_count": 62,
      "outputs": [
        {
          "output_type": "display_data",
          "data": {
            "text/html": [
              "<dl>\n",
              "\t<dt>$my_data</dt>\n",
              "\t\t<dd><table class=\"dataframe\">\n",
              "<caption>A data.frame: 7 × 3</caption>\n",
              "<thead>\n",
              "\t<tr><th scope=col>height</th><th scope=col>weight</th><th scope=col>gender</th></tr>\n",
              "\t<tr><th scope=col>&lt;dbl&gt;</th><th scope=col>&lt;dbl&gt;</th><th scope=col>&lt;chr&gt;</th></tr>\n",
              "</thead>\n",
              "<tbody>\n",
              "\t<tr><td>132</td><td>48</td><td>male  </td></tr>\n",
              "\t<tr><td>151</td><td>49</td><td>male  </td></tr>\n",
              "\t<tr><td>162</td><td>66</td><td>female</td></tr>\n",
              "\t<tr><td>139</td><td>53</td><td>female</td></tr>\n",
              "\t<tr><td>166</td><td>67</td><td>male  </td></tr>\n",
              "\t<tr><td>147</td><td>52</td><td>female</td></tr>\n",
              "\t<tr><td>122</td><td>40</td><td>male  </td></tr>\n",
              "</tbody>\n",
              "</table>\n",
              "</dd>\n",
              "\t<dt>$my_vector</dt>\n",
              "\t\t<dd><style>\n",
              ".list-inline {list-style: none; margin:0; padding: 0}\n",
              ".list-inline>li {display: inline-block}\n",
              ".list-inline>li:not(:last-child)::after {content: \"\\00b7\"; padding: 0 .5ex}\n",
              "</style>\n",
              "<ol class=list-inline><li>66</li><li>8</li><li>9</li><li>22</li><li>87</li></ol>\n",
              "</dd>\n",
              "\t<dt>$my_matrix</dt>\n",
              "\t\t<dd><table class=\"dataframe\">\n",
              "<caption>A matrix: 5 × 2 of type int</caption>\n",
              "<tbody>\n",
              "\t<tr><td>1</td><td> 6</td></tr>\n",
              "\t<tr><td>2</td><td> 7</td></tr>\n",
              "\t<tr><td>3</td><td> 8</td></tr>\n",
              "\t<tr><td>4</td><td> 9</td></tr>\n",
              "\t<tr><td>5</td><td>10</td></tr>\n",
              "</tbody>\n",
              "</table>\n",
              "</dd>\n",
              "\t<dt>$my_factor</dt>\n",
              "\t\t<dd><style>\n",
              ".list-inline {list-style: none; margin:0; padding: 0}\n",
              ".list-inline>li {display: inline-block}\n",
              ".list-inline>li:not(:last-child)::after {content: \"\\00b7\"; padding: 0 .5ex}\n",
              "</style>\n",
              "<ol class=list-inline><li>0-20 hours</li><li>21-40 hours</li><li>&gt;40 hours</li><li>0-20 hours</li><li>&gt;40 hours</li></ol>\n",
              "\n",
              "<details>\n",
              "\t<summary style=display:list-item;cursor:pointer>\n",
              "\t\t<strong>Levels</strong>:\n",
              "\t</summary>\n",
              "\t<style>\n",
              "\t.list-inline {list-style: none; margin:0; padding: 0}\n",
              "\t.list-inline>li {display: inline-block}\n",
              "\t.list-inline>li:not(:last-child)::after {content: \"\\00b7\"; padding: 0 .5ex}\n",
              "\t</style>\n",
              "\t<ol class=list-inline><li>'&gt;40 hours'</li><li>'0-20 hours'</li><li>'21-40 hours'</li></ol>\n",
              "</details></dd>\n",
              "</dl>\n"
            ],
            "text/markdown": "$my_data\n:   \nA data.frame: 7 × 3\n\n| height &lt;dbl&gt; | weight &lt;dbl&gt; | gender &lt;chr&gt; |\n|---|---|---|\n| 132 | 48 | male   |\n| 151 | 49 | male   |\n| 162 | 66 | female |\n| 139 | 53 | female |\n| 166 | 67 | male   |\n| 147 | 52 | female |\n| 122 | 40 | male   |\n\n\n$my_vector\n:   1. 66\n2. 8\n3. 9\n4. 22\n5. 87\n\n\n\n$my_matrix\n:   \nA matrix: 5 × 2 of type int\n\n| 1 |  6 |\n| 2 |  7 |\n| 3 |  8 |\n| 4 |  9 |\n| 5 | 10 |\n\n\n$my_factor\n:   1. 0-20 hours\n2. 21-40 hours\n3. &gt;40 hours\n4. 0-20 hours\n5. &gt;40 hours\n\n\n\n**Levels**: 1. '&gt;40 hours'\n2. '0-20 hours'\n3. '21-40 hours'\n\n\n\n\n\n",
            "text/latex": "\\begin{description}\n\\item[\\$my\\_data] A data.frame: 7 × 3\n\\begin{tabular}{lll}\n height & weight & gender\\\\\n <dbl> & <dbl> & <chr>\\\\\n\\hline\n\t 132 & 48 & male  \\\\\n\t 151 & 49 & male  \\\\\n\t 162 & 66 & female\\\\\n\t 139 & 53 & female\\\\\n\t 166 & 67 & male  \\\\\n\t 147 & 52 & female\\\\\n\t 122 & 40 & male  \\\\\n\\end{tabular}\n\n\\item[\\$my\\_vector] \\begin{enumerate*}\n\\item 66\n\\item 8\n\\item 9\n\\item 22\n\\item 87\n\\end{enumerate*}\n\n\\item[\\$my\\_matrix] A matrix: 5 × 2 of type int\n\\begin{tabular}{ll}\n\t 1 &  6\\\\\n\t 2 &  7\\\\\n\t 3 &  8\\\\\n\t 4 &  9\\\\\n\t 5 & 10\\\\\n\\end{tabular}\n\n\\item[\\$my\\_factor] \\begin{enumerate*}\n\\item 0-20 hours\n\\item 21-40 hours\n\\item >40 hours\n\\item 0-20 hours\n\\item >40 hours\n\\end{enumerate*}\n\n\\emph{Levels}: \\begin{enumerate*}\n\\item '>40 hours'\n\\item '0-20 hours'\n\\item '21-40 hours'\n\\end{enumerate*}\n\n\\end{description}\n",
            "text/plain": [
              "$my_data\n",
              "  height weight gender\n",
              "1    132     48   male\n",
              "2    151     49   male\n",
              "3    162     66 female\n",
              "4    139     53 female\n",
              "5    166     67   male\n",
              "6    147     52 female\n",
              "7    122     40   male\n",
              "\n",
              "$my_vector\n",
              "[1] 66  8  9 22 87\n",
              "\n",
              "$my_matrix\n",
              "     [,1] [,2]\n",
              "[1,]    1    6\n",
              "[2,]    2    7\n",
              "[3,]    3    8\n",
              "[4,]    4    9\n",
              "[5,]    5   10\n",
              "\n",
              "$my_factor\n",
              "[1] 0-20 hours  21-40 hours >40 hours   0-20 hours  >40 hours  \n",
              "Levels: >40 hours 0-20 hours 21-40 hours\n"
            ]
          },
          "metadata": {}
        }
      ]
    },
    {
      "cell_type": "markdown",
      "metadata": {
        "id": "kqpTQmZxuDK9"
      },
      "source": [
        "\n",
        "\n",
        "<br>\n",
        "\n",
        "\n"
      ]
    },
    {
      "cell_type": "markdown",
      "metadata": {
        "id": "ie9_v5TsNMX6"
      },
      "source": [
        "* Notice that each of the elements of the list has a name (e.g., `$my_factor`)\n",
        "* You can observe the names of the list elements using the `names()` function"
      ]
    },
    {
      "cell_type": "code",
      "metadata": {
        "id": "F8rpwormNcSj",
        "outputId": "32a3ea9a-cc55-42de-c51f-1a8399908bff",
        "colab": {
          "base_uri": "https://localhost:8080/",
          "height": 0
        }
      },
      "source": [
        "names(my_list)"
      ],
      "execution_count": 63,
      "outputs": [
        {
          "output_type": "display_data",
          "data": {
            "text/html": [
              "<style>\n",
              ".list-inline {list-style: none; margin:0; padding: 0}\n",
              ".list-inline>li {display: inline-block}\n",
              ".list-inline>li:not(:last-child)::after {content: \"\\00b7\"; padding: 0 .5ex}\n",
              "</style>\n",
              "<ol class=list-inline><li>'my_data'</li><li>'my_vector'</li><li>'my_matrix'</li><li>'my_factor'</li></ol>\n"
            ],
            "text/markdown": "1. 'my_data'\n2. 'my_vector'\n3. 'my_matrix'\n4. 'my_factor'\n\n\n",
            "text/latex": "\\begin{enumerate*}\n\\item 'my\\_data'\n\\item 'my\\_vector'\n\\item 'my\\_matrix'\n\\item 'my\\_factor'\n\\end{enumerate*}\n",
            "text/plain": [
              "[1] \"my_data\"   \"my_vector\" \"my_matrix\" \"my_factor\""
            ]
          },
          "metadata": {}
        }
      ]
    },
    {
      "cell_type": "markdown",
      "metadata": {
        "id": "gVYyz6JCuEJA"
      },
      "source": [
        "\n",
        "\n",
        "<br>\n",
        "\n",
        "\n"
      ]
    },
    {
      "cell_type": "markdown",
      "metadata": {
        "id": "OnpnUdVyNfXZ"
      },
      "source": [
        "* You can call elements of the list by their name"
      ]
    },
    {
      "cell_type": "code",
      "metadata": {
        "id": "vIuBRENqNiNI",
        "outputId": "84eb7bd4-a4d1-4c13-90e5-883ab5fefbd0",
        "colab": {
          "base_uri": "https://localhost:8080/",
          "height": 0
        }
      },
      "source": [
        "my_list$my_data"
      ],
      "execution_count": 64,
      "outputs": [
        {
          "output_type": "display_data",
          "data": {
            "text/html": [
              "<table class=\"dataframe\">\n",
              "<caption>A data.frame: 7 × 3</caption>\n",
              "<thead>\n",
              "\t<tr><th scope=col>height</th><th scope=col>weight</th><th scope=col>gender</th></tr>\n",
              "\t<tr><th scope=col>&lt;dbl&gt;</th><th scope=col>&lt;dbl&gt;</th><th scope=col>&lt;chr&gt;</th></tr>\n",
              "</thead>\n",
              "<tbody>\n",
              "\t<tr><td>132</td><td>48</td><td>male  </td></tr>\n",
              "\t<tr><td>151</td><td>49</td><td>male  </td></tr>\n",
              "\t<tr><td>162</td><td>66</td><td>female</td></tr>\n",
              "\t<tr><td>139</td><td>53</td><td>female</td></tr>\n",
              "\t<tr><td>166</td><td>67</td><td>male  </td></tr>\n",
              "\t<tr><td>147</td><td>52</td><td>female</td></tr>\n",
              "\t<tr><td>122</td><td>40</td><td>male  </td></tr>\n",
              "</tbody>\n",
              "</table>\n"
            ],
            "text/markdown": "\nA data.frame: 7 × 3\n\n| height &lt;dbl&gt; | weight &lt;dbl&gt; | gender &lt;chr&gt; |\n|---|---|---|\n| 132 | 48 | male   |\n| 151 | 49 | male   |\n| 162 | 66 | female |\n| 139 | 53 | female |\n| 166 | 67 | male   |\n| 147 | 52 | female |\n| 122 | 40 | male   |\n\n",
            "text/latex": "A data.frame: 7 × 3\n\\begin{tabular}{lll}\n height & weight & gender\\\\\n <dbl> & <dbl> & <chr>\\\\\n\\hline\n\t 132 & 48 & male  \\\\\n\t 151 & 49 & male  \\\\\n\t 162 & 66 & female\\\\\n\t 139 & 53 & female\\\\\n\t 166 & 67 & male  \\\\\n\t 147 & 52 & female\\\\\n\t 122 & 40 & male  \\\\\n\\end{tabular}\n",
            "text/plain": [
              "  height weight gender\n",
              "1 132    48     male  \n",
              "2 151    49     male  \n",
              "3 162    66     female\n",
              "4 139    53     female\n",
              "5 166    67     male  \n",
              "6 147    52     female\n",
              "7 122    40     male  "
            ]
          },
          "metadata": {}
        }
      ]
    },
    {
      "cell_type": "code",
      "metadata": {
        "id": "Cg0po3t7Vnl3",
        "outputId": "4cff3c27-fde6-4108-88a8-714f4027f51f",
        "colab": {
          "base_uri": "https://localhost:8080/",
          "height": 0
        }
      },
      "source": [
        "my_list$my_matrix"
      ],
      "execution_count": 65,
      "outputs": [
        {
          "output_type": "display_data",
          "data": {
            "text/html": [
              "<table class=\"dataframe\">\n",
              "<caption>A matrix: 5 × 2 of type int</caption>\n",
              "<tbody>\n",
              "\t<tr><td>1</td><td> 6</td></tr>\n",
              "\t<tr><td>2</td><td> 7</td></tr>\n",
              "\t<tr><td>3</td><td> 8</td></tr>\n",
              "\t<tr><td>4</td><td> 9</td></tr>\n",
              "\t<tr><td>5</td><td>10</td></tr>\n",
              "</tbody>\n",
              "</table>\n"
            ],
            "text/markdown": "\nA matrix: 5 × 2 of type int\n\n| 1 |  6 |\n| 2 |  7 |\n| 3 |  8 |\n| 4 |  9 |\n| 5 | 10 |\n\n",
            "text/latex": "A matrix: 5 × 2 of type int\n\\begin{tabular}{ll}\n\t 1 &  6\\\\\n\t 2 &  7\\\\\n\t 3 &  8\\\\\n\t 4 &  9\\\\\n\t 5 & 10\\\\\n\\end{tabular}\n",
            "text/plain": [
              "     [,1] [,2]\n",
              "[1,] 1     6  \n",
              "[2,] 2     7  \n",
              "[3,] 3     8  \n",
              "[4,] 4     9  \n",
              "[5,] 5    10  "
            ]
          },
          "metadata": {}
        }
      ]
    }
  ]
}