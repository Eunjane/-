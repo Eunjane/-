{
 "cells": [
  {
   "cell_type": "code",
   "execution_count": 3,
   "metadata": {},
   "outputs": [],
   "source": [
    "import numpy as np\n",
    "import matplotlib.pyplot as plt"
   ]
  },
  {
   "cell_type": "markdown",
   "metadata": {},
   "source": [
    "# Loops\n",
    "There are several mathematical formulations that involve repetition. Example the summation of several numbers in a series.  \n",
    " \n",
    "`While loop` and `for loop` are used to repeat a statement or block of statements many times.  The loop stops when the condition set by the control statement is reached or met.  \n",
    "\n"
   ]
  },
  {
   "cell_type": "markdown",
   "metadata": {},
   "source": [
    "### Example 1: Use a `for loop` to output the statement 'I Am SDSU' \n",
    "\n",
    "- 5 times\n",
    "- 99 times"
   ]
  },
  {
   "cell_type": "code",
   "execution_count": 1,
   "metadata": {},
   "outputs": [
    {
     "name": "stdout",
     "output_type": "stream",
     "text": [
      "Hello\n",
      "Hello\n",
      "Hello\n",
      "Hello\n",
      "Hello\n"
     ]
    }
   ],
   "source": [
    "for ii in range(0, 5):\n",
    "    print('Hello')  \n",
    "\n",
    "    "
   ]
  },
  {
   "cell_type": "code",
   "execution_count": 4,
   "metadata": {},
   "outputs": [
    {
     "name": "stdout",
     "output_type": "stream",
     "text": [
      "range(0, 5)\n"
     ]
    }
   ],
   "source": [
    "# note that the following statement prints from 0 to 4\n",
    "print(range(0, 5))\n"
   ]
  },
  {
   "cell_type": "markdown",
   "metadata": {},
   "source": [
    "### Example 2:\n",
    "Assigning the value 10 to n repeatedly four times"
   ]
  },
  {
   "cell_type": "code",
   "execution_count": 5,
   "metadata": {},
   "outputs": [
    {
     "name": "stdout",
     "output_type": "stream",
     "text": [
      "n = 10\n",
      "n = 10\n",
      "n = 10\n",
      "n = 10\n"
     ]
    }
   ],
   "source": [
    "for k in range(0, 4):\n",
    "    n=10\n",
    "    print('n = %d' %n)\n"
   ]
  },
  {
   "cell_type": "markdown",
   "metadata": {},
   "source": [
    "### Example 3:\n",
    "Using `for loop` to create the vector B = [1, 2, 3, 4, 5, 6, 7, 8, 9, 10]\n"
   ]
  },
  {
   "cell_type": "code",
   "execution_count": 3,
   "metadata": {},
   "outputs": [
    {
     "name": "stdout",
     "output_type": "stream",
     "text": [
      "[0. 0. 0. 0. 0. 0. 0. 0. 0. 0.]\n"
     ]
    },
    {
     "data": {
      "text/plain": [
       "0.0"
      ]
     },
     "execution_count": 3,
     "metadata": {},
     "output_type": "execute_result"
    }
   ],
   "source": [
    "B = np.zeros(10)\n",
    "print(B)\n",
    "B[9]"
   ]
  },
  {
   "cell_type": "code",
   "execution_count": 7,
   "metadata": {},
   "outputs": [
    {
     "name": "stdout",
     "output_type": "stream",
     "text": [
      "[ 1.  2.  3.  4.  5.  6.  7.  8.  9. 10.]\n"
     ]
    }
   ],
   "source": [
    "B = np.zeros(10) # you need to initialize the vector before using it (i.e. tell python there is  a variable called B)\n",
    "\n",
    "for j in range (0,10):\n",
    "    B[j] = j + 1\n",
    "    \n",
    "print(B)     # note that this line is outside the FOR loop because it is not indented"
   ]
  },
  {
   "cell_type": "markdown",
   "metadata": {},
   "source": [
    "### Example 4: \n",
    "Using `for loop` to create the vector A = [2, 4, 6, 8, 10, 12]\n"
   ]
  },
  {
   "cell_type": "code",
   "execution_count": 12,
   "metadata": {},
   "outputs": [
    {
     "name": "stdout",
     "output_type": "stream",
     "text": [
      "[0. 0. 0. 0. 0. 0.]\n",
      "[ 2.  4.  6.  8. 10. 12.]\n"
     ]
    }
   ],
   "source": [
    "A= np.zeros(6)\n",
    "print(A)\n",
    "for i in range(0,6):\n",
    "    A[i]=2*i+2\n",
    "print(A)"
   ]
  },
  {
   "cell_type": "code",
   "execution_count": 8,
   "metadata": {},
   "outputs": [
    {
     "name": "stdout",
     "output_type": "stream",
     "text": [
      "[ 2.  4.  6.  8. 10. 12.]\n"
     ]
    }
   ],
   "source": [
    "A= np.zeros(6)\n",
    "for j in range (0,6):\n",
    "    A[j] = 2*(j+1)\n",
    "    \n",
    "print(A)     # note that this line is outside the FOR loop because it is not indented"
   ]
  },
  {
   "cell_type": "markdown",
   "metadata": {},
   "source": [
    "### Example 4b: \n",
    "Using `for loop` to create the vector A = [2, 4, 6, 8, 10, 12]"
   ]
  },
  {
   "cell_type": "code",
   "execution_count": 9,
   "metadata": {},
   "outputs": [
    {
     "name": "stdout",
     "output_type": "stream",
     "text": [
      "[ 2.  4.  6.  8. 10. 12.]\n"
     ]
    }
   ],
   "source": [
    "A= np.zeros(6)\n",
    "for j in range (1,7):\n",
    "    A[j-1] = 2*(j)\n",
    "    \n",
    "print(A)     # note that this line is outside the FOR loop because it is not indented"
   ]
  },
  {
   "cell_type": "markdown",
   "metadata": {},
   "source": [
    "### Example 5: \n",
    "Using `for loop` to create the vector joe = [1 4 9 16 25 36 49 64]\n"
   ]
  },
  {
   "cell_type": "code",
   "execution_count": 15,
   "metadata": {},
   "outputs": [
    {
     "name": "stdout",
     "output_type": "stream",
     "text": [
      "[0. 0. 0. 0. 0. 0. 0. 0.]\n",
      "[ 1.  4.  9. 16. 25. 36. 49. 64.]\n"
     ]
    }
   ],
   "source": [
    "joe = np.zeros(8)\n",
    "print(joe)\n",
    "for i in range(1,9):\n",
    "    joe[i-1]=i**2\n",
    "print(joe)"
   ]
  },
  {
   "cell_type": "code",
   "execution_count": 17,
   "metadata": {},
   "outputs": [
    {
     "name": "stdout",
     "output_type": "stream",
     "text": [
      "[ 1.  4.  9. 16. 25. 36. 49. 64.]\n"
     ]
    }
   ],
   "source": [
    "joe= np.ones(8)  # you may also initialize the vector with ones\n",
    "for j in range (0,8):\n",
    "    joe[j] = (j+1)**2\n",
    "    \n",
    "print(joe)     # note that this line is outside the FOR loop because it is not indented"
   ]
  },
  {
   "cell_type": "markdown",
   "metadata": {},
   "source": [
    "### Example 6: Use `for` loop to evaluate the following sum"
   ]
  },
  {
   "cell_type": "markdown",
   "metadata": {},
   "source": [
    "$$\n",
    "   \\sum_{n=0}^{40} \\frac{1}{16^n} \\left(\\frac{4}{8n+1} - \\frac{2}{8n+4} - \\frac{1}{8n+5}-\\frac{1}{8n+6}\\right)\n",
    "$$"
   ]
  },
  {
   "cell_type": "code",
   "execution_count": null,
   "metadata": {},
   "outputs": [],
   "source": [
    "sum =0\n",
    "for n in range(0, 41):\n",
    "    sum += 16**(-n)**(4./(8.*n+1.)-2./(8.*n+4.)-1./(8.*n+5.)-1./(8.*n+6.))\n",
    "print('The sum is %d'%sum)\n"
   ]
  },
  {
   "cell_type": "code",
   "execution_count": 11,
   "metadata": {},
   "outputs": [
    {
     "name": "stdout",
     "output_type": "stream",
     "text": [
      "The sum is 3.1415926536\n"
     ]
    }
   ],
   "source": [
    "values = np.zeros(41) \n",
    "for n in range(0,41):\n",
    "    values[n] = (16.**(-n))*(4./(8.*n+1.)-2./(8.*n+4.)-1./(8.*n+5.)-1./(8.*n+6.))\n",
    "    \n",
    "mysum1 = np.sum(values)\n",
    "print('The sum is %.10f' %mysum1)"
   ]
  },
  {
   "cell_type": "code",
   "execution_count": 12,
   "metadata": {},
   "outputs": [
    {
     "name": "stdout",
     "output_type": "stream",
     "text": [
      "The sum is 3.1415926536\n"
     ]
    }
   ],
   "source": [
    "#  An alternative way for computing the sum\n",
    "mysum2 = 0.0\n",
    "for n in range(0,41):\n",
    "    mysum2  += (16.**(-n))*(4./(8.*n+1.)-2./(8.*n+4.)-1./(8.*n+5.)-1./(8.*n+6.))\n",
    "    \n",
    "print('The sum is %.10f' %mysum2)\n"
   ]
  },
  {
   "cell_type": "code",
   "execution_count": 13,
   "metadata": {
    "scrolled": true
   },
   "outputs": [
    {
     "name": "stdout",
     "output_type": "stream",
     "text": [
      "3.141592653589793\n"
     ]
    }
   ],
   "source": [
    "# Another alternative way that uses vectorization and NO `for` loop\n",
    "n = np.linspace(0,40,41)\n",
    "s = (16.**(-n))*(4./(8.*n+1.)-2./(8.*n+4.)-1./(8.*n+5.)-1/(8.*n+6.))\n",
    "print(np.sum(s))"
   ]
  },
  {
   "cell_type": "markdown",
   "metadata": {},
   "source": [
    "### Example 7: Use `while` loop to evaluate the following sum\n",
    "$$\n",
    "   \\sum_{n=0}^{40} \\frac{1}{16^n} \\left(\\frac{4}{8n+1} - \\frac{2}{8n+4} - \\frac{1}{8n+5}-\\frac{1}{8n+6}\\right)\n",
    "$$"
   ]
  },
  {
   "cell_type": "code",
   "execution_count": 19,
   "metadata": {
    "scrolled": true
   },
   "outputs": [
    {
     "name": "stdout",
     "output_type": "stream",
     "text": [
      "The sum is 3.1415926536\n"
     ]
    }
   ],
   "source": [
    "mysum3 = 0.0\n",
    "n = 0\n",
    "while n <= 40:\n",
    "    mysum3 += (16.**(-n))*(4./(8.*n+1.)-2./(8.*n+4.)-1./(8.*n+5.)-1./(8.*n+6.))\n",
    "    n +=1\n",
    "    \n",
    "print('The sum is %.10f' %mysum3)"
   ]
  },
  {
   "cell_type": "markdown",
   "metadata": {},
   "source": [
    "### Example 8 Arithmetic Progression\n"
   ]
  },
  {
   "cell_type": "markdown",
   "metadata": {},
   "source": [
    "Formula for arithmetic progression: $$V_𝒊=𝒂+(𝒊−𝟏)𝒅$$\n",
    "\n",
    "where the initial term of an arithmetic progression is `a` and `d` is the common difference.\n",
    "    \n",
    "If  V  =  1     3     5     7     9    11    13    15    17    19 ,\n",
    "then the initial term `a = 1` and common difference `d = 2`.\n",
    "\n",
    "Write a  `function` to compute the first nth terms of the arithmetric progression"
   ]
  },
  {
   "cell_type": "code",
   "execution_count": 4,
   "metadata": {},
   "outputs": [],
   "source": [
    "def fun(n):\n",
    "    v = np.array([])\n",
    "    a = 1\n",
    "    d = 2\n",
    "    for i in range(0,n):\n",
    "        term = a + i*d\n",
    "        v = np.append(v,term)\n",
    "        print(v)"
   ]
  },
  {
   "cell_type": "code",
   "execution_count": 5,
   "metadata": {},
   "outputs": [
    {
     "name": "stdout",
     "output_type": "stream",
     "text": [
      "[1.]\n",
      "[1. 3.]\n",
      "[1. 3. 5.]\n"
     ]
    }
   ],
   "source": [
    "fun(3)"
   ]
  },
  {
   "cell_type": "code",
   "execution_count": 22,
   "metadata": {},
   "outputs": [],
   "source": [
    "def myAP(n):\n",
    "    v = np.array([])\n",
    "    a=1.\n",
    "    d=2.\n",
    "    for i in range(0,n):\n",
    "        term = a + (i)*d \n",
    "        v = np.append(v,term)\n",
    "        print(v)"
   ]
  },
  {
   "cell_type": "code",
   "execution_count": 16,
   "metadata": {},
   "outputs": [
    {
     "name": "stdout",
     "output_type": "stream",
     "text": [
      "[1. 3. 5.]\n"
     ]
    }
   ],
   "source": [
    "#enter your code to run the function and generate the first 3 terms\n",
    "myAP(3)"
   ]
  },
  {
   "cell_type": "code",
   "execution_count": 17,
   "metadata": {},
   "outputs": [
    {
     "name": "stdout",
     "output_type": "stream",
     "text": [
      "[ 1.  3.  5.  7.  9. 11. 13. 15. 17. 19. 21. 23. 25. 27. 29. 31. 33. 35.\n",
      " 37. 39.]\n"
     ]
    }
   ],
   "source": [
    "#enter your code to run the function and generate the first 20 terms\n",
    "myAP(20)"
   ]
  },
  {
   "cell_type": "markdown",
   "metadata": {},
   "source": [
    "### Example 9\n",
    "The Bessel function of order zero is defined as \n",
    "$$J_0(x) =  \\sum_{j=0}^{\\infty}\\frac{(-1)^{j}x^{2j}}{2^{2j}(j!)^2}.$$\n",
    "\n",
    "Given this definition, generate both non and vectorized, recursive code which allows you to compute $J_{0}(x)$  for values of $x$ in the range $[-20, 20]$.  Examine plots of your function to infer the behavior of the Bessel function $J_0$.   "
   ]
  },
  {
   "cell_type": "markdown",
   "metadata": {},
   "source": [
    "#### Solution:\n",
    "\n",
    "Recursive relation is:\n",
    "\n",
    "$$\n",
    "a_{j}(x) = \\left\\{\n",
    "\\begin{array}{rl}\n",
    "\\frac{-x^2}{4j^2} a_{j-1}(x) & j\\geq 1\\\\\n",
    "1 & j=0\n",
    "\\end{array}\n",
    "\\right.\n",
    "$$"
   ]
  },
  {
   "cell_type": "code",
   "execution_count": 10,
   "metadata": {},
   "outputs": [],
   "source": [
    "def appro(x, tol):\n",
    "    tot = 1\n",
    "    aj =1\n",
    "    j =1\n",
    "    xs = -x**2\n",
    "    while np.max(np.abs(aj)) >= tol:\n",
    "        aj*= xs/(4*j**2)\n",
    "        j += 1\n",
    "        tot += aj\n",
    "    return tot"
   ]
  },
  {
   "cell_type": "code",
   "execution_count": 11,
   "metadata": {},
   "outputs": [
    {
     "data": {
      "text/plain": [
       "[<matplotlib.lines.Line2D at 0x256cf7b5a30>]"
      ]
     },
     "execution_count": 11,
     "metadata": {},
     "output_type": "execute_result"
    },
    {
     "data": {
      "image/png": "[encoded data removed]",
      "text/plain": [
       "<Figure size 432x288 with 1 Axes>"
      ]
     },
     "metadata": {
      "needs_background": "light"
     },
     "output_type": "display_data"
    }
   ],
   "source": [
    "xvals = np.linspace(-20, 20, int(1e3))\n",
    "yvals = appro(xvals, 1e-5)\n",
    "plt.plot(xvals, yvals)"
   ]
  },
  {
   "cell_type": "code",
   "execution_count": null,
   "metadata": {},
   "outputs": [],
   "source": [
    "def fun(x,tol):\n",
    "    tot = 1\n",
    "    aj = 1\n",
    "    j = 1\n",
    "    xs = -x**2\n",
    "    while np.max(np.abs(aj)) >= tol:\n",
    "        aj *= xs/(4*j**2)\n",
    "        j += 1\n",
    "        tot += aj\n",
    "    return tot\n",
    " "
   ]
  },
  {
   "cell_type": "code",
   "execution_count": null,
   "metadata": {},
   "outputs": [],
   "source": [
    "xvals = np.linspace(-20, 20, int(1e3))\n",
    "yvals = fun(xvals, 1e-8)\n",
    "plt.plot(xvals, yvals )"
   ]
  },
  {
   "cell_type": "code",
   "execution_count": 40,
   "metadata": {},
   "outputs": [],
   "source": [
    "# vectorized code \n",
    "# here the input x is a vector ( e.g. x = np.linspace(-20,20,int(1e3)) ) \n",
    "def BesselFunc(x,tol):\n",
    "    tot = 1.\n",
    "    aj = 1.\n",
    "    xsqd = -x**2\n",
    "    j = 1\n",
    "    while np.max(np.abs(aj)) >= tol:\n",
    "        aj *= xsqd/(4*j**2)\n",
    "        tot += aj\n",
    "        j+=1\n",
    "    return tot    \n",
    "    "
   ]
  },
  {
   "cell_type": "code",
   "execution_count": 19,
   "metadata": {},
   "outputs": [
    {
     "data": {
      "text/plain": [
       "[<matplotlib.lines.Line2D at 0x11c28e550>]"
      ]
     },
     "execution_count": 19,
     "metadata": {},
     "output_type": "execute_result"
    },
    {
     "data": {
      "image/png": "[encoded data removed]",
      "text/plain": [
       "<Figure size 432x288 with 1 Axes>"
      ]
     },
     "metadata": {
      "needs_background": "light"
     },
     "output_type": "display_data"
    }
   ],
   "source": [
    "# plotting the vectorized code \n",
    "xvals = np.linspace(-20,20,int(1e3))\n",
    "yvals = BesselFunc(xvals,1e-8)\n",
    "plt.plot(xvals,yvals,color='r',ls='--')\n",
    "#alternative code for plotting\n",
    "#plt.plot(xvals, BesselFunc(xvals,1e-8),color='r',ls='--')"
   ]
  },
  {
   "cell_type": "code",
   "execution_count": null,
   "metadata": {},
   "outputs": [],
   "source": []
  },
  {
   "cell_type": "code",
   "execution_count": 20,
   "metadata": {},
   "outputs": [],
   "source": [
    "# non-vectorized code \n",
    "# here the input x is a scalar\n",
    "def BesselFunc(x,tol):\n",
    "    tot = 1.\n",
    "    aj = 1.\n",
    "    xsqd = -x**2\n",
    "    j = 1\n",
    "    while np.abs(aj) >= tol:\n",
    "        aj *= xsqd/(4*j**2)\n",
    "        tot += aj\n",
    "        j+=1\n",
    "    return tot    \n",
    "    "
   ]
  },
  {
   "cell_type": "code",
   "execution_count": 56,
   "metadata": {},
   "outputs": [
    {
     "data": {
      "text/plain": [
       "[<matplotlib.lines.Line2D at 0x293c5db7be0>]"
      ]
     },
     "execution_count": 56,
     "metadata": {},
     "output_type": "execute_result"
    },
    {
     "data": {
      "image/png": "[encoded data removed]",
      "text/plain": [
       "<Figure size 432x288 with 1 Axes>"
      ]
     },
     "metadata": {
      "needs_background": "light"
     },
     "output_type": "display_data"
    }
   ],
   "source": [
    "# plotting the non-vectorized code \n",
    "xvals = np.linspace(-20,20,int(1e3))\n",
    "yvals = [BesselFunc(ii,1e-8) for ii in xvals]\n",
    "plt.plot(xvals,yvals,color='b',ls='--')"
   ]
  },
  {
   "cell_type": "markdown",
   "metadata": {},
   "source": [
    "_Problem_: Here is something different I want you to think about.  If I run the following code it generates a vector **xvals**,\n",
    "\n",
    "`xvals = np.linspace(1,6,6)`\n",
    "\n",
    "- How many elements are in _xvals_.\n",
    "- Write a code to access the first element in _xvals_.\n",
    "- Write a code to access the last element in _xvals_."
   ]
  },
  {
   "cell_type": "code",
   "execution_count": 22,
   "metadata": {},
   "outputs": [
    {
     "name": "stdout",
     "output_type": "stream",
     "text": [
      "[1. 2. 3. 4. 5. 6.]\n"
     ]
    }
   ],
   "source": [
    "x1 = np.linspace(1,6,6)\n",
    "print(x1)"
   ]
  },
  {
   "cell_type": "markdown",
   "metadata": {},
   "source": [
    "- How many elements are in _xvals_?"
   ]
  },
  {
   "cell_type": "code",
   "execution_count": 23,
   "metadata": {},
   "outputs": [
    {
     "name": "stdout",
     "output_type": "stream",
     "text": [
      "6\n"
     ]
    }
   ],
   "source": [
    "print(len(x1))"
   ]
  },
  {
   "cell_type": "code",
   "execution_count": 24,
   "metadata": {},
   "outputs": [
    {
     "name": "stdout",
     "output_type": "stream",
     "text": [
      "6\n"
     ]
    }
   ],
   "source": [
    "print(np.size(x1))"
   ]
  },
  {
   "cell_type": "markdown",
   "metadata": {},
   "source": [
    "- Write a code to access the first element in _xvals_.\n",
    "\n"
   ]
  },
  {
   "cell_type": "code",
   "execution_count": 25,
   "metadata": {},
   "outputs": [
    {
     "name": "stdout",
     "output_type": "stream",
     "text": [
      "1.0\n"
     ]
    }
   ],
   "source": [
    "print(x1[0])"
   ]
  },
  {
   "cell_type": "markdown",
   "metadata": {},
   "source": [
    "- Write a code to access the last element in _xvals_."
   ]
  },
  {
   "cell_type": "code",
   "execution_count": 26,
   "metadata": {},
   "outputs": [
    {
     "data": {
      "text/plain": [
       "6.0"
      ]
     },
     "execution_count": 26,
     "metadata": {},
     "output_type": "execute_result"
    }
   ],
   "source": [
    "x1[5]"
   ]
  },
  {
   "cell_type": "markdown",
   "metadata": {},
   "source": [
    "- Given the following vector $x$, extract the numbers that satisfy the condition $2\\leq x \\leq 9$"
   ]
  },
  {
   "cell_type": "code",
   "execution_count": 60,
   "metadata": {},
   "outputs": [
    {
     "name": "stdout",
     "output_type": "stream",
     "text": [
      "[ 0.  1.  2.  3.  4.  5.  6.  7.  8.  9. 10.]\n"
     ]
    }
   ],
   "source": [
    "x = np.linspace(0,10,11)\n",
    "print(x)"
   ]
  },
  {
   "cell_type": "code",
   "execution_count": 28,
   "metadata": {},
   "outputs": [
    {
     "data": {
      "text/plain": [
       "array([2., 3., 4., 5., 6., 7., 8., 9.])"
      ]
     },
     "execution_count": 28,
     "metadata": {},
     "output_type": "execute_result"
    }
   ],
   "source": [
    "x[2:10]"
   ]
  },
  {
   "cell_type": "markdown",
   "metadata": {},
   "source": [
    "For the above code, \n",
    "- 2 states that we start at second element in the list, don't forget  that the slicing index starts at 0\n",
    "- 10 states that we end at the 10th element in the list, but not include it. \n",
    "- The colon in the middle states that we want to use slicing to get objects in the list"
   ]
  },
  {
   "cell_type": "code",
   "execution_count": 29,
   "metadata": {},
   "outputs": [
    {
     "data": {
      "text/plain": [
       "array([ 2.,  3.,  4.,  5.,  6.,  7.,  8.,  9., 10.])"
      ]
     },
     "execution_count": 29,
     "metadata": {},
     "output_type": "execute_result"
    }
   ],
   "source": [
    "#How about the following code?\n",
    "x[2:11]"
   ]
  },
  {
   "cell_type": "code",
   "execution_count": 30,
   "metadata": {},
   "outputs": [
    {
     "data": {
      "text/plain": [
       "array([1., 3., 5., 7., 9.])"
      ]
     },
     "execution_count": 30,
     "metadata": {},
     "output_type": "execute_result"
    }
   ],
   "source": [
    "#How about the following code?\n",
    "x[1:11:2]"
   ]
  },
  {
   "cell_type": "code",
   "execution_count": 31,
   "metadata": {},
   "outputs": [
    {
     "data": {
      "text/plain": [
       "array([10.,  9.,  8.,  7.,  6.,  5.,  4.,  3.,  2.,  1.,  0.])"
      ]
     },
     "execution_count": 31,
     "metadata": {},
     "output_type": "execute_result"
    }
   ],
   "source": [
    "#How about the following code?\n",
    "x[::-1]"
   ]
  },
  {
   "cell_type": "markdown",
   "metadata": {},
   "source": [
    "Note that in the above\n",
    "- Since there is no value before the first colon, it will start at the beginning index of the list. \n",
    "\n",
    "- Since there is no value after the first colon, it will go all the way to the end of the list.\n",
    "\n",
    "- $-1$ makes the index to increment every time by -1, causing it to traverse the list by going backwards. "
   ]
  },
  {
   "cell_type": "markdown",
   "metadata": {},
   "source": [
    "Given that `xnew = [1, 2, 3, 4]`, write a code to sum the numbers in `xnew`."
   ]
  },
  {
   "cell_type": "code",
   "execution_count": 32,
   "metadata": {},
   "outputs": [
    {
     "name": "stdout",
     "output_type": "stream",
     "text": [
      "10\n"
     ]
    }
   ],
   "source": [
    "xnew = [1, 2, 3, 4]\n",
    "sum1 = np.sum(xnew)\n",
    "print(sum1)"
   ]
  },
  {
   "cell_type": "code",
   "execution_count": 33,
   "metadata": {},
   "outputs": [
    {
     "name": "stdout",
     "output_type": "stream",
     "text": [
      "10\n"
     ]
    }
   ],
   "source": [
    "#you can also use the following code to sum\n",
    "sum2 = sum(xnew)\n",
    "print(sum2)"
   ]
  },
  {
   "cell_type": "markdown",
   "metadata": {},
   "source": [
    "#### Example: Finding the slope of a line. \n",
    "Given the equation  $y = 5x$, plot the graph for $0 \\leq x \\leq 10$ and write a code to determine the slope."
   ]
  },
  {
   "cell_type": "code",
   "execution_count": 34,
   "metadata": {},
   "outputs": [
    {
     "name": "stdout",
     "output_type": "stream",
     "text": [
      "5.0\n"
     ]
    }
   ],
   "source": [
    "#Enter your code here\n",
    "xval = np.linspace(0,10,11)\n",
    "yval = 5*xval\n",
    "\n",
    "slope = (yval[1]-yval[0])/(xval[1]-xval[0])\n",
    "print(slope)"
   ]
  },
  {
   "cell_type": "code",
   "execution_count": 35,
   "metadata": {},
   "outputs": [
    {
     "name": "stdout",
     "output_type": "stream",
     "text": [
      "5.0\n",
      "5.0\n",
      "5.0\n",
      "[5. 5. 5. 5. 5. 5. 5. 5. 5. 5.]\n"
     ]
    }
   ],
   "source": [
    "#Here is an alternative code for finding the slope \n",
    "xval = np.linspace(0,10,11)\n",
    "yval = 5*xval\n",
    "\n",
    "nvals = xval.size \n",
    "\n",
    "slopes = (yval[1:nvals] - yval[0:nvals-1])/ (xval[1:nvals] - xval[0:nvals-1])\n",
    "\n",
    "print(np.min(slopes))\n",
    "print(np.max(slopes))\n",
    "print(np.mean(slopes))\n",
    "\n",
    "print(slopes)\n"
   ]
  },
  {
   "cell_type": "code",
   "execution_count": null,
   "metadata": {},
   "outputs": [],
   "source": []
  }
 ],
 "metadata": {
  "kernelspec": {
   "display_name": "Python 3",
   "language": "python",
   "name": "python3"
  },
  "language_info": {
   "codemirror_mode": {
    "name": "ipython",
    "version": 3
   },
   "file_extension": ".py",
   "mimetype": "text/x-python",
   "name": "python",
   "nbconvert_exporter": "python",
   "pygments_lexer": "ipython3",
   "version": "3.8.5"
  }
 },
 "nbformat": 4,
 "nbformat_minor": 2
}
