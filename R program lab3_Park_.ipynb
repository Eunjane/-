{
  "nbformat": 4,
  "nbformat_minor": 0,
  "metadata": {
    "colab": {
      "name": "Lab3_Park .ipynb",
      "provenance": [],
      "collapsed_sections": [],
      "include_colab_link": true
    },
    "kernelspec": {
      "name": "ir",
      "display_name": "R"
    }
  },
  "cells": [
    {
      "cell_type": "markdown",
      "metadata": {
        "id": "view-in-github",
        "colab_type": "text"
      },
      "source": [
        "<a href=\"https://colab.research.google.com/github/Eunjane/J-sMathematical.github.io-/blob/main/R%20program%20lab3_Park_.ipynb\" target=\"_parent\"><img src=\"https://colab.research.google.com/assets/colab-badge.svg\" alt=\"Open In Colab\"/></a>"
      ]
    },
    {
      "cell_type": "markdown",
      "metadata": {
        "id": "gtETsh5j8vHw"
      },
      "source": [
        "# **Lab 3: Functions and Loops (20 points)**\n",
        "\n",
        "#### **WRITE YOUR NAME HERE**\n"
      ]
    },
    {
      "cell_type": "markdown",
      "metadata": {
        "id": "en9tcPcGuFyc"
      },
      "source": [
        "---\n",
        "**Instructions**: Complete the lab below.\n",
        "- <font color=red>Tasks</font> indicated in red must be completed to receive credit\n",
        "- Include all code for your work\n",
        "- Include markdown cells with written answers explaining your work when prompted\n",
        "- Your completed lab must be submitted to Canvas as a pdf file by the end of the lab session\n",
        "---"
      ]
    },
    {
      "cell_type": "markdown",
      "metadata": {
        "id": "ZXUOzh4drf3V"
      },
      "source": [
        "\n",
        "\n",
        "\n",
        "<br>\n",
        "\n",
        "\n"
      ]
    },
    {
      "cell_type": "markdown",
      "metadata": {
        "id": "SeocukhL09Ne"
      },
      "source": [
        "####<font color=red>Margins</font> (1 point)\n",
        "* Margins are set to \"None\" before submitting assignment as pdf"
      ]
    },
    {
      "cell_type": "markdown",
      "metadata": {
        "id": "nz6QwLFk1NWq"
      },
      "source": [
        "<br>\n",
        "\n",
        "---\n",
        "\n",
        "<br>\n",
        "\n",
        "\n",
        "\n",
        "\n"
      ]
    },
    {
      "cell_type": "markdown",
      "metadata": {
        "id": "MfKT4gy91QKV"
      },
      "source": [
        "####<font color=red>Organized</font> (1 point)\n",
        "* Answers should be organized in the following format for organization and readability\n",
        "\n",
        "<br>\n",
        "\n",
        "```\n",
        "# 1. \n",
        "This will be the code block to answer the first part of a task\n",
        "```\n",
        "\n",
        "1. This will be the text answer/explanation (if prompted) for the first task\n",
        "\n",
        "```\n",
        "# 2. \n",
        "This will be the code block to answer the second part of a task\n",
        "```\n",
        "\n",
        "2. This will be the text answer/explanation (if prompted) for the second task\n",
        "\n",
        "<br>\n",
        "\n",
        "Continue this format for the remaining subtasks\n"
      ]
    },
    {
      "cell_type": "markdown",
      "metadata": {
        "id": "YfKhJv3Q1PBh"
      },
      "source": [
        "<br>\n",
        "\n",
        "---\n",
        "\n",
        "<br>\n",
        "\n",
        "\n",
        "\n",
        "\n"
      ]
    },
    {
      "cell_type": "markdown",
      "metadata": {
        "id": "Ek6IuNtolHgW"
      },
      "source": [
        "####<font color=red>Task 1</font>  (6 points)\n",
        "\n",
        "1. (4 points) Create a function `quadratic_formula` that has the following attributes\n",
        "* Input: Three single numbers `a`, `b`, `c` as function arguments\n",
        "* Ouput: The solution to the qudratic equation\n",
        "  * $\\begin{align*}\n",
        "\\frac{-b \\pm \\sqrt{b^2 - 4ac}} {2a}\n",
        "\\end{align*}$\n",
        "* Us `if` statements to potentially return three types of function outputs\n",
        "  1. If $b^2 - 4ac$ is zero, only return the one solution/number\n",
        "  2. If $b^2 - 4ac$ is less than zero, print a statement saying there are no zeros that are real numbers\n",
        "  3. If $b^2 - 4ac$ is greater than zero, return the two real zeros as a single vector\n",
        "\n",
        "<br>\n",
        "\n",
        "2. (2 points) Run the following commands to confirm answers\n",
        "```\n",
        "quadratic_formula(1, 0, 0)\n",
        "```\n",
        "```\n",
        "quadratic_formula(1, 0, 1)\n",
        "```\n",
        "```\n",
        "quadratic_formula(1, 0, -1)\n",
        "```\n"
      ]
    },
    {
      "cell_type": "code",
      "metadata": {
        "id": "wUlh_ijtaXSZ",
        "colab": {
          "base_uri": "https://localhost:8080/",
          "height": 69
        },
        "outputId": "b98168f1-0399-4945-ab40-411ea9b7ad36"
      },
      "source": [
        "#1\n",
        "quadratic_formula <- function(a,b,c) {\n",
        "    i = ((b^2)-(4*a*c))\n",
        "\n",
        "\n",
        "  if ( i== 0) {\n",
        "    answer1 = (-b - sqrt(i)/(2*a))\n",
        "    return(answer1)\n",
        "  }\n",
        "\n",
        "   else if (i<0) {\n",
        "    print(\"there are no zeros that are real numbers\")\n",
        "  }\n",
        "\n",
        "    else if(i>0) {\n",
        "    return(c(i,-i))\n",
        "  }\n",
        "}\n",
        "quadratic_formula(1, 0, 0)\n",
        "quadratic_formula(1, 0, 1)\n",
        "quadratic_formula(1, 0, -1)\n"
      ],
      "execution_count": null,
      "outputs": [
        {
          "output_type": "display_data",
          "data": {
            "text/plain": [
              "[1] 0"
            ],
            "text/latex": "0",
            "text/markdown": "0",
            "text/html": [
              "0"
            ]
          },
          "metadata": {
            "tags": []
          }
        },
        {
          "output_type": "stream",
          "text": [
            "[1] \"there are no zeros that are real numbers\"\n"
          ],
          "name": "stdout"
        },
        {
          "output_type": "display_data",
          "data": {
            "text/plain": [
              "[1]  4 -4"
            ],
            "text/latex": "\\begin{enumerate*}\n\\item 4\n\\item -4\n\\end{enumerate*}\n",
            "text/markdown": "1. 4\n2. -4\n\n\n",
            "text/html": [
              "<style>\n",
              ".list-inline {list-style: none; margin:0; padding: 0}\n",
              ".list-inline>li {display: inline-block}\n",
              ".list-inline>li:not(:last-child)::after {content: \"\\00b7\"; padding: 0 .5ex}\n",
              "</style>\n",
              "<ol class=list-inline><li>4</li><li>-4</li></ol>\n"
            ]
          },
          "metadata": {
            "tags": []
          }
        }
      ]
    },
    {
      "cell_type": "markdown",
      "metadata": {
        "id": "FyFpTewWOVNF"
      },
      "source": [
        "<br>"
      ]
    },
    {
      "cell_type": "markdown",
      "metadata": {
        "id": "xcFFteDyOWcd"
      },
      "source": [
        "####<font color=red>Task 2</font>  (4 points)\n",
        "\n",
        "1. (2 points) Create a function `avg_diff` that has the following attributes\n",
        "  * Inputs:\n",
        "    * vector1 - a numeric vector\n",
        "    * vector2 - a numeric vector\n",
        "  * Ouput: A list of three objects providing\n",
        "    1. the difference between the two vectors\n",
        "    2. the average difference between the two vectors\n",
        "    3. the length of the first vector\n",
        "    * `if` vectors are not the same length, do not perform the calculation. Instead, print a warning statement that the vectors are not the same length\n",
        "\n",
        "<br>\n",
        "\n",
        "2. (2 points) Run the following commands to confirm answers\n",
        "```\n",
        "vec1 <- c(1, 2, 3, 4, 5, 6)\n",
        "vec2 <- c(0, 1, 2, 3, 4, 5)\n",
        "avg_diff(vec1, vec2)\n",
        "```\n",
        "```\n",
        "vec1 <- c(1, 2, 3, 4, 5, 6)\n",
        "vec2 <- c(0, 1, 2, 3, 4)\n",
        "avg_diff(vec1, vec2)\n",
        "```\n"
      ]
    },
    {
      "cell_type": "code",
      "metadata": {
        "id": "usynKzAQrSmp",
        "colab": {
          "base_uri": "https://localhost:8080/"
        },
        "outputId": "dc1991e1-218e-4fe8-a6f0-b7d578c560be"
      },
      "source": [
        "#2\n",
        "\n",
        "\n",
        "avg_diff <- function(vec1,vec2) {\n",
        "if(length(vec1)!=length(vec2))   #if function\n",
        " print(\"vectors are not the same length\")\n",
        " else {\n",
        "     sum_vec <- vec1 + vec2                             #sum of vec\n",
        "     diff_vec<- vec1 - vec2                             #diff of vec\n",
        "     sum_diff <- sum(diff_vec)                          #sum of diff vec\n",
        "     avg_diff <- sum_diff/length(vec1)                  #avg of diff equation\n",
        "     List <-list(diff_vec, avg_diff, length(vec1))       #put all values to list\n",
        "     print(List)\n",
        "\n",
        "     }\n",
        "   }\n",
        "vec1 <- c(1, 2, 3, 4, 5, 6)\n",
        "vec2 <- c(0, 1, 2, 3, 4, 5)\n",
        "avg_diff(vec1, vec2)\n",
        "\n",
        "vec1 <- c(1, 2, 3, 4, 5, 6)\n",
        "vec2 <- c(0, 1, 2, 3, 4)\n",
        "avg_diff(vec1, vec2)\n",
        "\n",
        "\n",
        " \n"
      ],
      "execution_count": null,
      "outputs": [
        {
          "output_type": "stream",
          "text": [
            "[[1]]\n",
            "[1] 1 1 1 1 1 1\n",
            "\n",
            "[[2]]\n",
            "[1] 1\n",
            "\n",
            "[[3]]\n",
            "[1] 6\n",
            "\n",
            "[1] \"vectors are not the same length\"\n"
          ],
          "name": "stdout"
        }
      ]
    },
    {
      "cell_type": "markdown",
      "metadata": {
        "id": "tH4kGY38L35X"
      },
      "source": [
        "<br>\n",
        "\n",
        "---\n",
        "\n",
        "<br>\n",
        "\n",
        "\n",
        "\n",
        "\n"
      ]
    },
    {
      "cell_type": "markdown",
      "metadata": {
        "id": "KWXGuzqk4Yz8"
      },
      "source": [
        "####<font color=red>Task 3</font>  (5 points)\n",
        "\n",
        "1. (1 point) From the `mtcars` dataset, find the unique values of the `gear` variable. Print.\n",
        "\n",
        "2. (2 point) Use a `for` loop to find the average `hp` for each unique `gear`. Show code and output.\n",
        "\n",
        "3. (1 point) Which number of gears is associated with the highest horse power `hp`? State in a complete sentence.\n",
        "\n",
        "4. (1 point) Which cars have 5 forward gears? State in a complete sentence.\n"
      ]
    },
    {
      "cell_type": "code",
      "metadata": {
        "colab": {
          "base_uri": "https://localhost:8080/",
          "height": 35
        },
        "id": "vv1Z7d-BLg80",
        "outputId": "91c0e6df-7cc6-48f7-977f-dd744d360591"
      },
      "source": [
        "#1\n",
        "data(mtcars)            #loaded the data and found unique values\n",
        "unique(mtcars$gear)"
      ],
      "execution_count": null,
      "outputs": [
        {
          "output_type": "display_data",
          "data": {
            "text/plain": [
              "[1] 4 3 5"
            ],
            "text/latex": "\\begin{enumerate*}\n\\item 4\n\\item 3\n\\item 5\n\\end{enumerate*}\n",
            "text/markdown": "1. 4\n2. 3\n3. 5\n\n\n",
            "text/html": [
              "<style>\n",
              ".list-inline {list-style: none; margin:0; padding: 0}\n",
              ".list-inline>li {display: inline-block}\n",
              ".list-inline>li:not(:last-child)::after {content: \"\\00b7\"; padding: 0 .5ex}\n",
              "</style>\n",
              "<ol class=list-inline><li>4</li><li>3</li><li>5</li></ol>\n"
            ]
          },
          "metadata": {
            "tags": []
          }
        }
      ]
    },
    {
      "cell_type": "code",
      "metadata": {
        "colab": {
          "base_uri": "https://localhost:8080/"
        },
        "id": "xlJ3oaLWqh4o",
        "outputId": "e0d42eee-a78a-429b-9d75-8a2ffcd7cdcf"
      },
      "source": [
        "#2\n",
        "data(mtcars)\n",
        "gears <- unique(mtcars$gear)\n",
        "\n",
        "for(g in gears) {\n",
        "  avg_hp <-mean(subset(mtcars, gear==g)$hp)\n",
        "  cat(g, avg_hp)\n",
        "}"
      ],
      "execution_count": null,
      "outputs": [
        {
          "output_type": "stream",
          "text": [
            "4 89.53 176.13335 195.6"
          ],
          "name": "stdout"
        }
      ]
    },
    {
      "cell_type": "code",
      "metadata": {
        "colab": {
          "base_uri": "https://localhost:8080/",
          "height": 52
        },
        "id": "DrYw-X-0qo7O",
        "outputId": "bbb0f6ab-d6ed-4b79-fade-8cc4a4a04a5b"
      },
      "source": [
        "#3\n",
        "max(mtcars$hp)                     #highest number of gears\n",
        "subset(mtcars, hp==335)$gear"
      ],
      "execution_count": null,
      "outputs": [
        {
          "output_type": "display_data",
          "data": {
            "text/plain": [
              "[1] 335"
            ],
            "text/latex": "335",
            "text/markdown": "335",
            "text/html": [
              "335"
            ]
          },
          "metadata": {
            "tags": []
          }
        },
        {
          "output_type": "display_data",
          "data": {
            "text/plain": [
              "[1] 5"
            ],
            "text/latex": "5",
            "text/markdown": "5",
            "text/html": [
              "5"
            ]
          },
          "metadata": {
            "tags": []
          }
        }
      ]
    },
    {
      "cell_type": "code",
      "metadata": {
        "colab": {
          "base_uri": "https://localhost:8080/",
          "height": 302
        },
        "id": "1Scu5jTOrASY",
        "outputId": "bdb73dbf-c3e2-48a5-f715-3b93a88af057"
      },
      "source": [
        "#4\n",
        "subset(mtcars, gear==5)       #Finding 5 gears\n",
        "head(subset)"
      ],
      "execution_count": null,
      "outputs": [
        {
          "output_type": "display_data",
          "data": {
            "text/plain": [
              "               mpg  cyl disp  hp  drat wt    qsec vs am gear carb\n",
              "Porsche 914-2  26.0 4   120.3  91 4.43 2.140 16.7 0  1  5    2   \n",
              "Lotus Europa   30.4 4    95.1 113 3.77 1.513 16.9 1  1  5    2   \n",
              "Ford Pantera L 15.8 8   351.0 264 4.22 3.170 14.5 0  1  5    4   \n",
              "Ferrari Dino   19.7 6   145.0 175 3.62 2.770 15.5 0  1  5    6   \n",
              "Maserati Bora  15.0 8   301.0 335 3.54 3.570 14.6 0  1  5    8   "
            ],
            "text/latex": "A data.frame: 5 × 11\n\\begin{tabular}{r|lllllllllll}\n  & mpg & cyl & disp & hp & drat & wt & qsec & vs & am & gear & carb\\\\\n  & <dbl> & <dbl> & <dbl> & <dbl> & <dbl> & <dbl> & <dbl> & <dbl> & <dbl> & <dbl> & <dbl>\\\\\n\\hline\n\tPorsche 914-2 & 26.0 & 4 & 120.3 &  91 & 4.43 & 2.140 & 16.7 & 0 & 1 & 5 & 2\\\\\n\tLotus Europa & 30.4 & 4 &  95.1 & 113 & 3.77 & 1.513 & 16.9 & 1 & 1 & 5 & 2\\\\\n\tFord Pantera L & 15.8 & 8 & 351.0 & 264 & 4.22 & 3.170 & 14.5 & 0 & 1 & 5 & 4\\\\\n\tFerrari Dino & 19.7 & 6 & 145.0 & 175 & 3.62 & 2.770 & 15.5 & 0 & 1 & 5 & 6\\\\\n\tMaserati Bora & 15.0 & 8 & 301.0 & 335 & 3.54 & 3.570 & 14.6 & 0 & 1 & 5 & 8\\\\\n\\end{tabular}\n",
            "text/markdown": "\nA data.frame: 5 × 11\n\n| <!--/--> | mpg &lt;dbl&gt; | cyl &lt;dbl&gt; | disp &lt;dbl&gt; | hp &lt;dbl&gt; | drat &lt;dbl&gt; | wt &lt;dbl&gt; | qsec &lt;dbl&gt; | vs &lt;dbl&gt; | am &lt;dbl&gt; | gear &lt;dbl&gt; | carb &lt;dbl&gt; |\n|---|---|---|---|---|---|---|---|---|---|---|---|\n| Porsche 914-2 | 26.0 | 4 | 120.3 |  91 | 4.43 | 2.140 | 16.7 | 0 | 1 | 5 | 2 |\n| Lotus Europa | 30.4 | 4 |  95.1 | 113 | 3.77 | 1.513 | 16.9 | 1 | 1 | 5 | 2 |\n| Ford Pantera L | 15.8 | 8 | 351.0 | 264 | 4.22 | 3.170 | 14.5 | 0 | 1 | 5 | 4 |\n| Ferrari Dino | 19.7 | 6 | 145.0 | 175 | 3.62 | 2.770 | 15.5 | 0 | 1 | 5 | 6 |\n| Maserati Bora | 15.0 | 8 | 301.0 | 335 | 3.54 | 3.570 | 14.6 | 0 | 1 | 5 | 8 |\n\n",
            "text/html": [
              "<table class=\"dataframe\">\n",
              "<caption>A data.frame: 5 × 11</caption>\n",
              "<thead>\n",
              "\t<tr><th></th><th scope=col>mpg</th><th scope=col>cyl</th><th scope=col>disp</th><th scope=col>hp</th><th scope=col>drat</th><th scope=col>wt</th><th scope=col>qsec</th><th scope=col>vs</th><th scope=col>am</th><th scope=col>gear</th><th scope=col>carb</th></tr>\n",
              "\t<tr><th></th><th scope=col>&lt;dbl&gt;</th><th scope=col>&lt;dbl&gt;</th><th scope=col>&lt;dbl&gt;</th><th scope=col>&lt;dbl&gt;</th><th scope=col>&lt;dbl&gt;</th><th scope=col>&lt;dbl&gt;</th><th scope=col>&lt;dbl&gt;</th><th scope=col>&lt;dbl&gt;</th><th scope=col>&lt;dbl&gt;</th><th scope=col>&lt;dbl&gt;</th><th scope=col>&lt;dbl&gt;</th></tr>\n",
              "</thead>\n",
              "<tbody>\n",
              "\t<tr><th scope=row>Porsche 914-2</th><td>26.0</td><td>4</td><td>120.3</td><td> 91</td><td>4.43</td><td>2.140</td><td>16.7</td><td>0</td><td>1</td><td>5</td><td>2</td></tr>\n",
              "\t<tr><th scope=row>Lotus Europa</th><td>30.4</td><td>4</td><td> 95.1</td><td>113</td><td>3.77</td><td>1.513</td><td>16.9</td><td>1</td><td>1</td><td>5</td><td>2</td></tr>\n",
              "\t<tr><th scope=row>Ford Pantera L</th><td>15.8</td><td>8</td><td>351.0</td><td>264</td><td>4.22</td><td>3.170</td><td>14.5</td><td>0</td><td>1</td><td>5</td><td>4</td></tr>\n",
              "\t<tr><th scope=row>Ferrari Dino</th><td>19.7</td><td>6</td><td>145.0</td><td>175</td><td>3.62</td><td>2.770</td><td>15.5</td><td>0</td><td>1</td><td>5</td><td>6</td></tr>\n",
              "\t<tr><th scope=row>Maserati Bora</th><td>15.0</td><td>8</td><td>301.0</td><td>335</td><td>3.54</td><td>3.570</td><td>14.6</td><td>0</td><td>1</td><td>5</td><td>8</td></tr>\n",
              "</tbody>\n",
              "</table>\n"
            ]
          },
          "metadata": {
            "tags": []
          }
        },
        {
          "output_type": "display_data",
          "data": {
            "text/plain": [
              "                     \n",
              "1 function (x, ...)  \n",
              "2 UseMethod(\"subset\")"
            ]
          },
          "metadata": {
            "tags": []
          }
        }
      ]
    },
    {
      "cell_type": "markdown",
      "metadata": {
        "id": "7NG50I2s8m3k"
      },
      "source": [
        "<br>\n",
        "\n",
        "---\n",
        "\n",
        "<br>\n",
        "\n",
        "\n",
        "\n",
        "\n"
      ]
    },
    {
      "cell_type": "markdown",
      "metadata": {
        "id": "jim8jaDe8m3z"
      },
      "source": [
        "####<font color=red>Task 4</font>  (3 points)\n",
        "\n",
        "1. (1 point) Use `tapply` to find the average `hp` for each unique number of forward gears (`gear`). Show code and output.\n",
        "\n",
        "2. (1 point) Create a dataframe with two columns. One column should be unique `gear`. One column should be average `hp`\n",
        "\n",
        "3. (1 point) Compare to the answer for task 3.2. Are they the same? Which approach is more efficient? Explain."
      ]
    },
    {
      "cell_type": "code",
      "metadata": {
        "colab": {
          "base_uri": "https://localhost:8080/"
        },
        "id": "xtRVN_j4mMWl",
        "outputId": "d61b12b4-65da-4c4c-fd7e-d900c8d755ab"
      },
      "source": [
        "\n",
        "#1.\n",
        "print(tapply(data$hp,data$gear,mean)) #applied tapply function to see two averages at once. \n",
        "\n",
        "#2.\n",
        "newdata<-data.frame(\"gear\"=c(3,4,5),\"hp\"=c(176.1333,89.5000,195.6000))\n",
        "print(newdata)                        #assigh the results to columns "
      ],
      "execution_count": null,
      "outputs": [
        {
          "output_type": "stream",
          "text": [
            "       3        4        5 \n",
            "176.1333  89.5000 195.6000 \n",
            "  gear       hp\n",
            "1    3 176.1333\n",
            "2    4  89.5000\n",
            "3    5 195.6000\n"
          ],
          "name": "stdout"
        }
      ]
    },
    {
      "cell_type": "markdown",
      "metadata": {
        "id": "mPOxeG_MK2Xx"
      },
      "source": [
        "3. To me, tapply is more efficient than using loop. Since tapple is able to look result much easier."
      ]
    },
    {
      "cell_type": "markdown",
      "metadata": {
        "id": "jPahgppx4Nk1"
      },
      "source": [
        "<br>"
      ]
    }
  ]
}