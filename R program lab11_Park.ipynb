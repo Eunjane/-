{
  "nbformat": 4,
  "nbformat_minor": 0,
  "metadata": {
    "colab": {
      "name": " Lab11_Park.ipynb",
      "provenance": [],
      "collapsed_sections": [],
      "toc_visible": true,
      "include_colab_link": true
    },
    "kernelspec": {
      "name": "ir",
      "display_name": "R"
    }
  },
  "cells": [
    {
      "cell_type": "markdown",
      "metadata": {
        "id": "view-in-github",
        "colab_type": "text"
      },
      "source": [
        "<a href=\"https://colab.research.google.com/github/Eunjane/J-sMathematical.github.io-/blob/main/R%20program%20lab11_Park.ipynb\" target=\"_parent\"><img src=\"https://colab.research.google.com/assets/colab-badge.svg\" alt=\"Open In Colab\"/></a>"
      ]
    },
    {
      "cell_type": "markdown",
      "metadata": {
        "id": "gtETsh5j8vHw"
      },
      "source": [
        "# **Lab 11: Random Forests (30 points)**\n",
        "\n",
        "#### **WRITE YOUR NAME HERE**\n"
      ]
    },
    {
      "cell_type": "markdown",
      "metadata": {
        "id": "en9tcPcGuFyc"
      },
      "source": [
        "---\n",
        "**Instructions**: Complete the lab below.\n",
        "- <font color=red>Tasks</font> indicated in red must be completed to receive credit\n",
        "- Include all code for your work\n",
        "- Include markdown cells with written answers explaining your work when prompted\n",
        "- **NOTE: Your completed lab must be submitted to Canvas as a .ipynb file by the end of the lab session**\n",
        "---"
      ]
    },
    {
      "cell_type": "markdown",
      "metadata": {
        "id": "ARFdaNITmap5"
      },
      "source": [
        "## Data\n",
        "\n",
        "Data for the project is available [here](https://raw.githubusercontent.com/khasenst/datasets_teaching/main/copd_data_project.csv). A data dictionary describing the meaning of each of the variables in the dataset is available in the Project module in Canvas."
      ]
    },
    {
      "cell_type": "markdown",
      "metadata": {
        "id": "JnFw01WcmX4_"
      },
      "source": [
        "<br>\n",
        "\n",
        "---\n",
        "\n",
        "<br>\n",
        "\n",
        "\n",
        "\n",
        "\n"
      ]
    },
    {
      "cell_type": "markdown",
      "metadata": {
        "id": "pysEPMTuhyZs"
      },
      "source": [
        "## Introduction\n",
        "\n",
        "Chronic obstructive pulmonary disease (COPD) affects over 16 million Americans and is the fourth leading cause of death in the United States behind heart disease, cancer, and accidental death. While COPD can result from various toxic inhalations or asthma, it is most commonly associated with cigarette smoking. \n",
        "\n",
        "<br>\n",
        "\n",
        "COPD severity is typically measured by a device called a spirometer. Patients forcefully exhale into the device and the volume of air exhaled is used as a measure for the severity of disease (less air exhaled $\\Rightarrow$ worse disease). Data collected by the COPDGene research group includes spirometry data on thousands of research participants.\n",
        "\n",
        "<br>\n",
        "\n",
        "Spirometry measures in the dataset:\n",
        "* The forced expiratory volume (`FEV1`) is the volume of air exhaled in 1 second\n",
        "* The forced vital capacity (`FVC`) is the total volume of air exhaled after a full breath\n",
        "* `FEV1_FVC_ratio` is the ratio between `FEV1` and `FVC` (smaller $\\Rightarrow$ worse disease)\n",
        "* `FEV1_phase2` is the `FEV1` of research participants 5 years later\n",
        "\n",
        "<br>\n",
        "\n",
        "You overall task in this project is to analyze the relationship between FEV1 at follow-up `FEV1_phase2` and other variables in the dataset. The project has been organized into a series of tasks to assist you with your analysis organization."
      ]
    },
    {
      "cell_type": "markdown",
      "metadata": {
        "id": "sn_ZvQJyk0fh"
      },
      "source": [
        "<br>\n",
        "\n",
        "---\n",
        "\n",
        "<br>\n",
        "\n",
        "\n",
        "\n",
        "\n"
      ]
    },
    {
      "cell_type": "markdown",
      "metadata": {
        "id": "l_iYPeAD2NXY"
      },
      "source": [
        "####<font color=red>Organized</font> (1 points)\n",
        "* Answers should be organized in the following format for organization and readability\n",
        "\n",
        "<br>\n",
        "\n",
        "```\n",
        "# 1. \n",
        "This will be the code block to answer the first part of a task\n",
        "```\n",
        "\n",
        "1. This will be the text answer/explanation (if prompted) for the first task\n",
        "\n",
        "```\n",
        "# 2. \n",
        "This will be the code block to answer the second part of a task in a separate code cell\n",
        "```\n",
        "\n",
        "2. This will be the text answer/explanation (if prompted) for the second task\n",
        "\n",
        "<br>\n",
        "\n",
        "Continue this format for the remaining subtasks\n"
      ]
    },
    {
      "cell_type": "markdown",
      "metadata": {
        "id": "DpXF6Ztq2NXa"
      },
      "source": [
        "<br>\n",
        "\n",
        "---\n",
        "\n",
        "<br>\n",
        "\n",
        "\n",
        "\n",
        "\n"
      ]
    },
    {
      "cell_type": "markdown",
      "metadata": {
        "id": "L-sctL_02NXb"
      },
      "source": [
        "####<font color=red>Task 0</font> (3 points)\n",
        "\n",
        "1. Load the COPDGene dataset and show the first few lines.\n",
        "2. Remove the NAs from the dataset and store as `dat1`. Show the first few lines of `dat1`. How many rows does `dat1` contain? Answer in a complete sentence.\n",
        "3. Select all rows in the dataset where `FEV1_phase2` is `NA` and store as `test`. Show the first few lines of `test`. Make sure you did this correctly. How many rows does `test` contain? Answer in a complete sentence.\n",
        "\n",
        "Note: In machine learning, datasets are typically divided into training, validation, and testing sets\n",
        "  * training set - a dataset used to fit your model\n",
        "  * validation set - the dataset used to select your \"best\" model (e.g., using adjusted R-squared or MSE)\n",
        "  * testing set - the dataset used to assess accuracy of your final model\n",
        "\n",
        "Task 0.3 will be used as your testing set."
      ]
    },
    {
      "cell_type": "code",
      "metadata": {
        "id": "iGO2jFLnm9tb",
        "colab": {
          "base_uri": "https://localhost:8080/",
          "height": 931
        },
        "outputId": "41c8ee6b-a96e-44d8-ce75-15e4b647d3b1"
      },
      "source": [
        "#0.1\n",
        "dat <- read.csv(\"https://raw.githubusercontent.com/khasenst/datasets_teaching/main/copd_data_project.csv\")\n",
        "head(dat)\n",
        "\n",
        "#0.2\n",
        "dat1 <- na.omit(COPDGene)\n",
        "head(dat1)\n",
        "nrow(dat1)\n",
        "\n",
        "#0.3\n",
        "test <- dat[which(is.na(dat$FEV1_phase2)),]\n",
        "head(test)\n",
        "nrow(test)"
      ],
      "execution_count": null,
      "outputs": [
        {
          "output_type": "display_data",
          "data": {
            "text/plain": [
              "  sid    visit_year visit_date visit_age gender race  height_cm weight_kg sysBP\n",
              "1 10005Q 2008       1/15/2008  54.5      Female White 159.9      73.0     130  \n",
              "2 10006S 2008       1/15/2008  62.3      Female White 162.6      86.0     170  \n",
              "3 10010J 2008       1/15/2008  65.9      Female White 162.1      62.8      96  \n",
              "4 10015T 2008       2/15/2008  59.6      Male   White 182.9     110.0     142  \n",
              "5 10017X 2008       6/15/2008  67.5      Male   White 179.1      83.0     106  \n",
              "6 10022Q 2008       2/15/2008  69.8      Female White 158.8      78.0     122  \n",
              "  diasBP ⋯ total_lung_capacity pct_emphysema functional_residual_capacity\n",
              "1 80     ⋯ 5.6636               0.926851      2.4766                     \n",
              "2 80     ⋯ 5.2325              14.005900     -1.0000                     \n",
              "3 63     ⋯ 5.1960               1.683760      3.8993                     \n",
              "4 88     ⋯ 6.3971               9.330450     -1.0000                     \n",
              "5 72     ⋯ 7.8935              36.262400      4.1043                     \n",
              "6 78     ⋯ 5.1016              30.484400     -1.0000                     \n",
              "  pct_gastrapping insp_meanatt exp_meanatt FEV1_FVC_ratio FEV1  FVC  \n",
              "1  6.80077        -830.343     -650.526    0.77           2.921 3.805\n",
              "2 -1.00000        -841.880       -1.000    0.43           1.288 3.022\n",
              "3 41.34930        -833.429     -789.595    0.53           1.008 1.909\n",
              "4 -1.00000        -841.315       -1.000    0.51           1.906 3.732\n",
              "5 46.17690        -887.947     -792.397    0.57           2.748 4.827\n",
              "6 -1.00000        -865.608       -1.000    0.53           1.076 2.047\n",
              "  FEV1_phase2\n",
              "1 2.622      \n",
              "2    NA      \n",
              "3 1.087      \n",
              "4 2.002      \n",
              "5 2.178      \n",
              "6 0.924      "
            ],
            "text/latex": "A data.frame: 6 × 35\n\\begin{tabular}{r|lllllllllllllllllllll}\n  & sid & visit\\_year & visit\\_date & visit\\_age & gender & race & height\\_cm & weight\\_kg & sysBP & diasBP & ⋯ & total\\_lung\\_capacity & pct\\_emphysema & functional\\_residual\\_capacity & pct\\_gastrapping & insp\\_meanatt & exp\\_meanatt & FEV1\\_FVC\\_ratio & FEV1 & FVC & FEV1\\_phase2\\\\\n  & <chr> & <int> & <chr> & <dbl> & <chr> & <chr> & <dbl> & <dbl> & <int> & <int> & ⋯ & <dbl> & <dbl> & <dbl> & <dbl> & <dbl> & <dbl> & <dbl> & <dbl> & <dbl> & <dbl>\\\\\n\\hline\n\t1 & 10005Q & 2008 & 1/15/2008 & 54.5 & Female & White & 159.9 &  73.0 & 130 & 80 & ⋯ & 5.6636 &  0.926851 &  2.4766 &  6.80077 & -830.343 & -650.526 & 0.77 & 2.921 & 3.805 & 2.622\\\\\n\t2 & 10006S & 2008 & 1/15/2008 & 62.3 & Female & White & 162.6 &  86.0 & 170 & 80 & ⋯ & 5.2325 & 14.005900 & -1.0000 & -1.00000 & -841.880 &   -1.000 & 0.43 & 1.288 & 3.022 &    NA\\\\\n\t3 & 10010J & 2008 & 1/15/2008 & 65.9 & Female & White & 162.1 &  62.8 &  96 & 63 & ⋯ & 5.1960 &  1.683760 &  3.8993 & 41.34930 & -833.429 & -789.595 & 0.53 & 1.008 & 1.909 & 1.087\\\\\n\t4 & 10015T & 2008 & 2/15/2008 & 59.6 & Male   & White & 182.9 & 110.0 & 142 & 88 & ⋯ & 6.3971 &  9.330450 & -1.0000 & -1.00000 & -841.315 &   -1.000 & 0.51 & 1.906 & 3.732 & 2.002\\\\\n\t5 & 10017X & 2008 & 6/15/2008 & 67.5 & Male   & White & 179.1 &  83.0 & 106 & 72 & ⋯ & 7.8935 & 36.262400 &  4.1043 & 46.17690 & -887.947 & -792.397 & 0.57 & 2.748 & 4.827 & 2.178\\\\\n\t6 & 10022Q & 2008 & 2/15/2008 & 69.8 & Female & White & 158.8 &  78.0 & 122 & 78 & ⋯ & 5.1016 & 30.484400 & -1.0000 & -1.00000 & -865.608 &   -1.000 & 0.53 & 1.076 & 2.047 & 0.924\\\\\n\\end{tabular}\n",
            "text/markdown": "\nA data.frame: 6 × 35\n\n| <!--/--> | sid &lt;chr&gt; | visit_year &lt;int&gt; | visit_date &lt;chr&gt; | visit_age &lt;dbl&gt; | gender &lt;chr&gt; | race &lt;chr&gt; | height_cm &lt;dbl&gt; | weight_kg &lt;dbl&gt; | sysBP &lt;int&gt; | diasBP &lt;int&gt; | ⋯ ⋯ | total_lung_capacity &lt;dbl&gt; | pct_emphysema &lt;dbl&gt; | functional_residual_capacity &lt;dbl&gt; | pct_gastrapping &lt;dbl&gt; | insp_meanatt &lt;dbl&gt; | exp_meanatt &lt;dbl&gt; | FEV1_FVC_ratio &lt;dbl&gt; | FEV1 &lt;dbl&gt; | FVC &lt;dbl&gt; | FEV1_phase2 &lt;dbl&gt; |\n|---|---|---|---|---|---|---|---|---|---|---|---|---|---|---|---|---|---|---|---|---|---|\n| 1 | 10005Q | 2008 | 1/15/2008 | 54.5 | Female | White | 159.9 |  73.0 | 130 | 80 | ⋯ | 5.6636 |  0.926851 |  2.4766 |  6.80077 | -830.343 | -650.526 | 0.77 | 2.921 | 3.805 | 2.622 |\n| 2 | 10006S | 2008 | 1/15/2008 | 62.3 | Female | White | 162.6 |  86.0 | 170 | 80 | ⋯ | 5.2325 | 14.005900 | -1.0000 | -1.00000 | -841.880 |   -1.000 | 0.43 | 1.288 | 3.022 |    NA |\n| 3 | 10010J | 2008 | 1/15/2008 | 65.9 | Female | White | 162.1 |  62.8 |  96 | 63 | ⋯ | 5.1960 |  1.683760 |  3.8993 | 41.34930 | -833.429 | -789.595 | 0.53 | 1.008 | 1.909 | 1.087 |\n| 4 | 10015T | 2008 | 2/15/2008 | 59.6 | Male   | White | 182.9 | 110.0 | 142 | 88 | ⋯ | 6.3971 |  9.330450 | -1.0000 | -1.00000 | -841.315 |   -1.000 | 0.51 | 1.906 | 3.732 | 2.002 |\n| 5 | 10017X | 2008 | 6/15/2008 | 67.5 | Male   | White | 179.1 |  83.0 | 106 | 72 | ⋯ | 7.8935 | 36.262400 |  4.1043 | 46.17690 | -887.947 | -792.397 | 0.57 | 2.748 | 4.827 | 2.178 |\n| 6 | 10022Q | 2008 | 2/15/2008 | 69.8 | Female | White | 158.8 |  78.0 | 122 | 78 | ⋯ | 5.1016 | 30.484400 | -1.0000 | -1.00000 | -865.608 |   -1.000 | 0.53 | 1.076 | 2.047 | 0.924 |\n\n",
            "text/html": [
              "<table class=\"dataframe\">\n",
              "<caption>A data.frame: 6 × 35</caption>\n",
              "<thead>\n",
              "\t<tr><th></th><th scope=col>sid</th><th scope=col>visit_year</th><th scope=col>visit_date</th><th scope=col>visit_age</th><th scope=col>gender</th><th scope=col>race</th><th scope=col>height_cm</th><th scope=col>weight_kg</th><th scope=col>sysBP</th><th scope=col>diasBP</th><th scope=col>⋯</th><th scope=col>total_lung_capacity</th><th scope=col>pct_emphysema</th><th scope=col>functional_residual_capacity</th><th scope=col>pct_gastrapping</th><th scope=col>insp_meanatt</th><th scope=col>exp_meanatt</th><th scope=col>FEV1_FVC_ratio</th><th scope=col>FEV1</th><th scope=col>FVC</th><th scope=col>FEV1_phase2</th></tr>\n",
              "\t<tr><th></th><th scope=col>&lt;chr&gt;</th><th scope=col>&lt;int&gt;</th><th scope=col>&lt;chr&gt;</th><th scope=col>&lt;dbl&gt;</th><th scope=col>&lt;chr&gt;</th><th scope=col>&lt;chr&gt;</th><th scope=col>&lt;dbl&gt;</th><th scope=col>&lt;dbl&gt;</th><th scope=col>&lt;int&gt;</th><th scope=col>&lt;int&gt;</th><th scope=col>⋯</th><th scope=col>&lt;dbl&gt;</th><th scope=col>&lt;dbl&gt;</th><th scope=col>&lt;dbl&gt;</th><th scope=col>&lt;dbl&gt;</th><th scope=col>&lt;dbl&gt;</th><th scope=col>&lt;dbl&gt;</th><th scope=col>&lt;dbl&gt;</th><th scope=col>&lt;dbl&gt;</th><th scope=col>&lt;dbl&gt;</th><th scope=col>&lt;dbl&gt;</th></tr>\n",
              "</thead>\n",
              "<tbody>\n",
              "\t<tr><th scope=row>1</th><td>10005Q</td><td>2008</td><td>1/15/2008</td><td>54.5</td><td>Female</td><td>White</td><td>159.9</td><td> 73.0</td><td>130</td><td>80</td><td>⋯</td><td>5.6636</td><td> 0.926851</td><td> 2.4766</td><td> 6.80077</td><td>-830.343</td><td>-650.526</td><td>0.77</td><td>2.921</td><td>3.805</td><td>2.622</td></tr>\n",
              "\t<tr><th scope=row>2</th><td>10006S</td><td>2008</td><td>1/15/2008</td><td>62.3</td><td>Female</td><td>White</td><td>162.6</td><td> 86.0</td><td>170</td><td>80</td><td>⋯</td><td>5.2325</td><td>14.005900</td><td>-1.0000</td><td>-1.00000</td><td>-841.880</td><td>  -1.000</td><td>0.43</td><td>1.288</td><td>3.022</td><td>   NA</td></tr>\n",
              "\t<tr><th scope=row>3</th><td>10010J</td><td>2008</td><td>1/15/2008</td><td>65.9</td><td>Female</td><td>White</td><td>162.1</td><td> 62.8</td><td> 96</td><td>63</td><td>⋯</td><td>5.1960</td><td> 1.683760</td><td> 3.8993</td><td>41.34930</td><td>-833.429</td><td>-789.595</td><td>0.53</td><td>1.008</td><td>1.909</td><td>1.087</td></tr>\n",
              "\t<tr><th scope=row>4</th><td>10015T</td><td>2008</td><td>2/15/2008</td><td>59.6</td><td>Male  </td><td>White</td><td>182.9</td><td>110.0</td><td>142</td><td>88</td><td>⋯</td><td>6.3971</td><td> 9.330450</td><td>-1.0000</td><td>-1.00000</td><td>-841.315</td><td>  -1.000</td><td>0.51</td><td>1.906</td><td>3.732</td><td>2.002</td></tr>\n",
              "\t<tr><th scope=row>5</th><td>10017X</td><td>2008</td><td>6/15/2008</td><td>67.5</td><td>Male  </td><td>White</td><td>179.1</td><td> 83.0</td><td>106</td><td>72</td><td>⋯</td><td>7.8935</td><td>36.262400</td><td> 4.1043</td><td>46.17690</td><td>-887.947</td><td>-792.397</td><td>0.57</td><td>2.748</td><td>4.827</td><td>2.178</td></tr>\n",
              "\t<tr><th scope=row>6</th><td>10022Q</td><td>2008</td><td>2/15/2008</td><td>69.8</td><td>Female</td><td>White</td><td>158.8</td><td> 78.0</td><td>122</td><td>78</td><td>⋯</td><td>5.1016</td><td>30.484400</td><td>-1.0000</td><td>-1.00000</td><td>-865.608</td><td>  -1.000</td><td>0.53</td><td>1.076</td><td>2.047</td><td>0.924</td></tr>\n",
              "</tbody>\n",
              "</table>\n"
            ]
          },
          "metadata": {
            "tags": []
          }
        },
        {
          "output_type": "display_data",
          "data": {
            "text/plain": [
              "  sid    visit_year visit_date visit_age gender race                     \n",
              "1 10005Q 2008       1/15/2008  54.5      Female White                    \n",
              "3 10010J 2008       1/15/2008  65.9      Female White                    \n",
              "4 10015T 2008       2/15/2008  59.6      Male   White                    \n",
              "5 10017X 2008       6/15/2008  67.5      Male   White                    \n",
              "6 10022Q 2008       2/15/2008  69.8      Female White                    \n",
              "7 10025W 2008       2/15/2008  68.9      Male   Black or African American\n",
              "  height_cm weight_kg sysBP diasBP ⋯ total_lung_capacity pct_emphysema\n",
              "1 159.9      73.0     130   80     ⋯ 5.6636               0.926851    \n",
              "3 162.1      62.8      96   63     ⋯ 5.1960               1.683760    \n",
              "4 182.9     110.0     142   88     ⋯ 6.3971               9.330450    \n",
              "5 179.1      83.0     106   72     ⋯ 7.8935              36.262400    \n",
              "6 158.8      78.0     122   78     ⋯ 5.1016              30.484400    \n",
              "7 168.9      51.0     120   60     ⋯ 6.4421              51.156200    \n",
              "  functional_residual_capacity pct_gastrapping insp_meanatt exp_meanatt\n",
              "1  2.4766                       6.80077        -830.343     -650.526   \n",
              "3  3.8993                      41.34930        -833.429     -789.595   \n",
              "4 -1.0000                      -1.00000        -841.315       -1.000   \n",
              "5  4.1043                      46.17690        -887.947     -792.397   \n",
              "6 -1.0000                      -1.00000        -865.608       -1.000   \n",
              "7 -1.0000                      -1.00000        -906.021       -1.000   \n",
              "  FEV1_FVC_ratio FEV1  FVC   FEV1_phase2\n",
              "1 0.77           2.921 3.805 2.622      \n",
              "3 0.53           1.008 1.909 1.087      \n",
              "4 0.51           1.906 3.732 2.002      \n",
              "5 0.57           2.748 4.827 2.178      \n",
              "6 0.53           1.076 2.047 0.924      \n",
              "7 0.27           0.718 2.697 0.596      "
            ],
            "text/latex": "A data.frame: 6 × 35\n\\begin{tabular}{r|lllllllllllllllllllll}\n  & sid & visit\\_year & visit\\_date & visit\\_age & gender & race & height\\_cm & weight\\_kg & sysBP & diasBP & ⋯ & total\\_lung\\_capacity & pct\\_emphysema & functional\\_residual\\_capacity & pct\\_gastrapping & insp\\_meanatt & exp\\_meanatt & FEV1\\_FVC\\_ratio & FEV1 & FVC & FEV1\\_phase2\\\\\n  & <chr> & <int> & <chr> & <dbl> & <chr> & <chr> & <dbl> & <dbl> & <int> & <int> & ⋯ & <dbl> & <dbl> & <dbl> & <dbl> & <dbl> & <dbl> & <dbl> & <dbl> & <dbl> & <dbl>\\\\\n\\hline\n\t1 & 10005Q & 2008 & 1/15/2008 & 54.5 & Female & White                     & 159.9 &  73.0 & 130 & 80 & ⋯ & 5.6636 &  0.926851 &  2.4766 &  6.80077 & -830.343 & -650.526 & 0.77 & 2.921 & 3.805 & 2.622\\\\\n\t3 & 10010J & 2008 & 1/15/2008 & 65.9 & Female & White                     & 162.1 &  62.8 &  96 & 63 & ⋯ & 5.1960 &  1.683760 &  3.8993 & 41.34930 & -833.429 & -789.595 & 0.53 & 1.008 & 1.909 & 1.087\\\\\n\t4 & 10015T & 2008 & 2/15/2008 & 59.6 & Male   & White                     & 182.9 & 110.0 & 142 & 88 & ⋯ & 6.3971 &  9.330450 & -1.0000 & -1.00000 & -841.315 &   -1.000 & 0.51 & 1.906 & 3.732 & 2.002\\\\\n\t5 & 10017X & 2008 & 6/15/2008 & 67.5 & Male   & White                     & 179.1 &  83.0 & 106 & 72 & ⋯ & 7.8935 & 36.262400 &  4.1043 & 46.17690 & -887.947 & -792.397 & 0.57 & 2.748 & 4.827 & 2.178\\\\\n\t6 & 10022Q & 2008 & 2/15/2008 & 69.8 & Female & White                     & 158.8 &  78.0 & 122 & 78 & ⋯ & 5.1016 & 30.484400 & -1.0000 & -1.00000 & -865.608 &   -1.000 & 0.53 & 1.076 & 2.047 & 0.924\\\\\n\t7 & 10025W & 2008 & 2/15/2008 & 68.9 & Male   & Black or African American & 168.9 &  51.0 & 120 & 60 & ⋯ & 6.4421 & 51.156200 & -1.0000 & -1.00000 & -906.021 &   -1.000 & 0.27 & 0.718 & 2.697 & 0.596\\\\\n\\end{tabular}\n",
            "text/markdown": "\nA data.frame: 6 × 35\n\n| <!--/--> | sid &lt;chr&gt; | visit_year &lt;int&gt; | visit_date &lt;chr&gt; | visit_age &lt;dbl&gt; | gender &lt;chr&gt; | race &lt;chr&gt; | height_cm &lt;dbl&gt; | weight_kg &lt;dbl&gt; | sysBP &lt;int&gt; | diasBP &lt;int&gt; | ⋯ ⋯ | total_lung_capacity &lt;dbl&gt; | pct_emphysema &lt;dbl&gt; | functional_residual_capacity &lt;dbl&gt; | pct_gastrapping &lt;dbl&gt; | insp_meanatt &lt;dbl&gt; | exp_meanatt &lt;dbl&gt; | FEV1_FVC_ratio &lt;dbl&gt; | FEV1 &lt;dbl&gt; | FVC &lt;dbl&gt; | FEV1_phase2 &lt;dbl&gt; |\n|---|---|---|---|---|---|---|---|---|---|---|---|---|---|---|---|---|---|---|---|---|---|\n| 1 | 10005Q | 2008 | 1/15/2008 | 54.5 | Female | White                     | 159.9 |  73.0 | 130 | 80 | ⋯ | 5.6636 |  0.926851 |  2.4766 |  6.80077 | -830.343 | -650.526 | 0.77 | 2.921 | 3.805 | 2.622 |\n| 3 | 10010J | 2008 | 1/15/2008 | 65.9 | Female | White                     | 162.1 |  62.8 |  96 | 63 | ⋯ | 5.1960 |  1.683760 |  3.8993 | 41.34930 | -833.429 | -789.595 | 0.53 | 1.008 | 1.909 | 1.087 |\n| 4 | 10015T | 2008 | 2/15/2008 | 59.6 | Male   | White                     | 182.9 | 110.0 | 142 | 88 | ⋯ | 6.3971 |  9.330450 | -1.0000 | -1.00000 | -841.315 |   -1.000 | 0.51 | 1.906 | 3.732 | 2.002 |\n| 5 | 10017X | 2008 | 6/15/2008 | 67.5 | Male   | White                     | 179.1 |  83.0 | 106 | 72 | ⋯ | 7.8935 | 36.262400 |  4.1043 | 46.17690 | -887.947 | -792.397 | 0.57 | 2.748 | 4.827 | 2.178 |\n| 6 | 10022Q | 2008 | 2/15/2008 | 69.8 | Female | White                     | 158.8 |  78.0 | 122 | 78 | ⋯ | 5.1016 | 30.484400 | -1.0000 | -1.00000 | -865.608 |   -1.000 | 0.53 | 1.076 | 2.047 | 0.924 |\n| 7 | 10025W | 2008 | 2/15/2008 | 68.9 | Male   | Black or African American | 168.9 |  51.0 | 120 | 60 | ⋯ | 6.4421 | 51.156200 | -1.0000 | -1.00000 | -906.021 |   -1.000 | 0.27 | 0.718 | 2.697 | 0.596 |\n\n",
            "text/html": [
              "<table class=\"dataframe\">\n",
              "<caption>A data.frame: 6 × 35</caption>\n",
              "<thead>\n",
              "\t<tr><th></th><th scope=col>sid</th><th scope=col>visit_year</th><th scope=col>visit_date</th><th scope=col>visit_age</th><th scope=col>gender</th><th scope=col>race</th><th scope=col>height_cm</th><th scope=col>weight_kg</th><th scope=col>sysBP</th><th scope=col>diasBP</th><th scope=col>⋯</th><th scope=col>total_lung_capacity</th><th scope=col>pct_emphysema</th><th scope=col>functional_residual_capacity</th><th scope=col>pct_gastrapping</th><th scope=col>insp_meanatt</th><th scope=col>exp_meanatt</th><th scope=col>FEV1_FVC_ratio</th><th scope=col>FEV1</th><th scope=col>FVC</th><th scope=col>FEV1_phase2</th></tr>\n",
              "\t<tr><th></th><th scope=col>&lt;chr&gt;</th><th scope=col>&lt;int&gt;</th><th scope=col>&lt;chr&gt;</th><th scope=col>&lt;dbl&gt;</th><th scope=col>&lt;chr&gt;</th><th scope=col>&lt;chr&gt;</th><th scope=col>&lt;dbl&gt;</th><th scope=col>&lt;dbl&gt;</th><th scope=col>&lt;int&gt;</th><th scope=col>&lt;int&gt;</th><th scope=col>⋯</th><th scope=col>&lt;dbl&gt;</th><th scope=col>&lt;dbl&gt;</th><th scope=col>&lt;dbl&gt;</th><th scope=col>&lt;dbl&gt;</th><th scope=col>&lt;dbl&gt;</th><th scope=col>&lt;dbl&gt;</th><th scope=col>&lt;dbl&gt;</th><th scope=col>&lt;dbl&gt;</th><th scope=col>&lt;dbl&gt;</th><th scope=col>&lt;dbl&gt;</th></tr>\n",
              "</thead>\n",
              "<tbody>\n",
              "\t<tr><th scope=row>1</th><td>10005Q</td><td>2008</td><td>1/15/2008</td><td>54.5</td><td>Female</td><td>White                    </td><td>159.9</td><td> 73.0</td><td>130</td><td>80</td><td>⋯</td><td>5.6636</td><td> 0.926851</td><td> 2.4766</td><td> 6.80077</td><td>-830.343</td><td>-650.526</td><td>0.77</td><td>2.921</td><td>3.805</td><td>2.622</td></tr>\n",
              "\t<tr><th scope=row>3</th><td>10010J</td><td>2008</td><td>1/15/2008</td><td>65.9</td><td>Female</td><td>White                    </td><td>162.1</td><td> 62.8</td><td> 96</td><td>63</td><td>⋯</td><td>5.1960</td><td> 1.683760</td><td> 3.8993</td><td>41.34930</td><td>-833.429</td><td>-789.595</td><td>0.53</td><td>1.008</td><td>1.909</td><td>1.087</td></tr>\n",
              "\t<tr><th scope=row>4</th><td>10015T</td><td>2008</td><td>2/15/2008</td><td>59.6</td><td>Male  </td><td>White                    </td><td>182.9</td><td>110.0</td><td>142</td><td>88</td><td>⋯</td><td>6.3971</td><td> 9.330450</td><td>-1.0000</td><td>-1.00000</td><td>-841.315</td><td>  -1.000</td><td>0.51</td><td>1.906</td><td>3.732</td><td>2.002</td></tr>\n",
              "\t<tr><th scope=row>5</th><td>10017X</td><td>2008</td><td>6/15/2008</td><td>67.5</td><td>Male  </td><td>White                    </td><td>179.1</td><td> 83.0</td><td>106</td><td>72</td><td>⋯</td><td>7.8935</td><td>36.262400</td><td> 4.1043</td><td>46.17690</td><td>-887.947</td><td>-792.397</td><td>0.57</td><td>2.748</td><td>4.827</td><td>2.178</td></tr>\n",
              "\t<tr><th scope=row>6</th><td>10022Q</td><td>2008</td><td>2/15/2008</td><td>69.8</td><td>Female</td><td>White                    </td><td>158.8</td><td> 78.0</td><td>122</td><td>78</td><td>⋯</td><td>5.1016</td><td>30.484400</td><td>-1.0000</td><td>-1.00000</td><td>-865.608</td><td>  -1.000</td><td>0.53</td><td>1.076</td><td>2.047</td><td>0.924</td></tr>\n",
              "\t<tr><th scope=row>7</th><td>10025W</td><td>2008</td><td>2/15/2008</td><td>68.9</td><td>Male  </td><td>Black or African American</td><td>168.9</td><td> 51.0</td><td>120</td><td>60</td><td>⋯</td><td>6.4421</td><td>51.156200</td><td>-1.0000</td><td>-1.00000</td><td>-906.021</td><td>  -1.000</td><td>0.27</td><td>0.718</td><td>2.697</td><td>0.596</td></tr>\n",
              "</tbody>\n",
              "</table>\n"
            ]
          },
          "metadata": {
            "tags": []
          }
        },
        {
          "output_type": "display_data",
          "data": {
            "text/plain": [
              "[1] 4000"
            ],
            "text/latex": "4000",
            "text/markdown": "4000",
            "text/html": [
              "4000"
            ]
          },
          "metadata": {
            "tags": []
          }
        },
        {
          "output_type": "display_data",
          "data": {
            "text/plain": [
              "   sid    visit_year visit_date visit_age gender race                     \n",
              "2  10006S 2008       1/15/2008  62.3      Female White                    \n",
              "8  10031R 2008       2/15/2008  60.9      Male   White                    \n",
              "9  10032T 2008       3/15/2008  60.9      Female White                    \n",
              "12 10052Z 2008       3/15/2008  47.5      Male   White                    \n",
              "13 10055F 2008       3/15/2008  69.0      Male   Black or African American\n",
              "15 10057J 2008       4/15/2008  56.8      Male   White                    \n",
              "   height_cm weight_kg sysBP diasBP ⋯ total_lung_capacity pct_emphysema\n",
              "2  162.6     86.0      170    80    ⋯ 5.2325              14.00590     \n",
              "8  184.8     83.6      124    69    ⋯ 8.8889              27.52070     \n",
              "9  162.5     89.4      156    88    ⋯ 5.3977               7.72520     \n",
              "12 178.0     86.6      125    84    ⋯ 8.2246               2.22613     \n",
              "13 178.0     90.7      168   100    ⋯ 4.9060               1.94520     \n",
              "15 170.0     79.7      131    68    ⋯ 7.0991               7.52536     \n",
              "   functional_residual_capacity pct_gastrapping insp_meanatt exp_meanatt\n",
              "2  -1.0000                      -1.0000         -841.880       -1.000   \n",
              "8   4.4364                      44.8584         -878.354     -772.429   \n",
              "9   2.9650                      31.1250         -858.979     -745.539   \n",
              "12  5.0391                      33.8255         -854.198     -778.834   \n",
              "13  1.9057                      10.6835         -823.746     -638.442   \n",
              "15  4.0210                      27.8384         -856.567     -756.317   \n",
              "   FEV1_FVC_ratio FEV1  FVC   FEV1_phase2\n",
              "2  0.43           1.288 3.022 NA         \n",
              "8  0.51           2.408 4.725 NA         \n",
              "9  0.59           1.476 2.506 NA         \n",
              "12 0.45           1.718 3.796 NA         \n",
              "13 0.73           2.917 3.999 NA         \n",
              "15 0.51           2.266 4.425 NA         "
            ],
            "text/latex": "A data.frame: 6 × 35\n\\begin{tabular}{r|lllllllllllllllllllll}\n  & sid & visit\\_year & visit\\_date & visit\\_age & gender & race & height\\_cm & weight\\_kg & sysBP & diasBP & ⋯ & total\\_lung\\_capacity & pct\\_emphysema & functional\\_residual\\_capacity & pct\\_gastrapping & insp\\_meanatt & exp\\_meanatt & FEV1\\_FVC\\_ratio & FEV1 & FVC & FEV1\\_phase2\\\\\n  & <chr> & <int> & <chr> & <dbl> & <chr> & <chr> & <dbl> & <dbl> & <int> & <int> & ⋯ & <dbl> & <dbl> & <dbl> & <dbl> & <dbl> & <dbl> & <dbl> & <dbl> & <dbl> & <dbl>\\\\\n\\hline\n\t2 & 10006S & 2008 & 1/15/2008 & 62.3 & Female & White                     & 162.6 & 86.0 & 170 &  80 & ⋯ & 5.2325 & 14.00590 & -1.0000 & -1.0000 & -841.880 &   -1.000 & 0.43 & 1.288 & 3.022 & NA\\\\\n\t8 & 10031R & 2008 & 2/15/2008 & 60.9 & Male   & White                     & 184.8 & 83.6 & 124 &  69 & ⋯ & 8.8889 & 27.52070 &  4.4364 & 44.8584 & -878.354 & -772.429 & 0.51 & 2.408 & 4.725 & NA\\\\\n\t9 & 10032T & 2008 & 3/15/2008 & 60.9 & Female & White                     & 162.5 & 89.4 & 156 &  88 & ⋯ & 5.3977 &  7.72520 &  2.9650 & 31.1250 & -858.979 & -745.539 & 0.59 & 1.476 & 2.506 & NA\\\\\n\t12 & 10052Z & 2008 & 3/15/2008 & 47.5 & Male   & White                     & 178.0 & 86.6 & 125 &  84 & ⋯ & 8.2246 &  2.22613 &  5.0391 & 33.8255 & -854.198 & -778.834 & 0.45 & 1.718 & 3.796 & NA\\\\\n\t13 & 10055F & 2008 & 3/15/2008 & 69.0 & Male   & Black or African American & 178.0 & 90.7 & 168 & 100 & ⋯ & 4.9060 &  1.94520 &  1.9057 & 10.6835 & -823.746 & -638.442 & 0.73 & 2.917 & 3.999 & NA\\\\\n\t15 & 10057J & 2008 & 4/15/2008 & 56.8 & Male   & White                     & 170.0 & 79.7 & 131 &  68 & ⋯ & 7.0991 &  7.52536 &  4.0210 & 27.8384 & -856.567 & -756.317 & 0.51 & 2.266 & 4.425 & NA\\\\\n\\end{tabular}\n",
            "text/markdown": "\nA data.frame: 6 × 35\n\n| <!--/--> | sid &lt;chr&gt; | visit_year &lt;int&gt; | visit_date &lt;chr&gt; | visit_age &lt;dbl&gt; | gender &lt;chr&gt; | race &lt;chr&gt; | height_cm &lt;dbl&gt; | weight_kg &lt;dbl&gt; | sysBP &lt;int&gt; | diasBP &lt;int&gt; | ⋯ ⋯ | total_lung_capacity &lt;dbl&gt; | pct_emphysema &lt;dbl&gt; | functional_residual_capacity &lt;dbl&gt; | pct_gastrapping &lt;dbl&gt; | insp_meanatt &lt;dbl&gt; | exp_meanatt &lt;dbl&gt; | FEV1_FVC_ratio &lt;dbl&gt; | FEV1 &lt;dbl&gt; | FVC &lt;dbl&gt; | FEV1_phase2 &lt;dbl&gt; |\n|---|---|---|---|---|---|---|---|---|---|---|---|---|---|---|---|---|---|---|---|---|---|\n| 2 | 10006S | 2008 | 1/15/2008 | 62.3 | Female | White                     | 162.6 | 86.0 | 170 |  80 | ⋯ | 5.2325 | 14.00590 | -1.0000 | -1.0000 | -841.880 |   -1.000 | 0.43 | 1.288 | 3.022 | NA |\n| 8 | 10031R | 2008 | 2/15/2008 | 60.9 | Male   | White                     | 184.8 | 83.6 | 124 |  69 | ⋯ | 8.8889 | 27.52070 |  4.4364 | 44.8584 | -878.354 | -772.429 | 0.51 | 2.408 | 4.725 | NA |\n| 9 | 10032T | 2008 | 3/15/2008 | 60.9 | Female | White                     | 162.5 | 89.4 | 156 |  88 | ⋯ | 5.3977 |  7.72520 |  2.9650 | 31.1250 | -858.979 | -745.539 | 0.59 | 1.476 | 2.506 | NA |\n| 12 | 10052Z | 2008 | 3/15/2008 | 47.5 | Male   | White                     | 178.0 | 86.6 | 125 |  84 | ⋯ | 8.2246 |  2.22613 |  5.0391 | 33.8255 | -854.198 | -778.834 | 0.45 | 1.718 | 3.796 | NA |\n| 13 | 10055F | 2008 | 3/15/2008 | 69.0 | Male   | Black or African American | 178.0 | 90.7 | 168 | 100 | ⋯ | 4.9060 |  1.94520 |  1.9057 | 10.6835 | -823.746 | -638.442 | 0.73 | 2.917 | 3.999 | NA |\n| 15 | 10057J | 2008 | 4/15/2008 | 56.8 | Male   | White                     | 170.0 | 79.7 | 131 |  68 | ⋯ | 7.0991 |  7.52536 |  4.0210 | 27.8384 | -856.567 | -756.317 | 0.51 | 2.266 | 4.425 | NA |\n\n",
            "text/html": [
              "<table class=\"dataframe\">\n",
              "<caption>A data.frame: 6 × 35</caption>\n",
              "<thead>\n",
              "\t<tr><th></th><th scope=col>sid</th><th scope=col>visit_year</th><th scope=col>visit_date</th><th scope=col>visit_age</th><th scope=col>gender</th><th scope=col>race</th><th scope=col>height_cm</th><th scope=col>weight_kg</th><th scope=col>sysBP</th><th scope=col>diasBP</th><th scope=col>⋯</th><th scope=col>total_lung_capacity</th><th scope=col>pct_emphysema</th><th scope=col>functional_residual_capacity</th><th scope=col>pct_gastrapping</th><th scope=col>insp_meanatt</th><th scope=col>exp_meanatt</th><th scope=col>FEV1_FVC_ratio</th><th scope=col>FEV1</th><th scope=col>FVC</th><th scope=col>FEV1_phase2</th></tr>\n",
              "\t<tr><th></th><th scope=col>&lt;chr&gt;</th><th scope=col>&lt;int&gt;</th><th scope=col>&lt;chr&gt;</th><th scope=col>&lt;dbl&gt;</th><th scope=col>&lt;chr&gt;</th><th scope=col>&lt;chr&gt;</th><th scope=col>&lt;dbl&gt;</th><th scope=col>&lt;dbl&gt;</th><th scope=col>&lt;int&gt;</th><th scope=col>&lt;int&gt;</th><th scope=col>⋯</th><th scope=col>&lt;dbl&gt;</th><th scope=col>&lt;dbl&gt;</th><th scope=col>&lt;dbl&gt;</th><th scope=col>&lt;dbl&gt;</th><th scope=col>&lt;dbl&gt;</th><th scope=col>&lt;dbl&gt;</th><th scope=col>&lt;dbl&gt;</th><th scope=col>&lt;dbl&gt;</th><th scope=col>&lt;dbl&gt;</th><th scope=col>&lt;dbl&gt;</th></tr>\n",
              "</thead>\n",
              "<tbody>\n",
              "\t<tr><th scope=row>2</th><td>10006S</td><td>2008</td><td>1/15/2008</td><td>62.3</td><td>Female</td><td>White                    </td><td>162.6</td><td>86.0</td><td>170</td><td> 80</td><td>⋯</td><td>5.2325</td><td>14.00590</td><td>-1.0000</td><td>-1.0000</td><td>-841.880</td><td>  -1.000</td><td>0.43</td><td>1.288</td><td>3.022</td><td>NA</td></tr>\n",
              "\t<tr><th scope=row>8</th><td>10031R</td><td>2008</td><td>2/15/2008</td><td>60.9</td><td>Male  </td><td>White                    </td><td>184.8</td><td>83.6</td><td>124</td><td> 69</td><td>⋯</td><td>8.8889</td><td>27.52070</td><td> 4.4364</td><td>44.8584</td><td>-878.354</td><td>-772.429</td><td>0.51</td><td>2.408</td><td>4.725</td><td>NA</td></tr>\n",
              "\t<tr><th scope=row>9</th><td>10032T</td><td>2008</td><td>3/15/2008</td><td>60.9</td><td>Female</td><td>White                    </td><td>162.5</td><td>89.4</td><td>156</td><td> 88</td><td>⋯</td><td>5.3977</td><td> 7.72520</td><td> 2.9650</td><td>31.1250</td><td>-858.979</td><td>-745.539</td><td>0.59</td><td>1.476</td><td>2.506</td><td>NA</td></tr>\n",
              "\t<tr><th scope=row>12</th><td>10052Z</td><td>2008</td><td>3/15/2008</td><td>47.5</td><td>Male  </td><td>White                    </td><td>178.0</td><td>86.6</td><td>125</td><td> 84</td><td>⋯</td><td>8.2246</td><td> 2.22613</td><td> 5.0391</td><td>33.8255</td><td>-854.198</td><td>-778.834</td><td>0.45</td><td>1.718</td><td>3.796</td><td>NA</td></tr>\n",
              "\t<tr><th scope=row>13</th><td>10055F</td><td>2008</td><td>3/15/2008</td><td>69.0</td><td>Male  </td><td>Black or African American</td><td>178.0</td><td>90.7</td><td>168</td><td>100</td><td>⋯</td><td>4.9060</td><td> 1.94520</td><td> 1.9057</td><td>10.6835</td><td>-823.746</td><td>-638.442</td><td>0.73</td><td>2.917</td><td>3.999</td><td>NA</td></tr>\n",
              "\t<tr><th scope=row>15</th><td>10057J</td><td>2008</td><td>4/15/2008</td><td>56.8</td><td>Male  </td><td>White                    </td><td>170.0</td><td>79.7</td><td>131</td><td> 68</td><td>⋯</td><td>7.0991</td><td> 7.52536</td><td> 4.0210</td><td>27.8384</td><td>-856.567</td><td>-756.317</td><td>0.51</td><td>2.266</td><td>4.425</td><td>NA</td></tr>\n",
              "</tbody>\n",
              "</table>\n"
            ]
          },
          "metadata": {
            "tags": []
          }
        },
        {
          "output_type": "display_data",
          "data": {
            "text/plain": [
              "[1] 1747"
            ],
            "text/latex": "1747",
            "text/markdown": "1747",
            "text/html": [
              "1747"
            ]
          },
          "metadata": {
            "tags": []
          }
        }
      ]
    },
    {
      "cell_type": "markdown",
      "metadata": {
        "id": "8O8fpQCKoDEL"
      },
      "source": [
        "0.2 After removing NA dat1 contains 4000 rows."
      ]
    },
    {
      "cell_type": "markdown",
      "metadata": {
        "id": "xjNfVx8loQl7"
      },
      "source": [
        "0.3  test has 1747 rows."
      ]
    },
    {
      "cell_type": "markdown",
      "metadata": {
        "id": "2WSzklevN-bB"
      },
      "source": [
        "<br>\n",
        "\n",
        "---\n",
        "\n",
        "<br>\n",
        "\n",
        "\n",
        "\n",
        "\n"
      ]
    },
    {
      "cell_type": "markdown",
      "metadata": {
        "id": "Ek6IuNtolHgW"
      },
      "source": [
        "####<font color=red>Task 1</font>  (4 points)\n",
        "\n",
        "1. Randomly partition `dat1` into training (`train`) and validation (`valid`) sets as done in lecture. It is convention to randomly select 70%-80% of your data for training and the remaining data for validation.\n",
        "  * A seed is not necessary in this case.\n",
        "  * None of the rows in the training dataset should be in the validation dataset"
      ]
    },
    {
      "cell_type": "code",
      "metadata": {
        "colab": {
          "base_uri": "https://localhost:8080/",
          "height": 52
        },
        "id": "YxOTSqyvr74t",
        "outputId": "7e314efc-8ca2-4f88-9956-388781f0c897"
      },
      "source": [
        "#1.1\n",
        "samp <- sample(1:nrow(dat1), size = nrow(dat1)*0.7 )\n",
        "train <- dat1[samp,  ]\n",
        "nrow(train)\n",
        "\n",
        "\n",
        "valid <- dat1[-samp,]\n",
        "nrow(valid)"
      ],
      "execution_count": null,
      "outputs": [
        {
          "output_type": "display_data",
          "data": {
            "text/plain": [
              "[1] 2800"
            ],
            "text/latex": "2800",
            "text/markdown": "2800",
            "text/html": [
              "2800"
            ]
          },
          "metadata": {
            "tags": []
          }
        },
        {
          "output_type": "display_data",
          "data": {
            "text/plain": [
              "[1] 1200"
            ],
            "text/latex": "1200",
            "text/markdown": "1200",
            "text/html": [
              "1200"
            ]
          },
          "metadata": {
            "tags": []
          }
        }
      ]
    },
    {
      "cell_type": "markdown",
      "metadata": {
        "id": "Y9G8IhaEFCFh"
      },
      "source": [
        "<br>\n",
        "\n",
        "---\n",
        "\n",
        "<br>\n",
        "\n",
        "\n",
        "\n",
        "\n"
      ]
    },
    {
      "cell_type": "markdown",
      "metadata": {
        "id": "g4lgEMDXGJ-s"
      },
      "source": [
        "####<font color=red>Task 2</font>  (8 points)\n",
        "\n",
        "1. Fit a random forest using the `train` dataset with `FEV1_phase2` as the dependent variable (y-variable).\n",
        "  * Try many different variable combinations\n",
        "  * Try altering the hyperparameters of the random forest (e.g., `ntree`, `mtry`, `nodesize`, `maxnodes`)\n",
        "  * Set `importance = TRUE` when fitting the random forest to determine variable importance in a later task\n",
        "  * Note that you must be more systematic with how you determine you hyperparameters due to the larger sample size - this is part of the challenge!\n",
        "2. Determine the best random forest model (i.e. the random forest that produces the smalles MSE on the validation set)\n"
      ]
    },
    {
      "cell_type": "code",
      "metadata": {
        "colab": {
          "base_uri": "https://localhost:8080/"
        },
        "id": "m_Hl0d1Tso-y",
        "outputId": "9db2b65e-9762-4be8-98a1-4bf90d3771b4"
      },
      "source": [
        "#2.1\n",
        "install.packages(\"randomForest\")\n",
        "library(randomForest)\n"
      ],
      "execution_count": null,
      "outputs": [
        {
          "output_type": "stream",
          "text": [
            "Installing package into ‘/usr/local/lib/R/site-library’\n",
            "(as ‘lib’ is unspecified)\n",
            "\n"
          ],
          "name": "stderr"
        }
      ]
    },
    {
      "cell_type": "code",
      "metadata": {
        "id": "maUfEPJsufWF"
      },
      "source": [
        "fit <- randomForest(FEV1_phase2 ~. ,\n",
        "                    data=train,\n",
        "                    importance = TRUE,\n",
        "                    ntree = 500,\n",
        "                    mtry = 4,\n",
        "                    nodesize=2,\n",
        "                    maxnodes=NULL,\n",
        "                  )"
      ],
      "execution_count": null,
      "outputs": []
    },
    {
      "cell_type": "code",
      "metadata": {
        "colab": {
          "base_uri": "https://localhost:8080/",
          "height": 35
        },
        "id": "lIzbMSbRtxyV",
        "outputId": "b6772d21-a8bc-403e-ad05-41747ace78d7"
      },
      "source": [
        "#2.2\n",
        "mse <- function(true, pred) {\n",
        "  return(mean((true - pred)^2))\n",
        "}\n",
        "\n",
        "mse(valid$FEV1_phase2, predict(fit, newdata = valid))"
      ],
      "execution_count": null,
      "outputs": [
        {
          "output_type": "display_data",
          "data": {
            "text/plain": [
              "[1] 0.09197682"
            ],
            "text/latex": "0.091976818524638",
            "text/markdown": "0.091976818524638",
            "text/html": [
              "0.091976818524638"
            ]
          },
          "metadata": {
            "tags": []
          }
        }
      ]
    },
    {
      "cell_type": "markdown",
      "metadata": {
        "id": "mIDO27fUHZaK"
      },
      "source": [
        "<br>\n",
        "\n",
        "---\n",
        "\n",
        "<br>\n",
        "\n",
        "\n",
        "\n",
        "\n"
      ]
    },
    {
      "cell_type": "markdown",
      "metadata": {
        "id": "kn6qTy3_6sOp"
      },
      "source": [
        "####<font color=red>Task 3</font>  (4 points)\n",
        "\n",
        "1. Explore the importance of the variables from your random forest model using the barplot covered in lecture. \n",
        "\n",
        "2. What are the three most important variables of your model? Does this make sense? Speculate as to why these these variables are important for prediction breathing ability (FEV1_phase2) in complete sentences. Do your best!\n",
        "\n",
        "\n"
      ]
    },
    {
      "cell_type": "code",
      "metadata": {
        "colab": {
          "base_uri": "https://localhost:8080/",
          "height": 497
        },
        "id": "MeG5jApNvpwz",
        "outputId": "abd49d16-1ca7-4b5f-f045-757d4e739ba9"
      },
      "source": [
        "#3.1\n",
        "options(repr.plot.width = 12, repr.plot.height = 8)\n",
        "\n",
        "importance <- fit$importance[, 1]\n",
        "importance <- sort(importance, decreasing = TRUE) / max(importance)\n",
        "barplot(importance)"
      ],
      "execution_count": null,
      "outputs": [
        {
          "output_type": "display_data",
          "data": {
            "image/png": "[encoded data removed]",
            "text/plain": [
              "plot without title"
            ]
          },
          "metadata": {
            "tags": [],
            "image/png": {
              "width": 720,
              "height": 480
            }
          }
        }
      ]
    },
    {
      "cell_type": "markdown",
      "metadata": {
        "id": "5dnU7dwbmLXr"
      },
      "source": [
        "3.2 FEV1,FVC and FEvi_FVC_ratio are the most important variables. Since those are correlated with each other by ratio. "
      ]
    },
    {
      "cell_type": "markdown",
      "metadata": {
        "id": "iqtQXMDfcX4g"
      },
      "source": [
        "<br>\n",
        "\n",
        "---\n",
        "\n",
        "<br>\n",
        "\n",
        "\n",
        "\n",
        "\n"
      ]
    },
    {
      "cell_type": "markdown",
      "metadata": {
        "id": "n8T6qZRtcX4h"
      },
      "source": [
        "####<font color=red>Task 4</font>  (3 points)\n",
        "\n",
        "1. Using your final model, predict `FEV1_phase2` on your `train` dataset. Show the MSE.\n",
        "2. Using your final model, predict `FEV1_phase2` on your `valid` dataset. Show the MSE.\n",
        "3. Is your model overfitting or underfitting?\n",
        "\n",
        "\n"
      ]
    },
    {
      "cell_type": "code",
      "metadata": {
        "colab": {
          "base_uri": "https://localhost:8080/",
          "height": 35
        },
        "id": "avivpMSIySEZ",
        "outputId": "3849aeb3-8ae6-4c88-dbe7-3f4b3e394a4c"
      },
      "source": [
        "#4.1\n",
        "FEV1_phase2_predictions <- predict(fit, train)\n",
        "mse(train$FEV1_phase2, predict(fit, newdata = train))"
      ],
      "execution_count": null,
      "outputs": [
        {
          "output_type": "display_data",
          "data": {
            "text/plain": [
              "[1] 0.0143653"
            ],
            "text/latex": "0.0143652957780061",
            "text/markdown": "0.0143652957780061",
            "text/html": [
              "0.0143652957780061"
            ]
          },
          "metadata": {
            "tags": []
          }
        }
      ]
    },
    {
      "cell_type": "code",
      "metadata": {
        "colab": {
          "base_uri": "https://localhost:8080/",
          "height": 35
        },
        "id": "l6VO1CEVy2jt",
        "outputId": "bfeb3d24-fc7f-4196-dfc6-747fbfdd36bb"
      },
      "source": [
        "#4.2\n",
        "FEV1_phase2_predictions <- predict(fit, valid)\n",
        "mse(valid$FEV1_phase2, predict(fit, newdata = valid))"
      ],
      "execution_count": null,
      "outputs": [
        {
          "output_type": "display_data",
          "data": {
            "text/plain": [
              "[1] 0.09197682"
            ],
            "text/latex": "0.091976818524638",
            "text/markdown": "0.091976818524638",
            "text/html": [
              "0.091976818524638"
            ]
          },
          "metadata": {
            "tags": []
          }
        }
      ]
    },
    {
      "cell_type": "markdown",
      "metadata": {
        "id": "LZRhz-dol8eD"
      },
      "source": [
        "4.3 Overfitting."
      ]
    },
    {
      "cell_type": "markdown",
      "metadata": {
        "id": "AewrTDcEZu7k"
      },
      "source": [
        "<br>\n",
        "\n",
        "---\n",
        "\n",
        "<br>\n",
        "\n",
        "\n",
        "\n",
        "\n"
      ]
    },
    {
      "cell_type": "markdown",
      "metadata": {
        "id": "is2BePI3Zu7m"
      },
      "source": [
        "####<font color=red>Task 5</font>  (7 points)\n",
        "\n",
        "1. Using your final model, predict `FEV1_phase2` on your `test` dataset and store as `FEV1_phase2_predictions`.\n",
        "\n",
        "2. Create a dataframe with two columns: the `sid` column from `test` and the `FEV1_phase2_predictions` from Task 2.2.\n",
        "\n",
        "\n",
        "```\n",
        "preds <- data.frame(sid = test$sid, FEV1_phase2_predictions)\n",
        "```\n",
        "\n",
        "3. Write the csv file to disk for submission to Canvas.\n",
        "\n",
        "\n",
        "```\n",
        "write.csv(preds, 'copd_predictions.csv')\n",
        "```\n",
        "\n",
        "The `write.csv` function writes the predictions to a csv file in Google Drive. The file is located under the folder icon on the left side of your screen.\n",
        "\n",
        "4. Open the folder icon, then right click on the file and download the predictions to your computer for submission to Canvas.\n",
        "\n",
        "\n",
        "\n"
      ]
    },
    {
      "cell_type": "code",
      "metadata": {
        "id": "mgb14arj1BY2",
        "colab": {
          "base_uri": "https://localhost:8080/",
          "height": 132
        },
        "outputId": "9098af29-9f69-444c-ea35-ae9d0b93e216"
      },
      "source": [
        "#5.1\n",
        "FEV1_phase2_predictions <- predict(fit, newdata = test)\n",
        "#5.2\n",
        "preds <- data.frame(sid = test$sid, FEV1_phase2_predictions)\n",
        "#5.3\n",
        "write.csv(preds, 'copd_predictions.csv')"
      ],
      "execution_count": null,
      "outputs": [
        {
          "output_type": "error",
          "ename": "ERROR",
          "evalue": "ignored",
          "traceback": [
            "Error in predict(fit, newdata = test): object 'fit' not found\nTraceback:\n",
            "1. predict(fit, newdata = test)"
          ]
        }
      ]
    }
  ]
}