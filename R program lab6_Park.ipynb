{
  "nbformat": 4,
  "nbformat_minor": 0,
  "metadata": {
    "colab": {
      "name": "Lab6_Park.ipynb",
      "provenance": [],
      "collapsed_sections": [],
      "include_colab_link": true
    },
    "kernelspec": {
      "name": "ir",
      "display_name": "R"
    }
  },
  "cells": [
    {
      "cell_type": "markdown",
      "metadata": {
        "id": "view-in-github",
        "colab_type": "text"
      },
      "source": [
        "<a href=\"https://colab.research.google.com/github/Eunjane/J-sMathematical.github.io-/blob/main/R%20program%20lab6_Park.ipynb\" target=\"_parent\"><img src=\"https://colab.research.google.com/assets/colab-badge.svg\" alt=\"Open In Colab\"/></a>"
      ]
    },
    {
      "cell_type": "markdown",
      "metadata": {
        "id": "gtETsh5j8vHw"
      },
      "source": [
        "# **Lab 6:Sampling Distributions and Confidence Intervals (20 points)**\n",
        "\n",
        "#### **WRITE YOUR NAME HERE**\n"
      ]
    },
    {
      "cell_type": "markdown",
      "metadata": {
        "id": "en9tcPcGuFyc"
      },
      "source": [
        "---\n",
        "**Instructions**: Complete the lab below.\n",
        "- <font color=red>Tasks</font> indicated in red must be completed to receive credit\n",
        "- Include all code for your work\n",
        "- Include markdown cells with written answers explaining your work when prompted\n",
        "- **NOTE: Your completed lab must be submitted to Canvas as a .ipynb file by the end of the lab session**\n",
        "---"
      ]
    },
    {
      "cell_type": "markdown",
      "metadata": {
        "id": "ZXUOzh4drf3V"
      },
      "source": [
        "\n",
        "\n",
        "\n",
        "<br>\n",
        "\n",
        "\n"
      ]
    },
    {
      "cell_type": "markdown",
      "metadata": {
        "id": "MfKT4gy91QKV"
      },
      "source": [
        "####<font color=red>Organized</font> (1 points)\n",
        "* Answers should be organized in the following format for organization and readability\n",
        "\n",
        "<br>\n",
        "\n",
        "```\n",
        "# 1. \n",
        "This will be the code block to answer the first part of a task\n",
        "```\n",
        "\n",
        "1. This will be the text answer/explanation (if prompted) for the first task\n",
        "\n",
        "```\n",
        "# 2. \n",
        "This will be the code block to answer the second part of a task in a separate code cell\n",
        "```\n",
        "\n",
        "2. This will be the text answer/explanation (if prompted) for the second task\n",
        "\n",
        "<br>\n",
        "\n",
        "Continue this format for the remaining subtasks\n"
      ]
    },
    {
      "cell_type": "markdown",
      "metadata": {
        "id": "YfKhJv3Q1PBh"
      },
      "source": [
        "<br>\n",
        "\n",
        "---\n",
        "\n",
        "<br>\n",
        "\n",
        "\n",
        "\n",
        "\n"
      ]
    },
    {
      "cell_type": "markdown",
      "metadata": {
        "id": "Ek6IuNtolHgW"
      },
      "source": [
        "####<font color=red>Task 1</font>  (4 points)\n",
        "\n",
        "1. Load the COPD dataset available [here](https://raw.githubusercontent.com/khasenst/datasets_teaching/main/copd_data_project.csv) as dataframe called `copd`\n",
        "\n",
        "2. Remove rows where `total_lung_capacity` is equal to -1.\n",
        "\n",
        "3. Remove rows where `emphysema` is equal to `\"unknown\"`\n",
        "\n",
        "4. How many rows does the `copd` dataframe have after removing the rows from Task 1.2 and Task 1.3? <br> [Hint: should between 4300 and 4400 rows]"
      ]
    },
    {
      "cell_type": "code",
      "metadata": {
        "colab": {
          "base_uri": "https://localhost:8080/",
          "height": 301
        },
        "id": "-3sb_sGxkjqv",
        "outputId": "675c62a2-3ead-40e8-88c4-ab8fe5491d27"
      },
      "source": [
        "#1.\n",
        "copd <- read.csv(\"https://raw.githubusercontent.com/khasenst/datasets_teaching/main/copd_data_project.csv\")\n",
        "head(copd)"
      ],
      "execution_count": null,
      "outputs": [
        {
          "output_type": "display_data",
          "data": {
            "text/plain": [
              "  sid    visit_year visit_date visit_age gender race  height_cm weight_kg sysBP\n",
              "1 10005Q 2008       1/15/2008  54.5      Female White 159.9      73.0     130  \n",
              "2 10006S 2008       1/15/2008  62.3      Female White 162.6      86.0     170  \n",
              "3 10010J 2008       1/15/2008  65.9      Female White 162.1      62.8      96  \n",
              "4 10015T 2008       2/15/2008  59.6      Male   White 182.9     110.0     142  \n",
              "5 10017X 2008       6/15/2008  67.5      Male   White 179.1      83.0     106  \n",
              "6 10022Q 2008       2/15/2008  69.8      Female White 158.8      78.0     122  \n",
              "  diasBP ⋯ total_lung_capacity pct_emphysema functional_residual_capacity\n",
              "1 80     ⋯ 5.6636               0.926851      2.4766                     \n",
              "2 80     ⋯ 5.2325              14.005900     -1.0000                     \n",
              "3 63     ⋯ 5.1960               1.683760      3.8993                     \n",
              "4 88     ⋯ 6.3971               9.330450     -1.0000                     \n",
              "5 72     ⋯ 7.8935              36.262400      4.1043                     \n",
              "6 78     ⋯ 5.1016              30.484400     -1.0000                     \n",
              "  pct_gastrapping insp_meanatt exp_meanatt FEV1_FVC_ratio FEV1  FVC  \n",
              "1  6.80077        -830.343     -650.526    0.77           2.921 3.805\n",
              "2 -1.00000        -841.880       -1.000    0.43           1.288 3.022\n",
              "3 41.34930        -833.429     -789.595    0.53           1.008 1.909\n",
              "4 -1.00000        -841.315       -1.000    0.51           1.906 3.732\n",
              "5 46.17690        -887.947     -792.397    0.57           2.748 4.827\n",
              "6 -1.00000        -865.608       -1.000    0.53           1.076 2.047\n",
              "  FEV1_phase2\n",
              "1 2.622      \n",
              "2    NA      \n",
              "3 1.087      \n",
              "4 2.002      \n",
              "5 2.178      \n",
              "6 0.924      "
            ],
            "text/latex": "A data.frame: 6 × 35\n\\begin{tabular}{r|lllllllllllllllllllll}\n  & sid & visit\\_year & visit\\_date & visit\\_age & gender & race & height\\_cm & weight\\_kg & sysBP & diasBP & ⋯ & total\\_lung\\_capacity & pct\\_emphysema & functional\\_residual\\_capacity & pct\\_gastrapping & insp\\_meanatt & exp\\_meanatt & FEV1\\_FVC\\_ratio & FEV1 & FVC & FEV1\\_phase2\\\\\n  & <chr> & <int> & <chr> & <dbl> & <chr> & <chr> & <dbl> & <dbl> & <int> & <int> & ⋯ & <dbl> & <dbl> & <dbl> & <dbl> & <dbl> & <dbl> & <dbl> & <dbl> & <dbl> & <dbl>\\\\\n\\hline\n\t1 & 10005Q & 2008 & 1/15/2008 & 54.5 & Female & White & 159.9 &  73.0 & 130 & 80 & ⋯ & 5.6636 &  0.926851 &  2.4766 &  6.80077 & -830.343 & -650.526 & 0.77 & 2.921 & 3.805 & 2.622\\\\\n\t2 & 10006S & 2008 & 1/15/2008 & 62.3 & Female & White & 162.6 &  86.0 & 170 & 80 & ⋯ & 5.2325 & 14.005900 & -1.0000 & -1.00000 & -841.880 &   -1.000 & 0.43 & 1.288 & 3.022 &    NA\\\\\n\t3 & 10010J & 2008 & 1/15/2008 & 65.9 & Female & White & 162.1 &  62.8 &  96 & 63 & ⋯ & 5.1960 &  1.683760 &  3.8993 & 41.34930 & -833.429 & -789.595 & 0.53 & 1.008 & 1.909 & 1.087\\\\\n\t4 & 10015T & 2008 & 2/15/2008 & 59.6 & Male   & White & 182.9 & 110.0 & 142 & 88 & ⋯ & 6.3971 &  9.330450 & -1.0000 & -1.00000 & -841.315 &   -1.000 & 0.51 & 1.906 & 3.732 & 2.002\\\\\n\t5 & 10017X & 2008 & 6/15/2008 & 67.5 & Male   & White & 179.1 &  83.0 & 106 & 72 & ⋯ & 7.8935 & 36.262400 &  4.1043 & 46.17690 & -887.947 & -792.397 & 0.57 & 2.748 & 4.827 & 2.178\\\\\n\t6 & 10022Q & 2008 & 2/15/2008 & 69.8 & Female & White & 158.8 &  78.0 & 122 & 78 & ⋯ & 5.1016 & 30.484400 & -1.0000 & -1.00000 & -865.608 &   -1.000 & 0.53 & 1.076 & 2.047 & 0.924\\\\\n\\end{tabular}\n",
            "text/markdown": "\nA data.frame: 6 × 35\n\n| <!--/--> | sid &lt;chr&gt; | visit_year &lt;int&gt; | visit_date &lt;chr&gt; | visit_age &lt;dbl&gt; | gender &lt;chr&gt; | race &lt;chr&gt; | height_cm &lt;dbl&gt; | weight_kg &lt;dbl&gt; | sysBP &lt;int&gt; | diasBP &lt;int&gt; | ⋯ ⋯ | total_lung_capacity &lt;dbl&gt; | pct_emphysema &lt;dbl&gt; | functional_residual_capacity &lt;dbl&gt; | pct_gastrapping &lt;dbl&gt; | insp_meanatt &lt;dbl&gt; | exp_meanatt &lt;dbl&gt; | FEV1_FVC_ratio &lt;dbl&gt; | FEV1 &lt;dbl&gt; | FVC &lt;dbl&gt; | FEV1_phase2 &lt;dbl&gt; |\n|---|---|---|---|---|---|---|---|---|---|---|---|---|---|---|---|---|---|---|---|---|---|\n| 1 | 10005Q | 2008 | 1/15/2008 | 54.5 | Female | White | 159.9 |  73.0 | 130 | 80 | ⋯ | 5.6636 |  0.926851 |  2.4766 |  6.80077 | -830.343 | -650.526 | 0.77 | 2.921 | 3.805 | 2.622 |\n| 2 | 10006S | 2008 | 1/15/2008 | 62.3 | Female | White | 162.6 |  86.0 | 170 | 80 | ⋯ | 5.2325 | 14.005900 | -1.0000 | -1.00000 | -841.880 |   -1.000 | 0.43 | 1.288 | 3.022 |    NA |\n| 3 | 10010J | 2008 | 1/15/2008 | 65.9 | Female | White | 162.1 |  62.8 |  96 | 63 | ⋯ | 5.1960 |  1.683760 |  3.8993 | 41.34930 | -833.429 | -789.595 | 0.53 | 1.008 | 1.909 | 1.087 |\n| 4 | 10015T | 2008 | 2/15/2008 | 59.6 | Male   | White | 182.9 | 110.0 | 142 | 88 | ⋯ | 6.3971 |  9.330450 | -1.0000 | -1.00000 | -841.315 |   -1.000 | 0.51 | 1.906 | 3.732 | 2.002 |\n| 5 | 10017X | 2008 | 6/15/2008 | 67.5 | Male   | White | 179.1 |  83.0 | 106 | 72 | ⋯ | 7.8935 | 36.262400 |  4.1043 | 46.17690 | -887.947 | -792.397 | 0.57 | 2.748 | 4.827 | 2.178 |\n| 6 | 10022Q | 2008 | 2/15/2008 | 69.8 | Female | White | 158.8 |  78.0 | 122 | 78 | ⋯ | 5.1016 | 30.484400 | -1.0000 | -1.00000 | -865.608 |   -1.000 | 0.53 | 1.076 | 2.047 | 0.924 |\n\n",
            "text/html": [
              "<table class=\"dataframe\">\n",
              "<caption>A data.frame: 6 × 35</caption>\n",
              "<thead>\n",
              "\t<tr><th></th><th scope=col>sid</th><th scope=col>visit_year</th><th scope=col>visit_date</th><th scope=col>visit_age</th><th scope=col>gender</th><th scope=col>race</th><th scope=col>height_cm</th><th scope=col>weight_kg</th><th scope=col>sysBP</th><th scope=col>diasBP</th><th scope=col>⋯</th><th scope=col>total_lung_capacity</th><th scope=col>pct_emphysema</th><th scope=col>functional_residual_capacity</th><th scope=col>pct_gastrapping</th><th scope=col>insp_meanatt</th><th scope=col>exp_meanatt</th><th scope=col>FEV1_FVC_ratio</th><th scope=col>FEV1</th><th scope=col>FVC</th><th scope=col>FEV1_phase2</th></tr>\n",
              "\t<tr><th></th><th scope=col>&lt;chr&gt;</th><th scope=col>&lt;int&gt;</th><th scope=col>&lt;chr&gt;</th><th scope=col>&lt;dbl&gt;</th><th scope=col>&lt;chr&gt;</th><th scope=col>&lt;chr&gt;</th><th scope=col>&lt;dbl&gt;</th><th scope=col>&lt;dbl&gt;</th><th scope=col>&lt;int&gt;</th><th scope=col>&lt;int&gt;</th><th scope=col>⋯</th><th scope=col>&lt;dbl&gt;</th><th scope=col>&lt;dbl&gt;</th><th scope=col>&lt;dbl&gt;</th><th scope=col>&lt;dbl&gt;</th><th scope=col>&lt;dbl&gt;</th><th scope=col>&lt;dbl&gt;</th><th scope=col>&lt;dbl&gt;</th><th scope=col>&lt;dbl&gt;</th><th scope=col>&lt;dbl&gt;</th><th scope=col>&lt;dbl&gt;</th></tr>\n",
              "</thead>\n",
              "<tbody>\n",
              "\t<tr><th scope=row>1</th><td>10005Q</td><td>2008</td><td>1/15/2008</td><td>54.5</td><td>Female</td><td>White</td><td>159.9</td><td> 73.0</td><td>130</td><td>80</td><td>⋯</td><td>5.6636</td><td> 0.926851</td><td> 2.4766</td><td> 6.80077</td><td>-830.343</td><td>-650.526</td><td>0.77</td><td>2.921</td><td>3.805</td><td>2.622</td></tr>\n",
              "\t<tr><th scope=row>2</th><td>10006S</td><td>2008</td><td>1/15/2008</td><td>62.3</td><td>Female</td><td>White</td><td>162.6</td><td> 86.0</td><td>170</td><td>80</td><td>⋯</td><td>5.2325</td><td>14.005900</td><td>-1.0000</td><td>-1.00000</td><td>-841.880</td><td>  -1.000</td><td>0.43</td><td>1.288</td><td>3.022</td><td>   NA</td></tr>\n",
              "\t<tr><th scope=row>3</th><td>10010J</td><td>2008</td><td>1/15/2008</td><td>65.9</td><td>Female</td><td>White</td><td>162.1</td><td> 62.8</td><td> 96</td><td>63</td><td>⋯</td><td>5.1960</td><td> 1.683760</td><td> 3.8993</td><td>41.34930</td><td>-833.429</td><td>-789.595</td><td>0.53</td><td>1.008</td><td>1.909</td><td>1.087</td></tr>\n",
              "\t<tr><th scope=row>4</th><td>10015T</td><td>2008</td><td>2/15/2008</td><td>59.6</td><td>Male  </td><td>White</td><td>182.9</td><td>110.0</td><td>142</td><td>88</td><td>⋯</td><td>6.3971</td><td> 9.330450</td><td>-1.0000</td><td>-1.00000</td><td>-841.315</td><td>  -1.000</td><td>0.51</td><td>1.906</td><td>3.732</td><td>2.002</td></tr>\n",
              "\t<tr><th scope=row>5</th><td>10017X</td><td>2008</td><td>6/15/2008</td><td>67.5</td><td>Male  </td><td>White</td><td>179.1</td><td> 83.0</td><td>106</td><td>72</td><td>⋯</td><td>7.8935</td><td>36.262400</td><td> 4.1043</td><td>46.17690</td><td>-887.947</td><td>-792.397</td><td>0.57</td><td>2.748</td><td>4.827</td><td>2.178</td></tr>\n",
              "\t<tr><th scope=row>6</th><td>10022Q</td><td>2008</td><td>2/15/2008</td><td>69.8</td><td>Female</td><td>White</td><td>158.8</td><td> 78.0</td><td>122</td><td>78</td><td>⋯</td><td>5.1016</td><td>30.484400</td><td>-1.0000</td><td>-1.00000</td><td>-865.608</td><td>  -1.000</td><td>0.53</td><td>1.076</td><td>2.047</td><td>0.924</td></tr>\n",
              "</tbody>\n",
              "</table>\n"
            ]
          },
          "metadata": {
            "tags": []
          }
        }
      ]
    },
    {
      "cell_type": "code",
      "metadata": {
        "id": "S9s_654NlAc4",
        "colab": {
          "base_uri": "https://localhost:8080/",
          "height": 35
        },
        "outputId": "19a19254-a50b-4b0d-e221-ab13b5f1c3ac"
      },
      "source": [
        "#2.\n",
        "copd <- copd[-which(copd$total_lung_capacity == -1),]\n",
        "nrow(copd)"
      ],
      "execution_count": null,
      "outputs": [
        {
          "output_type": "display_data",
          "data": {
            "text/plain": [
              "[1] 4702"
            ],
            "text/latex": "4702",
            "text/markdown": "4702",
            "text/html": [
              "4702"
            ]
          },
          "metadata": {
            "tags": []
          }
        }
      ]
    },
    {
      "cell_type": "code",
      "metadata": {
        "colab": {
          "base_uri": "https://localhost:8080/",
          "height": 35
        },
        "id": "AMsgPJtJpdpR",
        "outputId": "96dc981d-5e10-4bfc-b292-1f6da7f05ca0"
      },
      "source": [
        "#3.\n",
        "copd<- copd[-which(copd$emphysema == \"unknown\"),]\n",
        "nrow(copd)"
      ],
      "execution_count": null,
      "outputs": [
        {
          "output_type": "display_data",
          "data": {
            "text/plain": [
              "[1] 4367"
            ],
            "text/latex": "4367",
            "text/markdown": "4367",
            "text/html": [
              "4367"
            ]
          },
          "metadata": {
            "tags": []
          }
        }
      ]
    },
    {
      "cell_type": "code",
      "metadata": {
        "colab": {
          "base_uri": "https://localhost:8080/",
          "height": 35
        },
        "id": "9MeAuygyqO-o",
        "outputId": "79d4311c-b9e0-42fb-d20f-d2991f022eac"
      },
      "source": [
        "#4\n",
        "nrow(copd)"
      ],
      "execution_count": null,
      "outputs": [
        {
          "output_type": "display_data",
          "data": {
            "text/plain": [
              "[1] 4367"
            ],
            "text/latex": "4367",
            "text/markdown": "4367",
            "text/html": [
              "4367"
            ]
          },
          "metadata": {
            "tags": []
          }
        }
      ]
    },
    {
      "cell_type": "markdown",
      "metadata": {
        "id": "Y9G8IhaEFCFh"
      },
      "source": [
        "<br>\n",
        "\n",
        "---\n",
        "\n",
        "<br>\n",
        "\n",
        "\n",
        "\n",
        "\n"
      ]
    },
    {
      "cell_type": "markdown",
      "metadata": {
        "id": "HGH38JdaFCF5"
      },
      "source": [
        "####<font color=red>Task 2</font>  (4 points)\n",
        "\n",
        "`total_lung_capacity` is the number of liters of air in the lungs. <br>\n",
        "`emphysema` is the emphysema diagnosis by a physician.\n",
        "\n",
        "<br>\n",
        "\n",
        "1. (2 points) Plot a histogram of `total_lung_capacity`. Describe what you observe in complete sentences (e.g., Range, skewness or symmetry, mean, normally distributed, etc.)\n",
        "\n",
        "<br>\n",
        "\n",
        "2. (2 points) Plot a boxplot of `total_lung_capacity` vs `emphysema`. What do you observe in the context of the lung capacity and emphysema?\n",
        "```\n",
        "boxplot(copd$total_lung_capacity~copd$emphysema)\n",
        "```"
      ]
    },
    {
      "cell_type": "code",
      "metadata": {
        "colab": {
          "base_uri": "https://localhost:8080/",
          "height": 437
        },
        "id": "5vmbCk53rT2I",
        "outputId": "31ac656b-6610-4c8e-affe-ce3497bf68b5"
      },
      "source": [
        "#1.\n",
        "hist(copd$total_lung_capacity)"
      ],
      "execution_count": null,
      "outputs": [
        {
          "output_type": "display_data",
          "data": {
            "image/png": "[encoded data removed]",
            "text/plain": [
              "Plot with title “Histogram of copd$total_lung_capacity”"
            ]
          },
          "metadata": {
            "tags": [],
            "image/png": {
              "width": 420,
              "height": 420
            }
          }
        }
      ]
    },
    {
      "cell_type": "markdown",
      "metadata": {
        "id": "WOOfcX7cuTOK"
      },
      "source": [
        "1. Range: about 8, skewness is closed to right skewed, Since the total lung capacity has high capacity outliers. Mean is abot 5. "
      ]
    },
    {
      "cell_type": "code",
      "metadata": {
        "colab": {
          "base_uri": "https://localhost:8080/",
          "height": 437
        },
        "id": "MkPoJ30csT0g",
        "outputId": "f8edfca5-3bb2-4f79-f438-d18042b1f9c2"
      },
      "source": [
        "#2\n",
        "boxplot(copd$total_lung_capacity~copd$emphysema)"
      ],
      "execution_count": null,
      "outputs": [
        {
          "output_type": "display_data",
          "data": {
            "image/png": "[encoded data removed]",
            "text/plain": [
              "plot without title"
            ]
          },
          "metadata": {
            "tags": [],
            "image/png": {
              "width": 420,
              "height": 420
            }
          }
        }
      ]
    },
    {
      "cell_type": "markdown",
      "metadata": {
        "id": "8yVFxkbwvu-2"
      },
      "source": [
        "2. The people who got the emphysema diagnosis appear to have more lung capacity. The lung capacity for people who has no emphysema have high capacity outliers."
      ]
    },
    {
      "cell_type": "markdown",
      "metadata": {
        "id": "oqfkF7K0GscM"
      },
      "source": [
        "<br>\n",
        "\n",
        "---\n",
        "\n",
        "<br>\n",
        "\n",
        "\n",
        "\n",
        "\n"
      ]
    },
    {
      "cell_type": "markdown",
      "metadata": {
        "id": "wrEtBdZkGsci"
      },
      "source": [
        "####<font color=red>Task 3</font>  (4 points)\n",
        "\n",
        "1. Create a 95% confidence interval `total_lung_capacity` using the following command \n",
        "```\n",
        "t.test(copd$total_lung_capacity)$conf.int\n",
        "```\n",
        "What is the meaning of this confidence interval? Explain in the context of 95% probability.\n",
        "\n",
        "<br>\n",
        "\n",
        "2. Is the average lung capacity of the population less than 6 liters? Use the confidence interval to answer. Explain your reasoning in complete sentences.\n",
        "\n",
        "<br>\n",
        "\n",
        "3. Create a 95% confidence interval to compare the average `total_lung_capacity` between patients with and without `emphysema`using the following command \n",
        "```\n",
        "t.test( copd$total_lung_capacity ~ copd$emphysema )$conf.int\n",
        "```\n",
        "What is the meaning of this confidence interval? Explain in the context of 95% probability.\n",
        "\n",
        "<br>\n",
        "\n",
        "4. Based on the 95% confidence interval from Task 3.3, is the lung capacity for patients with emphysema significantly less than or greater than the lung capacity for patients without emphysema? Or are they not significantly different? <br> Explain how you came to your conclusion in complete sentences."
      ]
    },
    {
      "cell_type": "code",
      "metadata": {
        "colab": {
          "base_uri": "https://localhost:8080/",
          "height": 35
        },
        "id": "4zTKsMnEtf5J",
        "outputId": "28af5ed4-616c-4520-f48a-df9a62c26122"
      },
      "source": [
        "#1.\n",
        "t.test(copd$total_lung_capacity)$conf.int"
      ],
      "execution_count": null,
      "outputs": [
        {
          "output_type": "display_data",
          "data": {
            "text/plain": [
              "[1] 5.482309 5.565455\n",
              "attr(,\"conf.level\")\n",
              "[1] 0.95"
            ],
            "text/latex": "\\begin{enumerate*}\n\\item 5.48230853903962\n\\item 5.56545495992992\n\\end{enumerate*}\n",
            "text/markdown": "1. 5.48230853903962\n2. 5.56545495992992\n\n\n",
            "text/html": [
              "<style>\n",
              ".list-inline {list-style: none; margin:0; padding: 0}\n",
              ".list-inline>li {display: inline-block}\n",
              ".list-inline>li:not(:last-child)::after {content: \"\\00b7\"; padding: 0 .5ex}\n",
              "</style>\n",
              "<ol class=list-inline><li>5.48230853903962</li><li>5.56545495992992</li></ol>\n"
            ]
          },
          "metadata": {
            "tags": []
          }
        }
      ]
    },
    {
      "cell_type": "markdown",
      "metadata": {
        "id": "_1c-0Tx1ts7z"
      },
      "source": [
        "1. The population average lung capacity is between 5.48 and 5.57 with 95% probability. "
      ]
    },
    {
      "cell_type": "markdown",
      "metadata": {
        "id": "0_zxgwI-ynyi"
      },
      "source": [
        "2.Yes. Since the confidence interval is between 5.48 and 5.57. So the average lung capacity of the population less than 6 liters."
      ]
    },
    {
      "cell_type": "code",
      "metadata": {
        "colab": {
          "base_uri": "https://localhost:8080/",
          "height": 208
        },
        "id": "mlzo_AruzGJ2",
        "outputId": "1c5db520-1540-430d-91c9-846a878b2e59"
      },
      "source": [
        "#3.\n",
        "t.test(copd$total_lung_capacity ~ copd$emphysema)"
      ],
      "execution_count": null,
      "outputs": [
        {
          "output_type": "display_data",
          "data": {
            "text/plain": [
              "\n",
              "\tWelch Two Sample t-test\n",
              "\n",
              "data:  copd$total_lung_capacity by copd$emphysema\n",
              "t = -10.546, df = 1348.7, p-value < 2.2e-16\n",
              "alternative hypothesis: true difference in means is not equal to 0\n",
              "95 percent confidence interval:\n",
              " -0.6721065 -0.4612752\n",
              "sample estimates:\n",
              " mean in group No mean in group Yes \n",
              "         5.406054          5.972744 \n"
            ]
          },
          "metadata": {
            "tags": []
          }
        }
      ]
    },
    {
      "cell_type": "markdown",
      "metadata": {
        "id": "rNM2KzJzJmwX"
      },
      "source": [
        "3.The range of values that you can be 95% certain contains the true mean of the average total lung capacity between patients with and without emphysema."
      ]
    },
    {
      "cell_type": "markdown",
      "metadata": {
        "id": "zMZFwnplLiSM"
      },
      "source": [
        "4. The lung capacity for patients with emphysema is significantly less than the lung capacity for patients without emphysema. Since at task3.3 shows the confidence gap(interval) between two cases is smaller than 0."
      ]
    },
    {
      "cell_type": "markdown",
      "metadata": {
        "id": "IEalWmt8JIRC"
      },
      "source": [
        "<br>\n",
        "\n",
        "---\n",
        "\n",
        "<br>\n",
        "\n",
        "\n",
        "\n",
        "\n"
      ]
    },
    {
      "cell_type": "markdown",
      "metadata": {
        "id": "ve9K--mmJIRO"
      },
      "source": [
        "####<font color=red>Task 4</font>  (7 points)\n",
        "\n",
        "1. Calculate the average of `total_lung_capacity` and store as `mean_tlc`. What is the average lung capacity? Answer in a complete sentence.\n",
        "\n",
        "<br>\n",
        "\n",
        "2. Use the `sample()` function to randomly sample 100 values from `total_lung_capacity`. Store the sample as `tlc_sample`. Print `tlc_sample`.\n",
        "\n",
        "<br>\n",
        "\n",
        "3. Use `t.test()` to store the confidence interval of `tlc_sample` as the variable `tlc_ci`. Print `tlc_ci`.\n",
        "\n",
        "<br>\n",
        "\n",
        "4. Use the following Boolean expression to determine if the \"true mean\" `mean_tlc` is in the interval.\n",
        "```\n",
        "mean_tlc > tlc_ci[1] & mean_tlc < tlc_ci[2]\n",
        "```\n",
        "Store as `tlc_bool` and print.\n",
        "\n",
        "<br>\n",
        "\n",
        "5. (2 points) Place the lines of code for Tasks 4.1 - 4.4 inside the following loop. Run the loop and print `count`.\n",
        "```\n",
        "# task 4.1 average lung capacity\n",
        "set.seed(10)\n",
        "mean_tlc <- mean(copd$total_lung_capacity)\n",
        "count <- 0\n",
        "for (ii in 1:10000) {\n",
        "\n",
        "  # task 4.2 sample from the \"population\"\n",
        "  tlc_sample <- \n",
        "\n",
        "  # task 4.3 calculate confidence interval\n",
        "  tlc_ci <- \n",
        "\n",
        "  # task 4.4 determine if \"true\" mean is in interval\n",
        "  tlc_bool <- \n",
        "\n",
        "  count <- count + tlc_bool\n",
        "}\n",
        "```\n",
        "The loop above creates 10,000 confidence intervals for `total_lung_capacity` and counts (`count`) the number of times the \"true\" population mean is contained within this interval.\n",
        "\n",
        "<br>\n",
        "\n",
        "6. What percentage of the time is the \"true\" population mean contained with the 10,000 confidence intervals? Answer in a complete sentence.\n",
        "\n",
        "<br>\n",
        "\n",
        "**Another intepretation**: If we were to resample the population over and over again, approximately 95% of the 95% confidence intervals from those samples should contain the true population mean!"
      ]
    },
    {
      "cell_type": "code",
      "metadata": {
        "colab": {
          "base_uri": "https://localhost:8080/",
          "height": 35
        },
        "id": "P-VdejnmMc9C",
        "outputId": "80c57cd6-5cda-4b37-af80-ecfb809584f0"
      },
      "source": [
        "#1.\n",
        "mean_tlc <- mean(copd$total_lung_capacity)\n",
        "mean_tlc"
      ],
      "execution_count": null,
      "outputs": [
        {
          "output_type": "display_data",
          "data": {
            "text/plain": [
              "[1] 5.523882"
            ],
            "text/latex": "5.52388174948477",
            "text/markdown": "5.52388174948477",
            "text/html": [
              "5.52388174948477"
            ]
          },
          "metadata": {
            "tags": []
          }
        }
      ]
    },
    {
      "cell_type": "markdown",
      "metadata": {
        "id": "OuuvJueSM0jo"
      },
      "source": [
        "1. The average lung capacity is 5.52"
      ]
    },
    {
      "cell_type": "code",
      "metadata": {
        "colab": {
          "base_uri": "https://localhost:8080/",
          "height": 104
        },
        "id": "5snd2xEYM5Mh",
        "outputId": "ff08700e-22d3-492a-cb46-6d1d113fa099"
      },
      "source": [
        "#2.\n",
        "tlc_sample <- sample(copd$total_lung_capacity, 100)\n",
        "tlc_sample"
      ],
      "execution_count": null,
      "outputs": [
        {
          "output_type": "display_data",
          "data": {
            "text/plain": [
              "  [1] 5.7883 4.3666 6.0425 5.6893 6.4713 4.5431 7.5324 4.5676 7.9711 5.4958\n",
              " [11] 4.2743 3.1513 5.5871 4.3648 3.9313 4.2786 7.6928 4.2523 4.3189 5.4761\n",
              " [21] 4.9704 3.4489 5.5582 5.0632 5.1756 6.0250 5.5246 6.3331 7.2480 5.9981\n",
              " [31] 8.1599 6.9336 8.5482 5.3872 4.7978 4.5296 6.7975 4.9373 5.8276 5.1588\n",
              " [41] 7.4369 6.8386 4.0186 4.0979 4.7928 2.6479 6.5292 7.4408 3.9523 6.1416\n",
              " [51] 5.8550 3.8696 4.0855 3.0480 7.7376 6.6829 4.5635 4.3989 6.5472 8.3255\n",
              " [61] 4.2118 7.4881 7.6399 7.1185 6.3189 6.2573 6.4202 7.0151 5.8805 7.2636\n",
              " [71] 4.5768 5.6244 6.0908 6.1109 3.4754 5.8621 6.9224 5.7803 4.4008 5.1606\n",
              " [81] 3.6761 4.9160 5.4926 5.5413 5.5428 5.8085 6.6745 5.3473 7.5299 6.8127\n",
              " [91] 7.3782 2.5479 5.8813 4.7695 7.9035 5.5966 5.8136 5.0715 4.6251 7.0090"
            ],
            "text/latex": "\\begin{enumerate*}\n\\item 5.7883\n\\item 4.3666\n\\item 6.0425\n\\item 5.6893\n\\item 6.4713\n\\item 4.5431\n\\item 7.5324\n\\item 4.5676\n\\item 7.9711\n\\item 5.4958\n\\item 4.2743\n\\item 3.1513\n\\item 5.5871\n\\item 4.3648\n\\item 3.9313\n\\item 4.2786\n\\item 7.6928\n\\item 4.2523\n\\item 4.3189\n\\item 5.4761\n\\item 4.9704\n\\item 3.4489\n\\item 5.5582\n\\item 5.0632\n\\item 5.1756\n\\item 6.025\n\\item 5.5246\n\\item 6.3331\n\\item 7.248\n\\item 5.9981\n\\item 8.1599\n\\item 6.9336\n\\item 8.5482\n\\item 5.3872\n\\item 4.7978\n\\item 4.5296\n\\item 6.7975\n\\item 4.9373\n\\item 5.8276\n\\item 5.1588\n\\item 7.4369\n\\item 6.8386\n\\item 4.0186\n\\item 4.0979\n\\item 4.7928\n\\item 2.6479\n\\item 6.5292\n\\item 7.4408\n\\item 3.9523\n\\item 6.1416\n\\item 5.855\n\\item 3.8696\n\\item 4.0855\n\\item 3.048\n\\item 7.7376\n\\item 6.6829\n\\item 4.5635\n\\item 4.3989\n\\item 6.5472\n\\item 8.3255\n\\item 4.2118\n\\item 7.4881\n\\item 7.6399\n\\item 7.1185\n\\item 6.3189\n\\item 6.2573\n\\item 6.4202\n\\item 7.0151\n\\item 5.8805\n\\item 7.2636\n\\item 4.5768\n\\item 5.6244\n\\item 6.0908\n\\item 6.1109\n\\item 3.4754\n\\item 5.8621\n\\item 6.9224\n\\item 5.7803\n\\item 4.4008\n\\item 5.1606\n\\item 3.6761\n\\item 4.916\n\\item 5.4926\n\\item 5.5413\n\\item 5.5428\n\\item 5.8085\n\\item 6.6745\n\\item 5.3473\n\\item 7.5299\n\\item 6.8127\n\\item 7.3782\n\\item 2.5479\n\\item 5.8813\n\\item 4.7695\n\\item 7.9035\n\\item 5.5966\n\\item 5.8136\n\\item 5.0715\n\\item 4.6251\n\\item 7.009\n\\end{enumerate*}\n",
            "text/markdown": "1. 5.7883\n2. 4.3666\n3. 6.0425\n4. 5.6893\n5. 6.4713\n6. 4.5431\n7. 7.5324\n8. 4.5676\n9. 7.9711\n10. 5.4958\n11. 4.2743\n12. 3.1513\n13. 5.5871\n14. 4.3648\n15. 3.9313\n16. 4.2786\n17. 7.6928\n18. 4.2523\n19. 4.3189\n20. 5.4761\n21. 4.9704\n22. 3.4489\n23. 5.5582\n24. 5.0632\n25. 5.1756\n26. 6.025\n27. 5.5246\n28. 6.3331\n29. 7.248\n30. 5.9981\n31. 8.1599\n32. 6.9336\n33. 8.5482\n34. 5.3872\n35. 4.7978\n36. 4.5296\n37. 6.7975\n38. 4.9373\n39. 5.8276\n40. 5.1588\n41. 7.4369\n42. 6.8386\n43. 4.0186\n44. 4.0979\n45. 4.7928\n46. 2.6479\n47. 6.5292\n48. 7.4408\n49. 3.9523\n50. 6.1416\n51. 5.855\n52. 3.8696\n53. 4.0855\n54. 3.048\n55. 7.7376\n56. 6.6829\n57. 4.5635\n58. 4.3989\n59. 6.5472\n60. 8.3255\n61. 4.2118\n62. 7.4881\n63. 7.6399\n64. 7.1185\n65. 6.3189\n66. 6.2573\n67. 6.4202\n68. 7.0151\n69. 5.8805\n70. 7.2636\n71. 4.5768\n72. 5.6244\n73. 6.0908\n74. 6.1109\n75. 3.4754\n76. 5.8621\n77. 6.9224\n78. 5.7803\n79. 4.4008\n80. 5.1606\n81. 3.6761\n82. 4.916\n83. 5.4926\n84. 5.5413\n85. 5.5428\n86. 5.8085\n87. 6.6745\n88. 5.3473\n89. 7.5299\n90. 6.8127\n91. 7.3782\n92. 2.5479\n93. 5.8813\n94. 4.7695\n95. 7.9035\n96. 5.5966\n97. 5.8136\n98. 5.0715\n99. 4.6251\n100. 7.009\n\n\n",
            "text/html": [
              "<style>\n",
              ".list-inline {list-style: none; margin:0; padding: 0}\n",
              ".list-inline>li {display: inline-block}\n",
              ".list-inline>li:not(:last-child)::after {content: \"\\00b7\"; padding: 0 .5ex}\n",
              "</style>\n",
              "<ol class=list-inline><li>5.7883</li><li>4.3666</li><li>6.0425</li><li>5.6893</li><li>6.4713</li><li>4.5431</li><li>7.5324</li><li>4.5676</li><li>7.9711</li><li>5.4958</li><li>4.2743</li><li>3.1513</li><li>5.5871</li><li>4.3648</li><li>3.9313</li><li>4.2786</li><li>7.6928</li><li>4.2523</li><li>4.3189</li><li>5.4761</li><li>4.9704</li><li>3.4489</li><li>5.5582</li><li>5.0632</li><li>5.1756</li><li>6.025</li><li>5.5246</li><li>6.3331</li><li>7.248</li><li>5.9981</li><li>8.1599</li><li>6.9336</li><li>8.5482</li><li>5.3872</li><li>4.7978</li><li>4.5296</li><li>6.7975</li><li>4.9373</li><li>5.8276</li><li>5.1588</li><li>7.4369</li><li>6.8386</li><li>4.0186</li><li>4.0979</li><li>4.7928</li><li>2.6479</li><li>6.5292</li><li>7.4408</li><li>3.9523</li><li>6.1416</li><li>5.855</li><li>3.8696</li><li>4.0855</li><li>3.048</li><li>7.7376</li><li>6.6829</li><li>4.5635</li><li>4.3989</li><li>6.5472</li><li>8.3255</li><li>4.2118</li><li>7.4881</li><li>7.6399</li><li>7.1185</li><li>6.3189</li><li>6.2573</li><li>6.4202</li><li>7.0151</li><li>5.8805</li><li>7.2636</li><li>4.5768</li><li>5.6244</li><li>6.0908</li><li>6.1109</li><li>3.4754</li><li>5.8621</li><li>6.9224</li><li>5.7803</li><li>4.4008</li><li>5.1606</li><li>3.6761</li><li>4.916</li><li>5.4926</li><li>5.5413</li><li>5.5428</li><li>5.8085</li><li>6.6745</li><li>5.3473</li><li>7.5299</li><li>6.8127</li><li>7.3782</li><li>2.5479</li><li>5.8813</li><li>4.7695</li><li>7.9035</li><li>5.5966</li><li>5.8136</li><li>5.0715</li><li>4.6251</li><li>7.009</li></ol>\n"
            ]
          },
          "metadata": {
            "tags": []
          }
        }
      ]
    },
    {
      "cell_type": "code",
      "metadata": {
        "colab": {
          "base_uri": "https://localhost:8080/",
          "height": 35
        },
        "id": "bViXmOg8OE88",
        "outputId": "0856f3fb-a17c-4799-ca23-8005848dd9c2"
      },
      "source": [
        "#3.\n",
        "tlc_ci <- t.test(tlc_sample)$conf.int\n",
        "tlc_ci"
      ],
      "execution_count": null,
      "outputs": [
        {
          "output_type": "display_data",
          "data": {
            "text/plain": [
              "[1] 5.379741 5.915953\n",
              "attr(,\"conf.level\")\n",
              "[1] 0.95"
            ],
            "text/latex": "\\begin{enumerate*}\n\\item 5.37974083074819\n\\item 5.91595316925181\n\\end{enumerate*}\n",
            "text/markdown": "1. 5.37974083074819\n2. 5.91595316925181\n\n\n",
            "text/html": [
              "<style>\n",
              ".list-inline {list-style: none; margin:0; padding: 0}\n",
              ".list-inline>li {display: inline-block}\n",
              ".list-inline>li:not(:last-child)::after {content: \"\\00b7\"; padding: 0 .5ex}\n",
              "</style>\n",
              "<ol class=list-inline><li>5.37974083074819</li><li>5.91595316925181</li></ol>\n"
            ]
          },
          "metadata": {
            "tags": []
          }
        }
      ]
    },
    {
      "cell_type": "code",
      "metadata": {
        "colab": {
          "base_uri": "https://localhost:8080/",
          "height": 35
        },
        "id": "5VjhZnPxQQF4",
        "outputId": "8b0c8059-3f78-49c0-8b41-e2bcb76cc667"
      },
      "source": [
        "#4.\n",
        "tlc_bool <- mean_tlc > tlc_ci[1] & mean_tlc < tlc_ci[2]\n",
        "tlc_bool"
      ],
      "execution_count": null,
      "outputs": [
        {
          "output_type": "display_data",
          "data": {
            "text/plain": [
              "[1] TRUE"
            ],
            "text/latex": "TRUE",
            "text/markdown": "TRUE",
            "text/html": [
              "TRUE"
            ]
          },
          "metadata": {
            "tags": []
          }
        }
      ]
    },
    {
      "cell_type": "code",
      "metadata": {
        "colab": {
          "base_uri": "https://localhost:8080/",
          "height": 35
        },
        "id": "IzkJbPyDQk8o",
        "outputId": "a47ab140-718a-46e7-fee3-07ea9175bfbd"
      },
      "source": [
        "#5.\n",
        "set.seed(10)\n",
        "mean_tlc <- mean(copd$total_lung_capacity)\n",
        "count <- 0\n",
        "\n",
        "for (ii in 1:10000) {\n",
        " \n",
        "# task 4.2 sample \n",
        "tlc_sample <- sample(copd$total_lung_capacity, 100)\n",
        " \n",
        "# task 4.3 calculate confidence interval\n",
        "tlc_ci <- t.test(tlc_sample)$conf.int\n",
        " \n",
        "# task 4.4 determine if \"true\" mean is in interval\n",
        "tlc_bool <- mean_tlc > tlc_ci[1] & mean_tlc < tlc_ci[2]\n",
        " \n",
        "count <- count + tlc_bool\n",
        "}\n",
        "\n",
        "count"
      ],
      "execution_count": null,
      "outputs": [
        {
          "output_type": "display_data",
          "data": {
            "text/plain": [
              "[1] 9545"
            ],
            "text/latex": "9545",
            "text/markdown": "9545",
            "text/html": [
              "9545"
            ]
          },
          "metadata": {
            "tags": []
          }
        }
      ]
    },
    {
      "cell_type": "code",
      "metadata": {
        "colab": {
          "base_uri": "https://localhost:8080/",
          "height": 35
        },
        "id": "j29xs-4ARg68",
        "outputId": "65e7e353-3010-44c9-ed43-01962f0daf59"
      },
      "source": [
        "#6.\n",
        "(count / 10000)*100"
      ],
      "execution_count": null,
      "outputs": [
        {
          "output_type": "display_data",
          "data": {
            "text/plain": [
              "[1] 95.45"
            ],
            "text/latex": "95.45",
            "text/markdown": "95.45",
            "text/html": [
              "95.45"
            ]
          },
          "metadata": {
            "tags": []
          }
        }
      ]
    },
    {
      "cell_type": "markdown",
      "metadata": {
        "id": "33tjkKZeR0jW"
      },
      "source": [
        "The true population mean contained with the 10,000 confidence intervals is 95.45%"
      ]
    },
    {
      "cell_type": "code",
      "metadata": {
        "id": "jgPqq0eYRmKd"
      },
      "source": [
        ""
      ],
      "execution_count": null,
      "outputs": []
    }
  ]
}