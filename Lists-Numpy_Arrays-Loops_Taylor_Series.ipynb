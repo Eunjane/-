{
 "cells": [
  {
   "cell_type": "code",
   "execution_count": 4,
   "id": "b27658ab",
   "metadata": {},
   "outputs": [],
   "source": [
    "import numpy as np\n",
    "import matplotlib.pyplot as plt\n",
    "\n",
    "import scipy.special  as sfactorial\n",
    "%matplotlib inline"
   ]
  },
  {
   "cell_type": "code",
   "execution_count": 11,
   "id": "dabdd5e6",
   "metadata": {},
   "outputs": [],
   "source": [
    "hal = [\"Hello\",\"Dave,\",\"would\",\"you\",\"like\",\"to\",\"play\",\"a\",\"game\",\"of\",\"chess?\"]"
   ]
  },
  {
   "cell_type": "markdown",
   "id": "ec4163c5",
   "metadata": {},
   "source": [
    "Use len(hal)"
   ]
  },
  {
   "cell_type": "code",
   "execution_count": 12,
   "id": "23e5c6fa",
   "metadata": {},
   "outputs": [
    {
     "name": "stdout",
     "output_type": "stream",
     "text": [
      "Hello\n",
      "Dave,\n",
      "chess?\n"
     ]
    }
   ],
   "source": [
    "print (hal[0])\n",
    "print (hal[1])\n",
    "print (hal[len(hal)-1])"
   ]
  },
  {
   "cell_type": "code",
   "execution_count": 13,
   "id": "a918abbd",
   "metadata": {},
   "outputs": [
    {
     "name": "stdout",
     "output_type": "stream",
     "text": [
      "Hello\n",
      "Dave,\n",
      "would\n",
      "you\n",
      "like\n",
      "to\n",
      "play\n",
      "a\n",
      "game\n",
      "of\n",
      "chess?\n"
     ]
    }
   ],
   "source": [
    "for jj in range(0,len(hal)):\n",
    "    print(hal[jj])"
   ]
  },
  {
   "cell_type": "markdown",
   "id": "f07bc56e",
   "metadata": {},
   "source": [
    "range(0,len(hal)) one short of len(hal)\n",
    "range(0,5) for example prints 0,1,2,3,4"
   ]
  },
  {
   "cell_type": "code",
   "execution_count": 14,
   "id": "d256dd8c",
   "metadata": {},
   "outputs": [
    {
     "name": "stdout",
     "output_type": "stream",
     "text": [
      "range(0, 11)\n"
     ]
    }
   ],
   "source": [
    "print(range(0,len(hal)))"
   ]
  },
  {
   "cell_type": "markdown",
   "id": "5db1b767",
   "metadata": {},
   "source": [
    "In python we can alternatively iterate through values compared to lists of indices"
   ]
  },
  {
   "cell_type": "code",
   "execution_count": 15,
   "id": "88c600e3",
   "metadata": {},
   "outputs": [
    {
     "name": "stdout",
     "output_type": "stream",
     "text": [
      "Hello\n",
      "Dave,\n",
      "would\n",
      "you\n",
      "like\n",
      "to\n",
      "play\n",
      "a\n",
      "game\n",
      "of\n",
      "chess?\n"
     ]
    }
   ],
   "source": [
    "for word in hal:\n",
    "    print(word)"
   ]
  },
  {
   "cell_type": "code",
   "execution_count": 16,
   "id": "10dd4c17",
   "metadata": {},
   "outputs": [
    {
     "name": "stdout",
     "output_type": "stream",
     "text": [
      "Hello\n",
      "Dave,\n",
      "would\n",
      "you\n",
      "like\n",
      "to\n",
      "play\n",
      "a\n",
      "game\n",
      "of\n",
      "chess?\n"
     ]
    }
   ],
   "source": [
    "for ii in hal:\n",
    "    print(ii)"
   ]
  },
  {
   "cell_type": "code",
   "execution_count": 19,
   "id": "0c6cd5bc",
   "metadata": {},
   "outputs": [
    {
     "name": "stdout",
     "output_type": "stream",
     "text": [
      "[ 1.  2.  3.  4.  5.  6.  7.  8.  9. 10.]\n",
      "[1.0, 4.0, 9.0, 16.0, 25.0, 36.0, 49.0, 64.0, 81.0, 100.0]\n"
     ]
    }
   ],
   "source": [
    "xvals = np.linspace(1,10,int(10))\n",
    "xsquared = [square**2 for square in xvals]\n",
    "print(xvals)\n",
    "print(xsquared)"
   ]
  },
  {
   "cell_type": "code",
   "execution_count": 20,
   "id": "d76621a8",
   "metadata": {},
   "outputs": [
    {
     "name": "stdout",
     "output_type": "stream",
     "text": [
      "1.0\n",
      "1.0\n",
      "\n",
      "2.0\n",
      "4.0\n",
      "\n",
      "3.0\n",
      "9.0\n",
      "\n",
      "4.0\n",
      "16.0\n",
      "\n",
      "5.0\n",
      "25.0\n",
      "\n",
      "6.0\n",
      "36.0\n",
      "\n",
      "7.0\n",
      "49.0\n",
      "\n",
      "8.0\n",
      "64.0\n",
      "\n",
      "9.0\n",
      "81.0\n",
      "\n",
      "10.0\n",
      "100.0\n",
      "\n"
     ]
    }
   ],
   "source": [
    "# An alternative code to compute square of numbers from 1 to 10\n",
    "xvals = np.linspace(1,10,int(10))\n",
    "yvals = np.ones(10)\n",
    "for kk in range(0,len(xvals)):\n",
    "    yvals[kk] = xvals[kk]**2\n",
    "    print (xvals[kk])\n",
    "    print (yvals[kk])\n",
    "    print()"
   ]
  },
  {
   "cell_type": "code",
   "execution_count": 21,
   "id": "7e5fecb8",
   "metadata": {},
   "outputs": [
    {
     "name": "stdout",
     "output_type": "stream",
     "text": [
      "1.0\n",
      "2.0\n",
      "3.0\n",
      "4.0\n",
      "5.0\n",
      "6.0\n",
      "7.0\n",
      "8.0\n",
      "9.0\n",
      "10.0\n",
      "The sum of the squares of the first 10 integers is 385 \n"
     ]
    }
   ],
   "source": [
    "# write your code here\n",
    "xvals = np.linspace(1,10,int(10))\n",
    "sum = 0\n",
    "for kk in range(0,len(xvals)):\n",
    "    sum += xvals[kk]**2\n",
    "    print (xvals[kk])\n",
    "print ('The sum of the squares of the first 10 integers is %d ' % sum)"
   ]
  },
  {
   "cell_type": "markdown",
   "id": "6fff57b8",
   "metadata": {},
   "source": [
    "The iteration by value is very convenient, and is very convenient in python. Now let's consider the step function\n",
    "if - else\n",
    "if(condition is satisfied)\n",
    "    do this\n",
    "else\n",
    "    do this"
   ]
  },
  {
   "cell_type": "code",
   "execution_count": 27,
   "id": "02e0be40",
   "metadata": {},
   "outputs": [],
   "source": [
    "def step_func(x):\n",
    "    if x>=5.:\n",
    "        return 5.4\n",
    "    elif x>=2.:\n",
    "        return 3.13\n",
    "    elif x>=1.:\n",
    "        return -4.2\n",
    "    elif x>=-3.:\n",
    "        return 3.13\n",
    "    else:\n",
    "        return -10."
   ]
  },
  {
   "cell_type": "code",
   "execution_count": 29,
   "id": "90772e24",
   "metadata": {},
   "outputs": [
    {
     "data": {
      "text/plain": [
       "5.4"
      ]
     },
     "execution_count": 29,
     "metadata": {},
     "output_type": "execute_result"
    }
   ],
   "source": [
    "step_func(6)"
   ]
  },
  {
   "cell_type": "code",
   "execution_count": 30,
   "id": "aa499b21",
   "metadata": {},
   "outputs": [
    {
     "data": {
      "text/plain": [
       "[<matplotlib.lines.Line2D at 0x7fa61260ebb0>]"
      ]
     },
     "execution_count": 30,
     "metadata": {},
     "output_type": "execute_result"
    },
    {
     "data": {
      "image/png": "[encoded data removed]",
      "text/plain": [
       "<Figure size 432x288 with 1 Axes>"
      ]
     },
     "metadata": {
      "needs_background": "light"
     },
     "output_type": "display_data"
    }
   ],
   "source": [
    "xvals = np.linspace(-7.,8.,int(1e4))\n",
    "yvals = [step_func(ii) for ii in xvals] # Note use of list comprehension to generate range of function.\n",
    "\n",
    "plt.plot(xvals,yvals)"
   ]
  },
  {
   "cell_type": "markdown",
   "id": "4cec8c10",
   "metadata": {},
   "source": [
    "$\\textbf{Vectorization in NumPy}$\n",
    "\n",
    "This is a feature whereby instead of explicitly calling a loop, NumPy just knows how to iterate over every entry in efficient manner"
   ]
  },
  {
   "cell_type": "code",
   "execution_count": 32,
   "id": "052b8477",
   "metadata": {},
   "outputs": [
    {
     "name": "stdout",
     "output_type": "stream",
     "text": [
      "[ 1.  2.  3.  4.  5.  6.  7.  8.  9. 10.]\n",
      "[1.0, 4.0, 9.0, 16.0, 25.0, 36.0, 49.0, 64.0, 81.0, 100.0]\n"
     ]
    }
   ],
   "source": [
    "#non vectorized \n",
    "xvals = np.linspace(1.,10,int(10))\n",
    "yvals = [(ii)**2 for ii in xvals] #list \n",
    "print(xvals)\n",
    "print(yvals)"
   ]
  },
  {
   "cell_type": "code",
   "execution_count": 33,
   "id": "0046bd37",
   "metadata": {},
   "outputs": [
    {
     "name": "stdout",
     "output_type": "stream",
     "text": [
      "[ 1.  2.  3.  4.  5.  6.  7.  8.  9. 10.]\n",
      "[  1.   4.   9.  16.  25.  36.  49.  64.  81. 100.]\n"
     ]
    }
   ],
   "source": [
    "#vectorized\n",
    "xvals = np.linspace(1.,10,int(10))\n",
    "yvals = xvals**2\n",
    "print(xvals)\n",
    "print(yvals)"
   ]
  },
  {
   "cell_type": "markdown",
   "id": "d3d78dad",
   "metadata": {},
   "source": [
    "We will soon learn how to time code, which helps us appreciate the vectorized code and python in general"
   ]
  },
  {
   "cell_type": "code",
   "execution_count": 34,
   "id": "ff286e82",
   "metadata": {},
   "outputs": [
    {
     "name": "stdout",
     "output_type": "stream",
     "text": [
      "[2. 3. 8. 9.]\n"
     ]
    }
   ],
   "source": [
    "# An illustration of vectorization in NumPy\n",
    "kvals = [4, 9, 64, 81]\n",
    "print (np.sqrt(kvals)) #it prints the square root \n",
    "                     #of all the elements in kval"
   ]
  },
  {
   "cell_type": "markdown",
   "id": "b27b91c6",
   "metadata": {},
   "source": [
    "We can compute pi using the below formula\n",
    "\n",
    "$\\pi = \\lim_{n \\to \\infty} \\frac{4}{n^2} \\Sigma(k=0 \\space to \\space n)\\sqrt{n^2-k^2}$"
   ]
  },
  {
   "cell_type": "code",
   "execution_count": 35,
   "id": "15fb467d",
   "metadata": {},
   "outputs": [],
   "source": [
    "def pi_approx(n):\n",
    "    tot = 0.\n",
    "    nsq = n**2.\n",
    "    for kk in range(0,int(n)+1):\n",
    "        tot += np.sqrt(nsq-kk**2.)\n",
    "    return 4.*tot/nsq"
   ]
  },
  {
   "cell_type": "code",
   "execution_count": null,
   "id": "d825b554",
   "metadata": {},
   "outputs": [],
   "source": []
  }
 ],
 "metadata": {
  "kernelspec": {
   "display_name": "Python 3 (ipykernel)",
   "language": "python",
   "name": "python3"
  },
  "language_info": {
   "codemirror_mode": {
    "name": "ipython",
    "version": 3
   },
   "file_extension": ".py",
   "mimetype": "text/x-python",
   "name": "python",
   "nbconvert_exporter": "python",
   "pygments_lexer": "ipython3",
   "version": "3.9.7"
  }
 },
 "nbformat": 4,
 "nbformat_minor": 5
}
